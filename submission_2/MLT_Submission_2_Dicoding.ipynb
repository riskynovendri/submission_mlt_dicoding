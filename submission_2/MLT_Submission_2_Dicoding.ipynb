{
  "nbformat": 4,
  "nbformat_minor": 0,
  "metadata": {
    "colab": {
      "provenance": [],
      "gpuType": "T4",
      "collapsed_sections": [
        "uTpqDm_wxHJ7"
      ]
    },
    "kernelspec": {
      "name": "python3",
      "display_name": "Python 3"
    },
    "language_info": {
      "name": "python"
    }
  },
  "cells": [
    {
      "cell_type": "markdown",
      "source": [
        "System Rekomendasi Buku menggunakan Collaborative Filtering - Risky Novendri"
      ],
      "metadata": {
        "id": "T4YCd1MZmizb"
      }
    },
    {
      "cell_type": "markdown",
      "source": [
        "# Load Dataset"
      ],
      "metadata": {
        "id": "uTpqDm_wxHJ7"
      }
    },
    {
      "cell_type": "markdown",
      "source": [
        "Download dataset dari kaggle dan pindahkan ke dalam Google drive"
      ],
      "metadata": {
        "id": "iGa4l5fQFfV5"
      }
    },
    {
      "cell_type": "code",
      "source": [
        "#Set kaggle API\n",
        "import os\n",
        "os.environ['KAGGLE_USERNAME'] = \"riskynovendri\"\n",
        "os.environ['KAGGLE_KEY'] = \"dd57766230ed28e08a6bbed6903c7745\""
      ],
      "metadata": {
        "id": "3mf1BQUWo25K"
      },
      "execution_count": null,
      "outputs": []
    },
    {
      "cell_type": "code",
      "source": [
        "#Download dataset\n",
        "!kaggle datasets download -d arashnic/book-recommendation-dataset"
      ],
      "metadata": {
        "id": "uBihSyUSJ2Gu"
      },
      "execution_count": null,
      "outputs": []
    },
    {
      "cell_type": "code",
      "source": [
        "#Move to Gdrive\n",
        "!mv /content/book-recommendation-dataset.zip /content/drive/MyDrive/"
      ],
      "metadata": {
        "id": "HZKwbYAgpY1_"
      },
      "execution_count": null,
      "outputs": []
    },
    {
      "cell_type": "code",
      "source": [
        "import zipfile\n",
        "zip_path = '/content/drive/MyDrive/book-recommendation-dataset.zip'"
      ],
      "metadata": {
        "id": "KSGUSGL3qL3f"
      },
      "execution_count": null,
      "outputs": []
    },
    {
      "cell_type": "code",
      "source": [
        "## Extract Dataset\n",
        "with zipfile.ZipFile(zip_path, 'r') as zip_ref:\n",
        "    zip_ref.extractall('/content/drive/MyDrive/MLT Submission 2 Dataset')"
      ],
      "metadata": {
        "id": "HaiIPXaZqWH3"
      },
      "execution_count": null,
      "outputs": []
    },
    {
      "cell_type": "markdown",
      "source": [
        "Import library yang dibutuhkan untuk membangun sistem rekomendasi"
      ],
      "metadata": {
        "id": "cPIwCiQUBdvi"
      }
    },
    {
      "cell_type": "code",
      "execution_count": null,
      "metadata": {
        "id": "_v_LWxQMG8Eg"
      },
      "outputs": [],
      "source": [
        "#Import Library\n",
        "import pandas as pd\n",
        "import numpy as np\n",
        "from sklearn.model_selection import train_test_split\n",
        "from sklearn.metrics import mean_squared_error\n",
        "from scipy.sparse.linalg import svds\n",
        "from tensorflow.keras.models import Model\n",
        "from tensorflow.keras.layers import Input, Embedding, concatenate, Dense, Flatten, Dropout\n",
        "from tensorflow.keras.optimizers import Adam\n",
        "from tensorflow.keras.callbacks import ModelCheckpoint\n",
        "from tensorflow.keras import metrics\n",
        "from tensorflow import keras"
      ]
    },
    {
      "cell_type": "markdown",
      "source": [
        "Load semua dataset yang ada yaitu User, Rating dan Books"
      ],
      "metadata": {
        "id": "3An7WUu9Bk6i"
      }
    },
    {
      "cell_type": "code",
      "source": [
        "users = pd.read_csv('/content/drive/MyDrive/MLT Submission 2 Dataset/Users.csv')"
      ],
      "metadata": {
        "id": "c4LlAxLrnhNJ"
      },
      "execution_count": null,
      "outputs": []
    },
    {
      "cell_type": "code",
      "source": [
        "users"
      ],
      "metadata": {
        "id": "XxfrXQ5VrGtU",
        "colab": {
          "base_uri": "https://localhost:8080/",
          "height": 424
        },
        "outputId": "224c7c52-7913-4f21-b88d-913d4b6089e6"
      },
      "execution_count": null,
      "outputs": [
        {
          "output_type": "execute_result",
          "data": {
            "text/plain": [
              "        User-ID                            Location   Age\n",
              "0             1                  nyc, new york, usa   NaN\n",
              "1             2           stockton, california, usa  18.0\n",
              "2             3     moscow, yukon territory, russia   NaN\n",
              "3             4           porto, v.n.gaia, portugal  17.0\n",
              "4             5  farnborough, hants, united kingdom   NaN\n",
              "...         ...                                 ...   ...\n",
              "278853   278854               portland, oregon, usa   NaN\n",
              "278854   278855  tacoma, washington, united kingdom  50.0\n",
              "278855   278856           brampton, ontario, canada   NaN\n",
              "278856   278857           knoxville, tennessee, usa   NaN\n",
              "278857   278858                dublin, n/a, ireland   NaN\n",
              "\n",
              "[278858 rows x 3 columns]"
            ],
            "text/html": [
              "\n",
              "  <div id=\"df-0d6a16be-5812-4925-a3c7-85e6e0bdd6dc\">\n",
              "    <div class=\"colab-df-container\">\n",
              "      <div>\n",
              "<style scoped>\n",
              "    .dataframe tbody tr th:only-of-type {\n",
              "        vertical-align: middle;\n",
              "    }\n",
              "\n",
              "    .dataframe tbody tr th {\n",
              "        vertical-align: top;\n",
              "    }\n",
              "\n",
              "    .dataframe thead th {\n",
              "        text-align: right;\n",
              "    }\n",
              "</style>\n",
              "<table border=\"1\" class=\"dataframe\">\n",
              "  <thead>\n",
              "    <tr style=\"text-align: right;\">\n",
              "      <th></th>\n",
              "      <th>User-ID</th>\n",
              "      <th>Location</th>\n",
              "      <th>Age</th>\n",
              "    </tr>\n",
              "  </thead>\n",
              "  <tbody>\n",
              "    <tr>\n",
              "      <th>0</th>\n",
              "      <td>1</td>\n",
              "      <td>nyc, new york, usa</td>\n",
              "      <td>NaN</td>\n",
              "    </tr>\n",
              "    <tr>\n",
              "      <th>1</th>\n",
              "      <td>2</td>\n",
              "      <td>stockton, california, usa</td>\n",
              "      <td>18.0</td>\n",
              "    </tr>\n",
              "    <tr>\n",
              "      <th>2</th>\n",
              "      <td>3</td>\n",
              "      <td>moscow, yukon territory, russia</td>\n",
              "      <td>NaN</td>\n",
              "    </tr>\n",
              "    <tr>\n",
              "      <th>3</th>\n",
              "      <td>4</td>\n",
              "      <td>porto, v.n.gaia, portugal</td>\n",
              "      <td>17.0</td>\n",
              "    </tr>\n",
              "    <tr>\n",
              "      <th>4</th>\n",
              "      <td>5</td>\n",
              "      <td>farnborough, hants, united kingdom</td>\n",
              "      <td>NaN</td>\n",
              "    </tr>\n",
              "    <tr>\n",
              "      <th>...</th>\n",
              "      <td>...</td>\n",
              "      <td>...</td>\n",
              "      <td>...</td>\n",
              "    </tr>\n",
              "    <tr>\n",
              "      <th>278853</th>\n",
              "      <td>278854</td>\n",
              "      <td>portland, oregon, usa</td>\n",
              "      <td>NaN</td>\n",
              "    </tr>\n",
              "    <tr>\n",
              "      <th>278854</th>\n",
              "      <td>278855</td>\n",
              "      <td>tacoma, washington, united kingdom</td>\n",
              "      <td>50.0</td>\n",
              "    </tr>\n",
              "    <tr>\n",
              "      <th>278855</th>\n",
              "      <td>278856</td>\n",
              "      <td>brampton, ontario, canada</td>\n",
              "      <td>NaN</td>\n",
              "    </tr>\n",
              "    <tr>\n",
              "      <th>278856</th>\n",
              "      <td>278857</td>\n",
              "      <td>knoxville, tennessee, usa</td>\n",
              "      <td>NaN</td>\n",
              "    </tr>\n",
              "    <tr>\n",
              "      <th>278857</th>\n",
              "      <td>278858</td>\n",
              "      <td>dublin, n/a, ireland</td>\n",
              "      <td>NaN</td>\n",
              "    </tr>\n",
              "  </tbody>\n",
              "</table>\n",
              "<p>278858 rows × 3 columns</p>\n",
              "</div>\n",
              "      <button class=\"colab-df-convert\" onclick=\"convertToInteractive('df-0d6a16be-5812-4925-a3c7-85e6e0bdd6dc')\"\n",
              "              title=\"Convert this dataframe to an interactive table.\"\n",
              "              style=\"display:none;\">\n",
              "        \n",
              "  <svg xmlns=\"http://www.w3.org/2000/svg\" height=\"24px\"viewBox=\"0 0 24 24\"\n",
              "       width=\"24px\">\n",
              "    <path d=\"M0 0h24v24H0V0z\" fill=\"none\"/>\n",
              "    <path d=\"M18.56 5.44l.94 2.06.94-2.06 2.06-.94-2.06-.94-.94-2.06-.94 2.06-2.06.94zm-11 1L8.5 8.5l.94-2.06 2.06-.94-2.06-.94L8.5 2.5l-.94 2.06-2.06.94zm10 10l.94 2.06.94-2.06 2.06-.94-2.06-.94-.94-2.06-.94 2.06-2.06.94z\"/><path d=\"M17.41 7.96l-1.37-1.37c-.4-.4-.92-.59-1.43-.59-.52 0-1.04.2-1.43.59L10.3 9.45l-7.72 7.72c-.78.78-.78 2.05 0 2.83L4 21.41c.39.39.9.59 1.41.59.51 0 1.02-.2 1.41-.59l7.78-7.78 2.81-2.81c.8-.78.8-2.07 0-2.86zM5.41 20L4 18.59l7.72-7.72 1.47 1.35L5.41 20z\"/>\n",
              "  </svg>\n",
              "      </button>\n",
              "      \n",
              "  <style>\n",
              "    .colab-df-container {\n",
              "      display:flex;\n",
              "      flex-wrap:wrap;\n",
              "      gap: 12px;\n",
              "    }\n",
              "\n",
              "    .colab-df-convert {\n",
              "      background-color: #E8F0FE;\n",
              "      border: none;\n",
              "      border-radius: 50%;\n",
              "      cursor: pointer;\n",
              "      display: none;\n",
              "      fill: #1967D2;\n",
              "      height: 32px;\n",
              "      padding: 0 0 0 0;\n",
              "      width: 32px;\n",
              "    }\n",
              "\n",
              "    .colab-df-convert:hover {\n",
              "      background-color: #E2EBFA;\n",
              "      box-shadow: 0px 1px 2px rgba(60, 64, 67, 0.3), 0px 1px 3px 1px rgba(60, 64, 67, 0.15);\n",
              "      fill: #174EA6;\n",
              "    }\n",
              "\n",
              "    [theme=dark] .colab-df-convert {\n",
              "      background-color: #3B4455;\n",
              "      fill: #D2E3FC;\n",
              "    }\n",
              "\n",
              "    [theme=dark] .colab-df-convert:hover {\n",
              "      background-color: #434B5C;\n",
              "      box-shadow: 0px 1px 3px 1px rgba(0, 0, 0, 0.15);\n",
              "      filter: drop-shadow(0px 1px 2px rgba(0, 0, 0, 0.3));\n",
              "      fill: #FFFFFF;\n",
              "    }\n",
              "  </style>\n",
              "\n",
              "      <script>\n",
              "        const buttonEl =\n",
              "          document.querySelector('#df-0d6a16be-5812-4925-a3c7-85e6e0bdd6dc button.colab-df-convert');\n",
              "        buttonEl.style.display =\n",
              "          google.colab.kernel.accessAllowed ? 'block' : 'none';\n",
              "\n",
              "        async function convertToInteractive(key) {\n",
              "          const element = document.querySelector('#df-0d6a16be-5812-4925-a3c7-85e6e0bdd6dc');\n",
              "          const dataTable =\n",
              "            await google.colab.kernel.invokeFunction('convertToInteractive',\n",
              "                                                     [key], {});\n",
              "          if (!dataTable) return;\n",
              "\n",
              "          const docLinkHtml = 'Like what you see? Visit the ' +\n",
              "            '<a target=\"_blank\" href=https://colab.research.google.com/notebooks/data_table.ipynb>data table notebook</a>'\n",
              "            + ' to learn more about interactive tables.';\n",
              "          element.innerHTML = '';\n",
              "          dataTable['output_type'] = 'display_data';\n",
              "          await google.colab.output.renderOutput(dataTable, element);\n",
              "          const docLink = document.createElement('div');\n",
              "          docLink.innerHTML = docLinkHtml;\n",
              "          element.appendChild(docLink);\n",
              "        }\n",
              "      </script>\n",
              "    </div>\n",
              "  </div>\n",
              "  "
            ]
          },
          "metadata": {},
          "execution_count": 11
        }
      ]
    },
    {
      "cell_type": "code",
      "source": [
        "rating = pd.read_csv('/content/drive/MyDrive/MLT Submission 2 Dataset/Ratings.csv')"
      ],
      "metadata": {
        "id": "rLbWjJ4HBs1C"
      },
      "execution_count": null,
      "outputs": []
    },
    {
      "cell_type": "code",
      "source": [
        "book = pd.read_csv('/content/drive/MyDrive/MLT Submission 2 Dataset/Books.csv')"
      ],
      "metadata": {
        "colab": {
          "base_uri": "https://localhost:8080/"
        },
        "id": "WdCvI6_iBzJS",
        "outputId": "2060e41a-ebc8-4d11-b7af-49b14cd24ed0"
      },
      "execution_count": null,
      "outputs": [
        {
          "output_type": "stream",
          "name": "stderr",
          "text": [
            "<ipython-input-13-c4b427baf1e0>:1: DtypeWarning: Columns (3) have mixed types. Specify dtype option on import or set low_memory=False.\n",
            "  book = pd.read_csv('/content/drive/MyDrive/MLT Submission 2 Dataset/Books.csv')\n"
          ]
        }
      ]
    },
    {
      "cell_type": "code",
      "source": [
        "rating"
      ],
      "metadata": {
        "colab": {
          "base_uri": "https://localhost:8080/",
          "height": 424
        },
        "id": "eg0Vd7tmB6U6",
        "outputId": "68e978ea-76da-4001-8ae7-8c476d93c193"
      },
      "execution_count": null,
      "outputs": [
        {
          "output_type": "execute_result",
          "data": {
            "text/plain": [
              "         User-ID         ISBN  Book-Rating\n",
              "0         276725   034545104X            0\n",
              "1         276726   0155061224            5\n",
              "2         276727   0446520802            0\n",
              "3         276729   052165615X            3\n",
              "4         276729   0521795028            6\n",
              "...          ...          ...          ...\n",
              "1149775   276704   1563526298            9\n",
              "1149776   276706   0679447156            0\n",
              "1149777   276709   0515107662           10\n",
              "1149778   276721   0590442449           10\n",
              "1149779   276723  05162443314            8\n",
              "\n",
              "[1149780 rows x 3 columns]"
            ],
            "text/html": [
              "\n",
              "  <div id=\"df-19b6a4a4-7793-43c7-bb75-096caf504292\">\n",
              "    <div class=\"colab-df-container\">\n",
              "      <div>\n",
              "<style scoped>\n",
              "    .dataframe tbody tr th:only-of-type {\n",
              "        vertical-align: middle;\n",
              "    }\n",
              "\n",
              "    .dataframe tbody tr th {\n",
              "        vertical-align: top;\n",
              "    }\n",
              "\n",
              "    .dataframe thead th {\n",
              "        text-align: right;\n",
              "    }\n",
              "</style>\n",
              "<table border=\"1\" class=\"dataframe\">\n",
              "  <thead>\n",
              "    <tr style=\"text-align: right;\">\n",
              "      <th></th>\n",
              "      <th>User-ID</th>\n",
              "      <th>ISBN</th>\n",
              "      <th>Book-Rating</th>\n",
              "    </tr>\n",
              "  </thead>\n",
              "  <tbody>\n",
              "    <tr>\n",
              "      <th>0</th>\n",
              "      <td>276725</td>\n",
              "      <td>034545104X</td>\n",
              "      <td>0</td>\n",
              "    </tr>\n",
              "    <tr>\n",
              "      <th>1</th>\n",
              "      <td>276726</td>\n",
              "      <td>0155061224</td>\n",
              "      <td>5</td>\n",
              "    </tr>\n",
              "    <tr>\n",
              "      <th>2</th>\n",
              "      <td>276727</td>\n",
              "      <td>0446520802</td>\n",
              "      <td>0</td>\n",
              "    </tr>\n",
              "    <tr>\n",
              "      <th>3</th>\n",
              "      <td>276729</td>\n",
              "      <td>052165615X</td>\n",
              "      <td>3</td>\n",
              "    </tr>\n",
              "    <tr>\n",
              "      <th>4</th>\n",
              "      <td>276729</td>\n",
              "      <td>0521795028</td>\n",
              "      <td>6</td>\n",
              "    </tr>\n",
              "    <tr>\n",
              "      <th>...</th>\n",
              "      <td>...</td>\n",
              "      <td>...</td>\n",
              "      <td>...</td>\n",
              "    </tr>\n",
              "    <tr>\n",
              "      <th>1149775</th>\n",
              "      <td>276704</td>\n",
              "      <td>1563526298</td>\n",
              "      <td>9</td>\n",
              "    </tr>\n",
              "    <tr>\n",
              "      <th>1149776</th>\n",
              "      <td>276706</td>\n",
              "      <td>0679447156</td>\n",
              "      <td>0</td>\n",
              "    </tr>\n",
              "    <tr>\n",
              "      <th>1149777</th>\n",
              "      <td>276709</td>\n",
              "      <td>0515107662</td>\n",
              "      <td>10</td>\n",
              "    </tr>\n",
              "    <tr>\n",
              "      <th>1149778</th>\n",
              "      <td>276721</td>\n",
              "      <td>0590442449</td>\n",
              "      <td>10</td>\n",
              "    </tr>\n",
              "    <tr>\n",
              "      <th>1149779</th>\n",
              "      <td>276723</td>\n",
              "      <td>05162443314</td>\n",
              "      <td>8</td>\n",
              "    </tr>\n",
              "  </tbody>\n",
              "</table>\n",
              "<p>1149780 rows × 3 columns</p>\n",
              "</div>\n",
              "      <button class=\"colab-df-convert\" onclick=\"convertToInteractive('df-19b6a4a4-7793-43c7-bb75-096caf504292')\"\n",
              "              title=\"Convert this dataframe to an interactive table.\"\n",
              "              style=\"display:none;\">\n",
              "        \n",
              "  <svg xmlns=\"http://www.w3.org/2000/svg\" height=\"24px\"viewBox=\"0 0 24 24\"\n",
              "       width=\"24px\">\n",
              "    <path d=\"M0 0h24v24H0V0z\" fill=\"none\"/>\n",
              "    <path d=\"M18.56 5.44l.94 2.06.94-2.06 2.06-.94-2.06-.94-.94-2.06-.94 2.06-2.06.94zm-11 1L8.5 8.5l.94-2.06 2.06-.94-2.06-.94L8.5 2.5l-.94 2.06-2.06.94zm10 10l.94 2.06.94-2.06 2.06-.94-2.06-.94-.94-2.06-.94 2.06-2.06.94z\"/><path d=\"M17.41 7.96l-1.37-1.37c-.4-.4-.92-.59-1.43-.59-.52 0-1.04.2-1.43.59L10.3 9.45l-7.72 7.72c-.78.78-.78 2.05 0 2.83L4 21.41c.39.39.9.59 1.41.59.51 0 1.02-.2 1.41-.59l7.78-7.78 2.81-2.81c.8-.78.8-2.07 0-2.86zM5.41 20L4 18.59l7.72-7.72 1.47 1.35L5.41 20z\"/>\n",
              "  </svg>\n",
              "      </button>\n",
              "      \n",
              "  <style>\n",
              "    .colab-df-container {\n",
              "      display:flex;\n",
              "      flex-wrap:wrap;\n",
              "      gap: 12px;\n",
              "    }\n",
              "\n",
              "    .colab-df-convert {\n",
              "      background-color: #E8F0FE;\n",
              "      border: none;\n",
              "      border-radius: 50%;\n",
              "      cursor: pointer;\n",
              "      display: none;\n",
              "      fill: #1967D2;\n",
              "      height: 32px;\n",
              "      padding: 0 0 0 0;\n",
              "      width: 32px;\n",
              "    }\n",
              "\n",
              "    .colab-df-convert:hover {\n",
              "      background-color: #E2EBFA;\n",
              "      box-shadow: 0px 1px 2px rgba(60, 64, 67, 0.3), 0px 1px 3px 1px rgba(60, 64, 67, 0.15);\n",
              "      fill: #174EA6;\n",
              "    }\n",
              "\n",
              "    [theme=dark] .colab-df-convert {\n",
              "      background-color: #3B4455;\n",
              "      fill: #D2E3FC;\n",
              "    }\n",
              "\n",
              "    [theme=dark] .colab-df-convert:hover {\n",
              "      background-color: #434B5C;\n",
              "      box-shadow: 0px 1px 3px 1px rgba(0, 0, 0, 0.15);\n",
              "      filter: drop-shadow(0px 1px 2px rgba(0, 0, 0, 0.3));\n",
              "      fill: #FFFFFF;\n",
              "    }\n",
              "  </style>\n",
              "\n",
              "      <script>\n",
              "        const buttonEl =\n",
              "          document.querySelector('#df-19b6a4a4-7793-43c7-bb75-096caf504292 button.colab-df-convert');\n",
              "        buttonEl.style.display =\n",
              "          google.colab.kernel.accessAllowed ? 'block' : 'none';\n",
              "\n",
              "        async function convertToInteractive(key) {\n",
              "          const element = document.querySelector('#df-19b6a4a4-7793-43c7-bb75-096caf504292');\n",
              "          const dataTable =\n",
              "            await google.colab.kernel.invokeFunction('convertToInteractive',\n",
              "                                                     [key], {});\n",
              "          if (!dataTable) return;\n",
              "\n",
              "          const docLinkHtml = 'Like what you see? Visit the ' +\n",
              "            '<a target=\"_blank\" href=https://colab.research.google.com/notebooks/data_table.ipynb>data table notebook</a>'\n",
              "            + ' to learn more about interactive tables.';\n",
              "          element.innerHTML = '';\n",
              "          dataTable['output_type'] = 'display_data';\n",
              "          await google.colab.output.renderOutput(dataTable, element);\n",
              "          const docLink = document.createElement('div');\n",
              "          docLink.innerHTML = docLinkHtml;\n",
              "          element.appendChild(docLink);\n",
              "        }\n",
              "      </script>\n",
              "    </div>\n",
              "  </div>\n",
              "  "
            ]
          },
          "metadata": {},
          "execution_count": 14
        }
      ]
    },
    {
      "cell_type": "code",
      "source": [
        "book"
      ],
      "metadata": {
        "colab": {
          "base_uri": "https://localhost:8080/",
          "height": 728
        },
        "id": "S1dOGDPJB7xF",
        "outputId": "bdd05a54-2a71-4d5d-998a-e51acbf5017a"
      },
      "execution_count": null,
      "outputs": [
        {
          "output_type": "execute_result",
          "data": {
            "text/plain": [
              "              ISBN                                         Book-Title  \\\n",
              "0       0195153448                                Classical Mythology   \n",
              "1       0002005018                                       Clara Callan   \n",
              "2       0060973129                               Decision in Normandy   \n",
              "3       0374157065  Flu: The Story of the Great Influenza Pandemic...   \n",
              "4       0393045218                             The Mummies of Urumchi   \n",
              "...            ...                                                ...   \n",
              "271355  0440400988                         There's a Bat in Bunk Five   \n",
              "271356  0525447644                            From One to One Hundred   \n",
              "271357  006008667X  Lily Dale : The True Story of the Town that Ta...   \n",
              "271358  0192126040                        Republic (World's Classics)   \n",
              "271359  0767409752  A Guided Tour of Rene Descartes' Meditations o...   \n",
              "\n",
              "                 Book-Author Year-Of-Publication  \\\n",
              "0         Mark P. O. Morford                2002   \n",
              "1       Richard Bruce Wright                2001   \n",
              "2               Carlo D'Este                1991   \n",
              "3           Gina Bari Kolata                1999   \n",
              "4            E. J. W. Barber                1999   \n",
              "...                      ...                 ...   \n",
              "271355        Paula Danziger                1988   \n",
              "271356            Teri Sloat                1991   \n",
              "271357      Christine Wicker                2004   \n",
              "271358                 Plato                1996   \n",
              "271359   Christopher  Biffle                2000   \n",
              "\n",
              "                                               Publisher  \\\n",
              "0                                Oxford University Press   \n",
              "1                                  HarperFlamingo Canada   \n",
              "2                                        HarperPerennial   \n",
              "3                                   Farrar Straus Giroux   \n",
              "4                             W. W. Norton &amp; Company   \n",
              "...                                                  ...   \n",
              "271355                   Random House Childrens Pub (Mm)   \n",
              "271356                                      Dutton Books   \n",
              "271357                                HarperSanFrancisco   \n",
              "271358                           Oxford University Press   \n",
              "271359  McGraw-Hill Humanities/Social Sciences/Languages   \n",
              "\n",
              "                                              Image-URL-S  \\\n",
              "0       http://images.amazon.com/images/P/0195153448.0...   \n",
              "1       http://images.amazon.com/images/P/0002005018.0...   \n",
              "2       http://images.amazon.com/images/P/0060973129.0...   \n",
              "3       http://images.amazon.com/images/P/0374157065.0...   \n",
              "4       http://images.amazon.com/images/P/0393045218.0...   \n",
              "...                                                   ...   \n",
              "271355  http://images.amazon.com/images/P/0440400988.0...   \n",
              "271356  http://images.amazon.com/images/P/0525447644.0...   \n",
              "271357  http://images.amazon.com/images/P/006008667X.0...   \n",
              "271358  http://images.amazon.com/images/P/0192126040.0...   \n",
              "271359  http://images.amazon.com/images/P/0767409752.0...   \n",
              "\n",
              "                                              Image-URL-M  \\\n",
              "0       http://images.amazon.com/images/P/0195153448.0...   \n",
              "1       http://images.amazon.com/images/P/0002005018.0...   \n",
              "2       http://images.amazon.com/images/P/0060973129.0...   \n",
              "3       http://images.amazon.com/images/P/0374157065.0...   \n",
              "4       http://images.amazon.com/images/P/0393045218.0...   \n",
              "...                                                   ...   \n",
              "271355  http://images.amazon.com/images/P/0440400988.0...   \n",
              "271356  http://images.amazon.com/images/P/0525447644.0...   \n",
              "271357  http://images.amazon.com/images/P/006008667X.0...   \n",
              "271358  http://images.amazon.com/images/P/0192126040.0...   \n",
              "271359  http://images.amazon.com/images/P/0767409752.0...   \n",
              "\n",
              "                                              Image-URL-L  \n",
              "0       http://images.amazon.com/images/P/0195153448.0...  \n",
              "1       http://images.amazon.com/images/P/0002005018.0...  \n",
              "2       http://images.amazon.com/images/P/0060973129.0...  \n",
              "3       http://images.amazon.com/images/P/0374157065.0...  \n",
              "4       http://images.amazon.com/images/P/0393045218.0...  \n",
              "...                                                   ...  \n",
              "271355  http://images.amazon.com/images/P/0440400988.0...  \n",
              "271356  http://images.amazon.com/images/P/0525447644.0...  \n",
              "271357  http://images.amazon.com/images/P/006008667X.0...  \n",
              "271358  http://images.amazon.com/images/P/0192126040.0...  \n",
              "271359  http://images.amazon.com/images/P/0767409752.0...  \n",
              "\n",
              "[271360 rows x 8 columns]"
            ],
            "text/html": [
              "\n",
              "  <div id=\"df-45db37e3-94d9-4d3d-8fa7-5d79111fa9ab\">\n",
              "    <div class=\"colab-df-container\">\n",
              "      <div>\n",
              "<style scoped>\n",
              "    .dataframe tbody tr th:only-of-type {\n",
              "        vertical-align: middle;\n",
              "    }\n",
              "\n",
              "    .dataframe tbody tr th {\n",
              "        vertical-align: top;\n",
              "    }\n",
              "\n",
              "    .dataframe thead th {\n",
              "        text-align: right;\n",
              "    }\n",
              "</style>\n",
              "<table border=\"1\" class=\"dataframe\">\n",
              "  <thead>\n",
              "    <tr style=\"text-align: right;\">\n",
              "      <th></th>\n",
              "      <th>ISBN</th>\n",
              "      <th>Book-Title</th>\n",
              "      <th>Book-Author</th>\n",
              "      <th>Year-Of-Publication</th>\n",
              "      <th>Publisher</th>\n",
              "      <th>Image-URL-S</th>\n",
              "      <th>Image-URL-M</th>\n",
              "      <th>Image-URL-L</th>\n",
              "    </tr>\n",
              "  </thead>\n",
              "  <tbody>\n",
              "    <tr>\n",
              "      <th>0</th>\n",
              "      <td>0195153448</td>\n",
              "      <td>Classical Mythology</td>\n",
              "      <td>Mark P. O. Morford</td>\n",
              "      <td>2002</td>\n",
              "      <td>Oxford University Press</td>\n",
              "      <td>http://images.amazon.com/images/P/0195153448.0...</td>\n",
              "      <td>http://images.amazon.com/images/P/0195153448.0...</td>\n",
              "      <td>http://images.amazon.com/images/P/0195153448.0...</td>\n",
              "    </tr>\n",
              "    <tr>\n",
              "      <th>1</th>\n",
              "      <td>0002005018</td>\n",
              "      <td>Clara Callan</td>\n",
              "      <td>Richard Bruce Wright</td>\n",
              "      <td>2001</td>\n",
              "      <td>HarperFlamingo Canada</td>\n",
              "      <td>http://images.amazon.com/images/P/0002005018.0...</td>\n",
              "      <td>http://images.amazon.com/images/P/0002005018.0...</td>\n",
              "      <td>http://images.amazon.com/images/P/0002005018.0...</td>\n",
              "    </tr>\n",
              "    <tr>\n",
              "      <th>2</th>\n",
              "      <td>0060973129</td>\n",
              "      <td>Decision in Normandy</td>\n",
              "      <td>Carlo D'Este</td>\n",
              "      <td>1991</td>\n",
              "      <td>HarperPerennial</td>\n",
              "      <td>http://images.amazon.com/images/P/0060973129.0...</td>\n",
              "      <td>http://images.amazon.com/images/P/0060973129.0...</td>\n",
              "      <td>http://images.amazon.com/images/P/0060973129.0...</td>\n",
              "    </tr>\n",
              "    <tr>\n",
              "      <th>3</th>\n",
              "      <td>0374157065</td>\n",
              "      <td>Flu: The Story of the Great Influenza Pandemic...</td>\n",
              "      <td>Gina Bari Kolata</td>\n",
              "      <td>1999</td>\n",
              "      <td>Farrar Straus Giroux</td>\n",
              "      <td>http://images.amazon.com/images/P/0374157065.0...</td>\n",
              "      <td>http://images.amazon.com/images/P/0374157065.0...</td>\n",
              "      <td>http://images.amazon.com/images/P/0374157065.0...</td>\n",
              "    </tr>\n",
              "    <tr>\n",
              "      <th>4</th>\n",
              "      <td>0393045218</td>\n",
              "      <td>The Mummies of Urumchi</td>\n",
              "      <td>E. J. W. Barber</td>\n",
              "      <td>1999</td>\n",
              "      <td>W. W. Norton &amp;amp; Company</td>\n",
              "      <td>http://images.amazon.com/images/P/0393045218.0...</td>\n",
              "      <td>http://images.amazon.com/images/P/0393045218.0...</td>\n",
              "      <td>http://images.amazon.com/images/P/0393045218.0...</td>\n",
              "    </tr>\n",
              "    <tr>\n",
              "      <th>...</th>\n",
              "      <td>...</td>\n",
              "      <td>...</td>\n",
              "      <td>...</td>\n",
              "      <td>...</td>\n",
              "      <td>...</td>\n",
              "      <td>...</td>\n",
              "      <td>...</td>\n",
              "      <td>...</td>\n",
              "    </tr>\n",
              "    <tr>\n",
              "      <th>271355</th>\n",
              "      <td>0440400988</td>\n",
              "      <td>There's a Bat in Bunk Five</td>\n",
              "      <td>Paula Danziger</td>\n",
              "      <td>1988</td>\n",
              "      <td>Random House Childrens Pub (Mm)</td>\n",
              "      <td>http://images.amazon.com/images/P/0440400988.0...</td>\n",
              "      <td>http://images.amazon.com/images/P/0440400988.0...</td>\n",
              "      <td>http://images.amazon.com/images/P/0440400988.0...</td>\n",
              "    </tr>\n",
              "    <tr>\n",
              "      <th>271356</th>\n",
              "      <td>0525447644</td>\n",
              "      <td>From One to One Hundred</td>\n",
              "      <td>Teri Sloat</td>\n",
              "      <td>1991</td>\n",
              "      <td>Dutton Books</td>\n",
              "      <td>http://images.amazon.com/images/P/0525447644.0...</td>\n",
              "      <td>http://images.amazon.com/images/P/0525447644.0...</td>\n",
              "      <td>http://images.amazon.com/images/P/0525447644.0...</td>\n",
              "    </tr>\n",
              "    <tr>\n",
              "      <th>271357</th>\n",
              "      <td>006008667X</td>\n",
              "      <td>Lily Dale : The True Story of the Town that Ta...</td>\n",
              "      <td>Christine Wicker</td>\n",
              "      <td>2004</td>\n",
              "      <td>HarperSanFrancisco</td>\n",
              "      <td>http://images.amazon.com/images/P/006008667X.0...</td>\n",
              "      <td>http://images.amazon.com/images/P/006008667X.0...</td>\n",
              "      <td>http://images.amazon.com/images/P/006008667X.0...</td>\n",
              "    </tr>\n",
              "    <tr>\n",
              "      <th>271358</th>\n",
              "      <td>0192126040</td>\n",
              "      <td>Republic (World's Classics)</td>\n",
              "      <td>Plato</td>\n",
              "      <td>1996</td>\n",
              "      <td>Oxford University Press</td>\n",
              "      <td>http://images.amazon.com/images/P/0192126040.0...</td>\n",
              "      <td>http://images.amazon.com/images/P/0192126040.0...</td>\n",
              "      <td>http://images.amazon.com/images/P/0192126040.0...</td>\n",
              "    </tr>\n",
              "    <tr>\n",
              "      <th>271359</th>\n",
              "      <td>0767409752</td>\n",
              "      <td>A Guided Tour of Rene Descartes' Meditations o...</td>\n",
              "      <td>Christopher  Biffle</td>\n",
              "      <td>2000</td>\n",
              "      <td>McGraw-Hill Humanities/Social Sciences/Languages</td>\n",
              "      <td>http://images.amazon.com/images/P/0767409752.0...</td>\n",
              "      <td>http://images.amazon.com/images/P/0767409752.0...</td>\n",
              "      <td>http://images.amazon.com/images/P/0767409752.0...</td>\n",
              "    </tr>\n",
              "  </tbody>\n",
              "</table>\n",
              "<p>271360 rows × 8 columns</p>\n",
              "</div>\n",
              "      <button class=\"colab-df-convert\" onclick=\"convertToInteractive('df-45db37e3-94d9-4d3d-8fa7-5d79111fa9ab')\"\n",
              "              title=\"Convert this dataframe to an interactive table.\"\n",
              "              style=\"display:none;\">\n",
              "        \n",
              "  <svg xmlns=\"http://www.w3.org/2000/svg\" height=\"24px\"viewBox=\"0 0 24 24\"\n",
              "       width=\"24px\">\n",
              "    <path d=\"M0 0h24v24H0V0z\" fill=\"none\"/>\n",
              "    <path d=\"M18.56 5.44l.94 2.06.94-2.06 2.06-.94-2.06-.94-.94-2.06-.94 2.06-2.06.94zm-11 1L8.5 8.5l.94-2.06 2.06-.94-2.06-.94L8.5 2.5l-.94 2.06-2.06.94zm10 10l.94 2.06.94-2.06 2.06-.94-2.06-.94-.94-2.06-.94 2.06-2.06.94z\"/><path d=\"M17.41 7.96l-1.37-1.37c-.4-.4-.92-.59-1.43-.59-.52 0-1.04.2-1.43.59L10.3 9.45l-7.72 7.72c-.78.78-.78 2.05 0 2.83L4 21.41c.39.39.9.59 1.41.59.51 0 1.02-.2 1.41-.59l7.78-7.78 2.81-2.81c.8-.78.8-2.07 0-2.86zM5.41 20L4 18.59l7.72-7.72 1.47 1.35L5.41 20z\"/>\n",
              "  </svg>\n",
              "      </button>\n",
              "      \n",
              "  <style>\n",
              "    .colab-df-container {\n",
              "      display:flex;\n",
              "      flex-wrap:wrap;\n",
              "      gap: 12px;\n",
              "    }\n",
              "\n",
              "    .colab-df-convert {\n",
              "      background-color: #E8F0FE;\n",
              "      border: none;\n",
              "      border-radius: 50%;\n",
              "      cursor: pointer;\n",
              "      display: none;\n",
              "      fill: #1967D2;\n",
              "      height: 32px;\n",
              "      padding: 0 0 0 0;\n",
              "      width: 32px;\n",
              "    }\n",
              "\n",
              "    .colab-df-convert:hover {\n",
              "      background-color: #E2EBFA;\n",
              "      box-shadow: 0px 1px 2px rgba(60, 64, 67, 0.3), 0px 1px 3px 1px rgba(60, 64, 67, 0.15);\n",
              "      fill: #174EA6;\n",
              "    }\n",
              "\n",
              "    [theme=dark] .colab-df-convert {\n",
              "      background-color: #3B4455;\n",
              "      fill: #D2E3FC;\n",
              "    }\n",
              "\n",
              "    [theme=dark] .colab-df-convert:hover {\n",
              "      background-color: #434B5C;\n",
              "      box-shadow: 0px 1px 3px 1px rgba(0, 0, 0, 0.15);\n",
              "      filter: drop-shadow(0px 1px 2px rgba(0, 0, 0, 0.3));\n",
              "      fill: #FFFFFF;\n",
              "    }\n",
              "  </style>\n",
              "\n",
              "      <script>\n",
              "        const buttonEl =\n",
              "          document.querySelector('#df-45db37e3-94d9-4d3d-8fa7-5d79111fa9ab button.colab-df-convert');\n",
              "        buttonEl.style.display =\n",
              "          google.colab.kernel.accessAllowed ? 'block' : 'none';\n",
              "\n",
              "        async function convertToInteractive(key) {\n",
              "          const element = document.querySelector('#df-45db37e3-94d9-4d3d-8fa7-5d79111fa9ab');\n",
              "          const dataTable =\n",
              "            await google.colab.kernel.invokeFunction('convertToInteractive',\n",
              "                                                     [key], {});\n",
              "          if (!dataTable) return;\n",
              "\n",
              "          const docLinkHtml = 'Like what you see? Visit the ' +\n",
              "            '<a target=\"_blank\" href=https://colab.research.google.com/notebooks/data_table.ipynb>data table notebook</a>'\n",
              "            + ' to learn more about interactive tables.';\n",
              "          element.innerHTML = '';\n",
              "          dataTable['output_type'] = 'display_data';\n",
              "          await google.colab.output.renderOutput(dataTable, element);\n",
              "          const docLink = document.createElement('div');\n",
              "          docLink.innerHTML = docLinkHtml;\n",
              "          element.appendChild(docLink);\n",
              "        }\n",
              "      </script>\n",
              "    </div>\n",
              "  </div>\n",
              "  "
            ]
          },
          "metadata": {},
          "execution_count": 15
        }
      ]
    },
    {
      "cell_type": "markdown",
      "source": [
        "# Data Understanding"
      ],
      "metadata": {
        "id": "AlLg7-5Hluv4"
      }
    },
    {
      "cell_type": "markdown",
      "source": [
        "Mengecek Kondisi dataset yang dimiliki"
      ],
      "metadata": {
        "id": "lrQtOF48Bwz-"
      }
    },
    {
      "cell_type": "code",
      "source": [
        "# Cek jumlah unique dataset\n",
        "print(\"Jumlah Unique {} dari {} pada data users\".format(len(users['User-ID'].unique()),len(users['User-ID'])))\n",
        "print(\"Jumlah Unique {} dari {} pada data rating\".format(len(rating['User-ID'].unique()),len(rating['User-ID'])))\n",
        "print(\"Jumlah Unique {} dari {} pada data rating\".format(len(rating['ISBN'].unique()),len(rating['ISBN'])))\n",
        "print(\"Jumlah Unique {} dari {} pada data book\".format(len(book['ISBN'].unique()),len(book['ISBN'])))\n",
        "print(max(rating['User-ID']))\n",
        "print(min(rating['User-ID']))\n",
        "print(max(rating['Book-Rating']))\n",
        "print(min(rating['Book-Rating']))"
      ],
      "metadata": {
        "colab": {
          "base_uri": "https://localhost:8080/"
        },
        "id": "NLSFRk0plydt",
        "outputId": "148a28fa-8360-472e-a5c5-4cedb4623939"
      },
      "execution_count": null,
      "outputs": [
        {
          "output_type": "stream",
          "name": "stdout",
          "text": [
            "Jumlah Unique 278858 dari 278858 pada data users\n",
            "Jumlah Unique 105283 dari 1149780 pada data rating\n",
            "Jumlah Unique 340556 dari 1149780 pada data rating\n",
            "Jumlah Unique 271360 dari 271360 pada data book\n",
            "278854\n",
            "2\n",
            "10\n",
            "0\n"
          ]
        }
      ]
    },
    {
      "cell_type": "markdown",
      "source": [
        "Mengecek informasi tipe data dan kolom yang ada"
      ],
      "metadata": {
        "id": "X6MaWilFB3Yp"
      }
    },
    {
      "cell_type": "code",
      "source": [
        "users.info()"
      ],
      "metadata": {
        "colab": {
          "base_uri": "https://localhost:8080/"
        },
        "id": "huI5ma__olc-",
        "outputId": "8e431a6d-fc9c-4df5-bbab-ed6a8f2c799b"
      },
      "execution_count": null,
      "outputs": [
        {
          "output_type": "stream",
          "name": "stdout",
          "text": [
            "<class 'pandas.core.frame.DataFrame'>\n",
            "RangeIndex: 278858 entries, 0 to 278857\n",
            "Data columns (total 3 columns):\n",
            " #   Column    Non-Null Count   Dtype  \n",
            "---  ------    --------------   -----  \n",
            " 0   User-ID   278858 non-null  int64  \n",
            " 1   Location  278858 non-null  object \n",
            " 2   Age       168096 non-null  float64\n",
            "dtypes: float64(1), int64(1), object(1)\n",
            "memory usage: 6.4+ MB\n"
          ]
        }
      ]
    },
    {
      "cell_type": "code",
      "source": [
        "rating.info()"
      ],
      "metadata": {
        "colab": {
          "base_uri": "https://localhost:8080/"
        },
        "id": "q7sUVvR6vzUp",
        "outputId": "f6756b76-672f-417b-f5de-f0f691d61019"
      },
      "execution_count": null,
      "outputs": [
        {
          "output_type": "stream",
          "name": "stdout",
          "text": [
            "<class 'pandas.core.frame.DataFrame'>\n",
            "RangeIndex: 1149780 entries, 0 to 1149779\n",
            "Data columns (total 3 columns):\n",
            " #   Column       Non-Null Count    Dtype \n",
            "---  ------       --------------    ----- \n",
            " 0   User-ID      1149780 non-null  int64 \n",
            " 1   ISBN         1149780 non-null  object\n",
            " 2   Book-Rating  1149780 non-null  int64 \n",
            "dtypes: int64(2), object(1)\n",
            "memory usage: 26.3+ MB\n"
          ]
        }
      ]
    },
    {
      "cell_type": "code",
      "source": [
        "book.info()"
      ],
      "metadata": {
        "colab": {
          "base_uri": "https://localhost:8080/"
        },
        "id": "DjfBwIiPv18W",
        "outputId": "700a8907-ff72-467e-d47d-650bc73d2b79"
      },
      "execution_count": null,
      "outputs": [
        {
          "output_type": "stream",
          "name": "stdout",
          "text": [
            "<class 'pandas.core.frame.DataFrame'>\n",
            "RangeIndex: 271360 entries, 0 to 271359\n",
            "Data columns (total 8 columns):\n",
            " #   Column               Non-Null Count   Dtype \n",
            "---  ------               --------------   ----- \n",
            " 0   ISBN                 271360 non-null  object\n",
            " 1   Book-Title           271360 non-null  object\n",
            " 2   Book-Author          271359 non-null  object\n",
            " 3   Year-Of-Publication  271360 non-null  object\n",
            " 4   Publisher            271358 non-null  object\n",
            " 5   Image-URL-S          271360 non-null  object\n",
            " 6   Image-URL-M          271360 non-null  object\n",
            " 7   Image-URL-L          271357 non-null  object\n",
            "dtypes: object(8)\n",
            "memory usage: 16.6+ MB\n"
          ]
        }
      ]
    },
    {
      "cell_type": "code",
      "source": [
        "rating.rename(columns={\"User-ID\" : \"user_id\", \"Book-Rating\" : \"book_rating\"}, inplace=True)"
      ],
      "metadata": {
        "id": "BiGCSBRt43MS"
      },
      "execution_count": null,
      "outputs": []
    },
    {
      "cell_type": "code",
      "source": [
        "rating['book_rating'].hist()"
      ],
      "metadata": {
        "colab": {
          "base_uri": "https://localhost:8080/",
          "height": 447
        },
        "id": "ziy_NKttv6pd",
        "outputId": "7173757a-d986-4968-ea33-38d85c522a6b"
      },
      "execution_count": null,
      "outputs": [
        {
          "output_type": "execute_result",
          "data": {
            "text/plain": [
              "<Axes: >"
            ]
          },
          "metadata": {},
          "execution_count": 6
        },
        {
          "output_type": "display_data",
          "data": {
            "text/plain": [
              "<Figure size 640x480 with 1 Axes>"
            ],
            "image/png": "[encoded data removed]"
          },
          "metadata": {}
        }
      ]
    },
    {
      "cell_type": "markdown",
      "source": [
        "Persebaran data pada book rating terlalu banyak yang 0 dengan asumsi user tidak atau belum memberikan rating pada buku tersebut. Untuk data rating 0 dianggap tidak memiliki makna apapun maka buku dengan rating 0 akan di hapus"
      ],
      "metadata": {
        "id": "wb9pbtA75Lha"
      }
    },
    {
      "cell_type": "markdown",
      "source": [
        "EDA data rating"
      ],
      "metadata": {
        "id": "9hjaUxTTCVIV"
      }
    },
    {
      "cell_type": "code",
      "source": [
        "rating.describe()"
      ],
      "metadata": {
        "colab": {
          "base_uri": "https://localhost:8080/",
          "height": 300
        },
        "id": "gvRvFHsNwBEK",
        "outputId": "f4769acf-7536-4079-a611-8b6b132887ec"
      },
      "execution_count": null,
      "outputs": [
        {
          "output_type": "execute_result",
          "data": {
            "text/plain": [
              "            user_id   book_rating\n",
              "count  1.149780e+06  1.149780e+06\n",
              "mean   1.403864e+05  2.866950e+00\n",
              "std    8.056228e+04  3.854184e+00\n",
              "min    2.000000e+00  0.000000e+00\n",
              "25%    7.034500e+04  0.000000e+00\n",
              "50%    1.410100e+05  0.000000e+00\n",
              "75%    2.110280e+05  7.000000e+00\n",
              "max    2.788540e+05  1.000000e+01"
            ],
            "text/html": [
              "\n",
              "  <div id=\"df-ae181edc-0f09-4508-89db-cb192d0470ea\">\n",
              "    <div class=\"colab-df-container\">\n",
              "      <div>\n",
              "<style scoped>\n",
              "    .dataframe tbody tr th:only-of-type {\n",
              "        vertical-align: middle;\n",
              "    }\n",
              "\n",
              "    .dataframe tbody tr th {\n",
              "        vertical-align: top;\n",
              "    }\n",
              "\n",
              "    .dataframe thead th {\n",
              "        text-align: right;\n",
              "    }\n",
              "</style>\n",
              "<table border=\"1\" class=\"dataframe\">\n",
              "  <thead>\n",
              "    <tr style=\"text-align: right;\">\n",
              "      <th></th>\n",
              "      <th>user_id</th>\n",
              "      <th>book_rating</th>\n",
              "    </tr>\n",
              "  </thead>\n",
              "  <tbody>\n",
              "    <tr>\n",
              "      <th>count</th>\n",
              "      <td>1.149780e+06</td>\n",
              "      <td>1.149780e+06</td>\n",
              "    </tr>\n",
              "    <tr>\n",
              "      <th>mean</th>\n",
              "      <td>1.403864e+05</td>\n",
              "      <td>2.866950e+00</td>\n",
              "    </tr>\n",
              "    <tr>\n",
              "      <th>std</th>\n",
              "      <td>8.056228e+04</td>\n",
              "      <td>3.854184e+00</td>\n",
              "    </tr>\n",
              "    <tr>\n",
              "      <th>min</th>\n",
              "      <td>2.000000e+00</td>\n",
              "      <td>0.000000e+00</td>\n",
              "    </tr>\n",
              "    <tr>\n",
              "      <th>25%</th>\n",
              "      <td>7.034500e+04</td>\n",
              "      <td>0.000000e+00</td>\n",
              "    </tr>\n",
              "    <tr>\n",
              "      <th>50%</th>\n",
              "      <td>1.410100e+05</td>\n",
              "      <td>0.000000e+00</td>\n",
              "    </tr>\n",
              "    <tr>\n",
              "      <th>75%</th>\n",
              "      <td>2.110280e+05</td>\n",
              "      <td>7.000000e+00</td>\n",
              "    </tr>\n",
              "    <tr>\n",
              "      <th>max</th>\n",
              "      <td>2.788540e+05</td>\n",
              "      <td>1.000000e+01</td>\n",
              "    </tr>\n",
              "  </tbody>\n",
              "</table>\n",
              "</div>\n",
              "      <button class=\"colab-df-convert\" onclick=\"convertToInteractive('df-ae181edc-0f09-4508-89db-cb192d0470ea')\"\n",
              "              title=\"Convert this dataframe to an interactive table.\"\n",
              "              style=\"display:none;\">\n",
              "        \n",
              "  <svg xmlns=\"http://www.w3.org/2000/svg\" height=\"24px\"viewBox=\"0 0 24 24\"\n",
              "       width=\"24px\">\n",
              "    <path d=\"M0 0h24v24H0V0z\" fill=\"none\"/>\n",
              "    <path d=\"M18.56 5.44l.94 2.06.94-2.06 2.06-.94-2.06-.94-.94-2.06-.94 2.06-2.06.94zm-11 1L8.5 8.5l.94-2.06 2.06-.94-2.06-.94L8.5 2.5l-.94 2.06-2.06.94zm10 10l.94 2.06.94-2.06 2.06-.94-2.06-.94-.94-2.06-.94 2.06-2.06.94z\"/><path d=\"M17.41 7.96l-1.37-1.37c-.4-.4-.92-.59-1.43-.59-.52 0-1.04.2-1.43.59L10.3 9.45l-7.72 7.72c-.78.78-.78 2.05 0 2.83L4 21.41c.39.39.9.59 1.41.59.51 0 1.02-.2 1.41-.59l7.78-7.78 2.81-2.81c.8-.78.8-2.07 0-2.86zM5.41 20L4 18.59l7.72-7.72 1.47 1.35L5.41 20z\"/>\n",
              "  </svg>\n",
              "      </button>\n",
              "      \n",
              "  <style>\n",
              "    .colab-df-container {\n",
              "      display:flex;\n",
              "      flex-wrap:wrap;\n",
              "      gap: 12px;\n",
              "    }\n",
              "\n",
              "    .colab-df-convert {\n",
              "      background-color: #E8F0FE;\n",
              "      border: none;\n",
              "      border-radius: 50%;\n",
              "      cursor: pointer;\n",
              "      display: none;\n",
              "      fill: #1967D2;\n",
              "      height: 32px;\n",
              "      padding: 0 0 0 0;\n",
              "      width: 32px;\n",
              "    }\n",
              "\n",
              "    .colab-df-convert:hover {\n",
              "      background-color: #E2EBFA;\n",
              "      box-shadow: 0px 1px 2px rgba(60, 64, 67, 0.3), 0px 1px 3px 1px rgba(60, 64, 67, 0.15);\n",
              "      fill: #174EA6;\n",
              "    }\n",
              "\n",
              "    [theme=dark] .colab-df-convert {\n",
              "      background-color: #3B4455;\n",
              "      fill: #D2E3FC;\n",
              "    }\n",
              "\n",
              "    [theme=dark] .colab-df-convert:hover {\n",
              "      background-color: #434B5C;\n",
              "      box-shadow: 0px 1px 3px 1px rgba(0, 0, 0, 0.15);\n",
              "      filter: drop-shadow(0px 1px 2px rgba(0, 0, 0, 0.3));\n",
              "      fill: #FFFFFF;\n",
              "    }\n",
              "  </style>\n",
              "\n",
              "      <script>\n",
              "        const buttonEl =\n",
              "          document.querySelector('#df-ae181edc-0f09-4508-89db-cb192d0470ea button.colab-df-convert');\n",
              "        buttonEl.style.display =\n",
              "          google.colab.kernel.accessAllowed ? 'block' : 'none';\n",
              "\n",
              "        async function convertToInteractive(key) {\n",
              "          const element = document.querySelector('#df-ae181edc-0f09-4508-89db-cb192d0470ea');\n",
              "          const dataTable =\n",
              "            await google.colab.kernel.invokeFunction('convertToInteractive',\n",
              "                                                     [key], {});\n",
              "          if (!dataTable) return;\n",
              "\n",
              "          const docLinkHtml = 'Like what you see? Visit the ' +\n",
              "            '<a target=\"_blank\" href=https://colab.research.google.com/notebooks/data_table.ipynb>data table notebook</a>'\n",
              "            + ' to learn more about interactive tables.';\n",
              "          element.innerHTML = '';\n",
              "          dataTable['output_type'] = 'display_data';\n",
              "          await google.colab.output.renderOutput(dataTable, element);\n",
              "          const docLink = document.createElement('div');\n",
              "          docLink.innerHTML = docLinkHtml;\n",
              "          element.appendChild(docLink);\n",
              "        }\n",
              "      </script>\n",
              "    </div>\n",
              "  </div>\n",
              "  "
            ]
          },
          "metadata": {},
          "execution_count": 22
        }
      ]
    },
    {
      "cell_type": "code",
      "source": [
        "rating_clean = rating[rating['book_rating'] > 0].sort_values('user_id', ascending=True)"
      ],
      "metadata": {
        "id": "6v-_ymxtzsPB"
      },
      "execution_count": null,
      "outputs": []
    },
    {
      "cell_type": "code",
      "source": [
        "rating_clean['book_rating'].hist()"
      ],
      "metadata": {
        "colab": {
          "base_uri": "https://localhost:8080/",
          "height": 447
        },
        "id": "P2yecGL5Z267",
        "outputId": "003706bc-e5b0-46a2-a939-830e1049e33f"
      },
      "execution_count": null,
      "outputs": [
        {
          "output_type": "execute_result",
          "data": {
            "text/plain": [
              "<Axes: >"
            ]
          },
          "metadata": {},
          "execution_count": 11
        },
        {
          "output_type": "display_data",
          "data": {
            "text/plain": [
              "<Figure size 640x480 with 1 Axes>"
            ],
            "image/png": "[encoded data removed]"
          },
          "metadata": {}
        }
      ]
    },
    {
      "cell_type": "markdown",
      "source": [
        "Distribusi pada data terlihat condong ke kiri dimana banyak user yang memberikan rating tinggi"
      ],
      "metadata": {
        "id": "3kpIfXXSCatR"
      }
    },
    {
      "cell_type": "code",
      "source": [
        "rating_clean.describe()"
      ],
      "metadata": {
        "colab": {
          "base_uri": "https://localhost:8080/",
          "height": 300
        },
        "id": "tumvDQJa1-2F",
        "outputId": "abff44d8-3e7b-4b96-dc55-f615cb483c6f"
      },
      "execution_count": null,
      "outputs": [
        {
          "output_type": "execute_result",
          "data": {
            "text/plain": [
              "             user_id    book_rating\n",
              "count  433671.000000  433671.000000\n",
              "mean   135458.743451       7.601066\n",
              "std     80678.385078       1.843798\n",
              "min         8.000000       1.000000\n",
              "25%     66619.000000       7.000000\n",
              "50%    133184.000000       8.000000\n",
              "75%    205735.000000       9.000000\n",
              "max    278854.000000      10.000000"
            ],
            "text/html": [
              "\n",
              "  <div id=\"df-0de347c6-c74a-4807-971d-8a20392517d4\">\n",
              "    <div class=\"colab-df-container\">\n",
              "      <div>\n",
              "<style scoped>\n",
              "    .dataframe tbody tr th:only-of-type {\n",
              "        vertical-align: middle;\n",
              "    }\n",
              "\n",
              "    .dataframe tbody tr th {\n",
              "        vertical-align: top;\n",
              "    }\n",
              "\n",
              "    .dataframe thead th {\n",
              "        text-align: right;\n",
              "    }\n",
              "</style>\n",
              "<table border=\"1\" class=\"dataframe\">\n",
              "  <thead>\n",
              "    <tr style=\"text-align: right;\">\n",
              "      <th></th>\n",
              "      <th>user_id</th>\n",
              "      <th>book_rating</th>\n",
              "    </tr>\n",
              "  </thead>\n",
              "  <tbody>\n",
              "    <tr>\n",
              "      <th>count</th>\n",
              "      <td>433671.000000</td>\n",
              "      <td>433671.000000</td>\n",
              "    </tr>\n",
              "    <tr>\n",
              "      <th>mean</th>\n",
              "      <td>135458.743451</td>\n",
              "      <td>7.601066</td>\n",
              "    </tr>\n",
              "    <tr>\n",
              "      <th>std</th>\n",
              "      <td>80678.385078</td>\n",
              "      <td>1.843798</td>\n",
              "    </tr>\n",
              "    <tr>\n",
              "      <th>min</th>\n",
              "      <td>8.000000</td>\n",
              "      <td>1.000000</td>\n",
              "    </tr>\n",
              "    <tr>\n",
              "      <th>25%</th>\n",
              "      <td>66619.000000</td>\n",
              "      <td>7.000000</td>\n",
              "    </tr>\n",
              "    <tr>\n",
              "      <th>50%</th>\n",
              "      <td>133184.000000</td>\n",
              "      <td>8.000000</td>\n",
              "    </tr>\n",
              "    <tr>\n",
              "      <th>75%</th>\n",
              "      <td>205735.000000</td>\n",
              "      <td>9.000000</td>\n",
              "    </tr>\n",
              "    <tr>\n",
              "      <th>max</th>\n",
              "      <td>278854.000000</td>\n",
              "      <td>10.000000</td>\n",
              "    </tr>\n",
              "  </tbody>\n",
              "</table>\n",
              "</div>\n",
              "      <button class=\"colab-df-convert\" onclick=\"convertToInteractive('df-0de347c6-c74a-4807-971d-8a20392517d4')\"\n",
              "              title=\"Convert this dataframe to an interactive table.\"\n",
              "              style=\"display:none;\">\n",
              "        \n",
              "  <svg xmlns=\"http://www.w3.org/2000/svg\" height=\"24px\"viewBox=\"0 0 24 24\"\n",
              "       width=\"24px\">\n",
              "    <path d=\"M0 0h24v24H0V0z\" fill=\"none\"/>\n",
              "    <path d=\"M18.56 5.44l.94 2.06.94-2.06 2.06-.94-2.06-.94-.94-2.06-.94 2.06-2.06.94zm-11 1L8.5 8.5l.94-2.06 2.06-.94-2.06-.94L8.5 2.5l-.94 2.06-2.06.94zm10 10l.94 2.06.94-2.06 2.06-.94-2.06-.94-.94-2.06-.94 2.06-2.06.94z\"/><path d=\"M17.41 7.96l-1.37-1.37c-.4-.4-.92-.59-1.43-.59-.52 0-1.04.2-1.43.59L10.3 9.45l-7.72 7.72c-.78.78-.78 2.05 0 2.83L4 21.41c.39.39.9.59 1.41.59.51 0 1.02-.2 1.41-.59l7.78-7.78 2.81-2.81c.8-.78.8-2.07 0-2.86zM5.41 20L4 18.59l7.72-7.72 1.47 1.35L5.41 20z\"/>\n",
              "  </svg>\n",
              "      </button>\n",
              "      \n",
              "  <style>\n",
              "    .colab-df-container {\n",
              "      display:flex;\n",
              "      flex-wrap:wrap;\n",
              "      gap: 12px;\n",
              "    }\n",
              "\n",
              "    .colab-df-convert {\n",
              "      background-color: #E8F0FE;\n",
              "      border: none;\n",
              "      border-radius: 50%;\n",
              "      cursor: pointer;\n",
              "      display: none;\n",
              "      fill: #1967D2;\n",
              "      height: 32px;\n",
              "      padding: 0 0 0 0;\n",
              "      width: 32px;\n",
              "    }\n",
              "\n",
              "    .colab-df-convert:hover {\n",
              "      background-color: #E2EBFA;\n",
              "      box-shadow: 0px 1px 2px rgba(60, 64, 67, 0.3), 0px 1px 3px 1px rgba(60, 64, 67, 0.15);\n",
              "      fill: #174EA6;\n",
              "    }\n",
              "\n",
              "    [theme=dark] .colab-df-convert {\n",
              "      background-color: #3B4455;\n",
              "      fill: #D2E3FC;\n",
              "    }\n",
              "\n",
              "    [theme=dark] .colab-df-convert:hover {\n",
              "      background-color: #434B5C;\n",
              "      box-shadow: 0px 1px 3px 1px rgba(0, 0, 0, 0.15);\n",
              "      filter: drop-shadow(0px 1px 2px rgba(0, 0, 0, 0.3));\n",
              "      fill: #FFFFFF;\n",
              "    }\n",
              "  </style>\n",
              "\n",
              "      <script>\n",
              "        const buttonEl =\n",
              "          document.querySelector('#df-0de347c6-c74a-4807-971d-8a20392517d4 button.colab-df-convert');\n",
              "        buttonEl.style.display =\n",
              "          google.colab.kernel.accessAllowed ? 'block' : 'none';\n",
              "\n",
              "        async function convertToInteractive(key) {\n",
              "          const element = document.querySelector('#df-0de347c6-c74a-4807-971d-8a20392517d4');\n",
              "          const dataTable =\n",
              "            await google.colab.kernel.invokeFunction('convertToInteractive',\n",
              "                                                     [key], {});\n",
              "          if (!dataTable) return;\n",
              "\n",
              "          const docLinkHtml = 'Like what you see? Visit the ' +\n",
              "            '<a target=\"_blank\" href=https://colab.research.google.com/notebooks/data_table.ipynb>data table notebook</a>'\n",
              "            + ' to learn more about interactive tables.';\n",
              "          element.innerHTML = '';\n",
              "          dataTable['output_type'] = 'display_data';\n",
              "          await google.colab.output.renderOutput(dataTable, element);\n",
              "          const docLink = document.createElement('div');\n",
              "          docLink.innerHTML = docLinkHtml;\n",
              "          element.appendChild(docLink);\n",
              "        }\n",
              "      </script>\n",
              "    </div>\n",
              "  </div>\n",
              "  "
            ]
          },
          "metadata": {},
          "execution_count": 12
        }
      ]
    },
    {
      "cell_type": "markdown",
      "source": [
        "Hasil statistik terlihat lebih baik setelah di cleansing"
      ],
      "metadata": {
        "id": "PE6lhFfjDb5K"
      }
    },
    {
      "cell_type": "code",
      "source": [
        "df = rating_clean.sample(n=20000, random_state=42)"
      ],
      "metadata": {
        "id": "EJfUhvoK_S-t"
      },
      "execution_count": null,
      "outputs": []
    },
    {
      "cell_type": "markdown",
      "source": [
        "Batasi dataset karena masalah keterbatasan resources google colab yang tidak mampu mengolah lebih banyak data"
      ],
      "metadata": {
        "id": "MZShE_CDDnbI"
      }
    },
    {
      "cell_type": "markdown",
      "source": [
        "# Data Preparation"
      ],
      "metadata": {
        "id": "EXR4GuIh6H7p"
      }
    },
    {
      "cell_type": "markdown",
      "source": [
        "Transformasi data yang diperlukan untuk Collaborative fitering dan Conten Based Filtering"
      ],
      "metadata": {
        "id": "v_uDgmWIDzsZ"
      }
    },
    {
      "cell_type": "code",
      "source": [
        "#collaborative filtering\n",
        "user_item_matrix = df.pivot_table(index='user_id', columns='ISBN', values='book_rating').fillna(0)"
      ],
      "metadata": {
        "id": "KHqrLw8D79GJ"
      },
      "execution_count": null,
      "outputs": []
    },
    {
      "cell_type": "markdown",
      "source": [
        "Encode atribut ISBN dan User ID"
      ],
      "metadata": {
        "id": "YJ2XXv0ZEEAR"
      }
    },
    {
      "cell_type": "code",
      "source": [
        "# Mengubah ISBN menjadi list tanpa nilai yang sama\n",
        "books_ids = df['ISBN'].unique().tolist()\n",
        "\n",
        "# Melakukan proses encoding ISBN\n",
        "books_to_books_encoded = {x: i for i, x in enumerate(books_ids)}\n",
        "\n",
        "# Melakukan proses encoding angka ke ISBN\n",
        "books_encoded_to_books = {i: x for i, x in enumerate(books_ids)}"
      ],
      "metadata": {
        "id": "bdymI9NL5EYs"
      },
      "execution_count": null,
      "outputs": []
    },
    {
      "cell_type": "code",
      "source": [
        "# Mengubah userID menjadi list tanpa nilai yang sama\n",
        "user_ids = df['user_id'].unique().tolist()\n",
        "print('list userID: ', user_ids)\n",
        "\n",
        "# Melakukan encoding userID\n",
        "user_to_user_encoded = {x: i for i, x in enumerate(user_ids)}\n",
        "\n",
        "# Melakukan proses encoding angka ke ke userID\n",
        "user_encoded_to_user = {i: x for i, x in enumerate(user_ids)}"
      ],
      "metadata": {
        "colab": {
          "base_uri": "https://localhost:8080/"
        },
        "id": "Hxk_Azar647P",
        "outputId": "5d9125b0-e599-4ad2-c371-908ee3fccc60"
      },
      "execution_count": null,
      "outputs": [
        {
          "output_type": "stream",
          "name": "stdout",
          "text": [
            "list userID:  [188171, 95359, 132173, 216955, 6575, 63714, 129074, 26583, 93047, 205114, 244487, 4766, 193778, 198727, 225595, 55490, 231237, 98686, 94853, 11676, 242118, 240144, 131545, 7860, 185233, 272273, 136014, 145449, 114988, 117985, 208704, 208719, 121170, 26240, 144654, 6873, 123825, 225087, 229011, 274061, 242409, 137397, 91058, 128085, 36836, 5774, 134413, 136139, 252510, 185683, 20719, 185011, 153662, 38767, 224997, 148258, 187397, 232171, 88620, 208468, 4570, 196738, 56469, 162473, 52350, 193458, 123981, 3363, 21014, 194287, 205962, 193777, 244833, 166596, 39467, 263877, 88187, 166123, 48355, 93245, 256925, 152099, 115081, 135149, 34987, 266820, 2313, 125583, 88733, 85656, 207246, 183046, 45074, 107784, 185528, 238781, 135869, 217318, 260473, 210506, 242943, 54335, 182642, 278194, 165669, 136905, 23902, 203240, 128835, 84024, 228154, 189835, 66470, 163973, 23714, 114544, 13552, 45315, 176481, 124876, 201058, 237433, 79950, 185538, 3791, 231263, 33933, 111851, 86243, 165345, 269032, 61257, 55927, 25409, 104399, 200245, 101564, 9083, 236798, 129008, 70749, 227397, 183287, 22625, 10590, 148888, 252968, 277087, 222204, 46709, 165759, 269890, 276847, 242073, 120588, 145641, 13746, 147590, 210708, 270352, 140000, 74089, 199167, 14667, 221232, 68227, 102164, 27617, 196502, 25792, 24933, 162219, 33477, 267020, 190925, 50823, 160541, 123094, 54624, 179843, 277945, 122607, 2033, 95301, 131804, 207499, 14521, 182881, 257028, 203058, 178914, 272462, 271677, 81848, 16046, 78846, 252199, 247490, 242006, 29259, 1131, 51856, 152186, 191521, 230016, 85225, 213625, 260897, 116003, 154944, 115692, 57935, 175100, 181176, 215709, 36606, 66114, 172700, 199443, 143932, 252695, 264321, 238849, 83252, 166581, 188799, 35087, 101209, 52199, 228727, 98391, 196630, 186362, 239702, 60146, 122011, 199092, 34075, 278418, 239594, 69355, 127203, 40635, 88686, 48495, 30814, 96357, 156342, 76873, 10354, 37810, 76151, 207349, 37950, 102110, 83109, 67627, 82619, 139934, 78518, 174448, 79754, 137288, 205360, 148000, 182086, 32440, 55493, 236172, 28224, 259259, 264152, 69078, 135144, 78845, 193560, 106768, 235384, 177898, 138124, 42180, 262186, 277427, 208568, 96740, 79009, 88677, 151483, 117132, 77809, 126024, 76748, 53614, 113978, 60707, 38281, 153723, 129851, 264525, 141014, 51536, 111557, 201447, 175638, 35859, 134837, 126814, 116873, 38273, 167189, 49144, 75691, 88693, 19573, 123883, 8971, 45557, 140036, 138367, 275311, 126693, 191501, 105054, 153988, 115888, 100459, 196812, 127200, 153079, 126495, 138867, 111582, 236283, 15529, 54206, 164926, 204359, 235808, 250925, 203601, 134366, 114368, 175367, 168216, 170724, 75339, 51526, 223201, 54605, 194600, 225938, 231466, 102647, 253311, 32251, 166856, 245328, 86145, 69450, 27100, 236340, 56399, 219249, 185408, 167800, 238241, 130571, 52584, 87141, 185514, 55858, 268711, 254899, 137118, 236030, 197189, 161861, 243879, 271618, 169427, 73987, 70931, 84523, 140423, 269835, 244685, 232131, 66942, 118434, 74189, 132083, 69389, 46664, 139688, 88905, 63507, 126395, 183630, 234281, 162383, 88112, 114414, 94347, 222404, 30081, 189474, 255546, 155014, 56198, 112001, 271883, 243876, 188379, 153653, 88435, 268784, 95932, 175399, 139513, 95396, 36710, 65579, 140826, 108285, 17183, 82968, 147965, 77840, 239626, 266149, 34030, 216012, 236948, 170869, 146803, 164378, 277648, 30712, 272859, 14698, 66483, 150896, 209875, 182838, 174574, 94281, 212427, 80625, 132242, 226545, 209516, 40559, 275305, 63506, 117950, 203820, 16181, 133747, 252726, 235105, 228206, 264311, 119575, 85526, 200978, 122632, 28594, 70448, 156118, 218552, 81560, 242310, 147230, 25373, 154075, 81682, 69228, 179791, 115435, 136903, 173291, 226879, 35036, 244148, 81306, 191173, 164323, 225810, 207488, 139467, 116870, 250593, 118249, 71234, 215421, 120610, 25601, 42597, 251843, 46556, 129929, 70415, 225199, 650, 251955, 165866, 127233, 189794, 31826, 160558, 38887, 183958, 218743, 35030, 81723, 101052, 76499, 37644, 80214, 168885, 202963, 183371, 212797, 205211, 266729, 39886, 224646, 78553, 58079, 8890, 227250, 26813, 210317, 250388, 199178, 83666, 113435, 92724, 198840, 109409, 52203, 195455, 244444, 46767, 102756, 145916, 29101, 74689, 154658, 163804, 247840, 158295, 187922, 218241, 174304, 244627, 7181, 95316, 109135, 81609, 227520, 234744, 222220, 277830, 231210, 253704, 103541, 120396, 184386, 69012, 245194, 212859, 161037, 231264, 78880, 36121, 180585, 88099, 25216, 267798, 203533, 193898, 100418, 181103, 268898, 38377, 256983, 245925, 244420, 114654, 240035, 115003, 173679, 257931, 38437, 219924, 63595, 117255, 145747, 194877, 167471, 77902, 2685, 232579, 23872, 232740, 90198, 125056, 190923, 53590, 90423, 153999, 6564, 210685, 100644, 198302, 270754, 81359, 272897, 164905, 31315, 227005, 266796, 277937, 110483, 197293, 208019, 206016, 2766, 219611, 41084, 192914, 204285, 208899, 273307, 140822, 64946, 156584, 140069, 245827, 271946, 109955, 111578, 177458, 8681, 61147, 79527, 109617, 155219, 101550, 227097, 30052, 50098, 130847, 113364, 211979, 161873, 173267, 98547, 246617, 136205, 3373, 191815, 252922, 93377, 100287, 92322, 226108, 198355, 79903, 67591, 119146, 110044, 269321, 231177, 209464, 95010, 144699, 162052, 230180, 167275, 105221, 41646, 278597, 263357, 250989, 71935, 185275, 275800, 125840, 240700, 174594, 83814, 55178, 129653, 47861, 260239, 173043, 26487, 71940, 241436, 181659, 78796, 28865, 19422, 204929, 187145, 119580, 164425, 120917, 94242, 28156, 178761, 60412, 278137, 266995, 62464, 71712, 53220, 275274, 80945, 107645, 83205, 193131, 145614, 126736, 223066, 104796, 265201, 234921, 96578, 111174, 37113, 170513, 177432, 83589, 208706, 44845, 21664, 189115, 196466, 97754, 169322, 127866, 257204, 160000, 277562, 26593, 214714, 193676, 28915, 243613, 207669, 238699, 195124, 196282, 64270, 200876, 166805, 148929, 117395, 246470, 123724, 76798, 100448, 261412, 204696, 231857, 198547, 67710, 233917, 222610, 123625, 118533, 37666, 135768, 197866, 150516, 27135, 248718, 7346, 266991, 159860, 189706, 238857, 142524, 37690, 33179, 110076, 217740, 116769, 189973, 168245, 82808, 212328, 108352, 183923, 175271, 146113, 249894, 177072, 145003, 65258, 57214, 69697, 123790, 83754, 30657, 84008, 70941, 163376, 2010, 72940, 256247, 125519, 190023, 163759, 132371, 251844, 45911, 61668, 28619, 153361, 69042, 144191, 164533, 196160, 164828, 73464, 277984, 97763, 224209, 101517, 167517, 60337, 254160, 264110, 50859, 3507, 258270, 172888, 54730, 59189, 1660, 91087, 232770, 185034, 32195, 208600, 4590, 270713, 241980, 180860, 133192, 250368, 102359, 19078, 232262, 150890, 22154, 39209, 80555, 224525, 191827, 27744, 173053, 136326, 248626, 189227, 272890, 88633, 264555, 127481, 232424, 216099, 260419, 156467, 75028, 71847, 151093, 244662, 114868, 141958, 101331, 131027, 70585, 183, 101424, 2106, 16488, 84897, 98747, 203074, 87555, 155362, 254995, 265205, 160434, 178522, 14536, 269566, 99955, 11245, 225379, 198243, 119192, 168745, 100906, 153621, 244171, 53069, 259265, 223565, 118881, 83212, 81583, 256487, 243004, 199673, 147166, 3757, 220867, 116537, 23547, 46297, 237359, 130581, 38309, 165319, 12824, 204514, 187029, 236255, 196621, 158774, 9188, 254397, 42798, 195374, 139835, 128246, 188598, 33178, 217193, 16086, 19503, 71618, 278648, 10447, 138910, 136382, 66017, 638, 2559, 271988, 57686, 32184, 257714, 15208, 252829, 205735, 163504, 49889, 79854, 120889, 52011, 112026, 217121, 31556, 86247, 200878, 273113, 100846, 77318, 167300, 74026, 210743, 187624, 148726, 115759, 230505, 206675, 250155, 1903, 73157, 136130, 127174, 8370, 98893, 256678, 162107, 198996, 242291, 130081, 182936, 258534, 128710, 223231, 214916, 250342, 240264, 108975, 79153, 35216, 75560, 208471, 125670, 125039, 259388, 179075, 258291, 170861, 178199, 162480, 51559, 208622, 5049, 77128, 137434, 187379, 188421, 208410, 251890, 50730, 110934, 140842, 264759, 233017, 11685, 112960, 160242, 219759, 129338, 94992, 72992, 167812, 1294, 216882, 162200, 125668, 175278, 105108, 55787, 43397, 224108, 110820, 109903, 255489, 190741, 213312, 124078, 234359, 104310, 66485, 1990, 115131, 230374, 143715, 250184, 105972, 157368, 250562, 233726, 131548, 141601, 247353, 37168, 106007, 44893, 142454, 134120, 199180, 143166, 6543, 208147, 19286, 190708, 273344, 186588, 179799, 25103, 131849, 151370, 130554, 6637, 148394, 39154, 104636, 158784, 146230, 118972, 163488, 1375, 35836, 201722, 231795, 268030, 192428, 15046, 44296, 19886, 55395, 90277, 33862, 167746, 131402, 76626, 229329, 184629, 88793, 121986, 242485, 114422, 248615, 50921, 244744, 122716, 169234, 43842, 190831, 10980, 171295, 134556, 247852, 113955, 51690, 149907, 70222, 32773, 50802, 257791, 62650, 105517, 213628, 95229, 274878, 4385, 20966, 240956, 132851, 129716, 135277, 182085, 10745, 136707, 268639, 118524, 74137, 82825, 172203, 265889, 271622, 171968, 77480, 182808, 81263, 170315, 91792, 123154, 104233, 130166, 46534, 11708, 241274, 96954, 48975, 262998, 14201, 162641, 258185, 195016, 100497, 158226, 218221, 97179, 165183, 123886, 5809, 14449, 175794, 143099, 182993, 242083, 205064, 250725, 139913, 169699, 259901, 179139, 161257, 36907, 236661, 31245, 172742, 56045, 255092, 224731, 5499, 221185, 143175, 122867, 210587, 26535, 109783, 31984, 111499, 70401, 159834, 57599, 42517, 265115, 178201, 131855, 252843, 246311, 228868, 18309, 110373, 179906, 248259, 258879, 222718, 238350, 275758, 68555, 266661, 275970, 54218, 192517, 146872, 41831, 155691, 242465, 11224, 222488, 132492, 108005, 56271, 29528, 30810, 142772, 221238, 224923, 170073, 131171, 217039, 203764, 240568, 161268, 274004, 70666, 168047, 101851, 2892, 219992, 265591, 76204, 211562, 16634, 9730, 134945, 101606, 142443, 10857, 30824, 75081, 218121, 53265, 105374, 6746, 136691, 218976, 12650, 273197, 158864, 138382, 268262, 195974, 3106, 240541, 84365, 204294, 143740, 147803, 170771, 120516, 30276, 179934, 223386, 11529, 120090, 258109, 33943, 43617, 130007, 106849, 79285, 229313, 208540, 47133, 12154, 270820, 99441, 14541, 179064, 150206, 92534, 197913, 33888, 89307, 224944, 51242, 32955, 201294, 160819, 60029, 254465, 195904, 42162, 42803, 199856, 276888, 141902, 168438, 155147, 212477, 254201, 230164, 178097, 78973, 35921, 216466, 253556, 256651, 133077, 79441, 40995, 176099, 127738, 98975, 159906, 168563, 62891, 90467, 60583, 25930, 195655, 52745, 8067, 56447, 168815, 49358, 25850, 180286, 171118, 4248, 7915, 254289, 263219, 104278, 206171, 221445, 36327, 183995, 144255, 52917, 213523, 181443, 55197, 197659, 218995, 63938, 227084, 209373, 138097, 183300, 243759, 225763, 240822, 270226, 175189, 72214, 13518, 250064, 230030, 64198, 143211, 93279, 49309, 149908, 194519, 48965, 35089, 135673, 23768, 98725, 19531, 270801, 6772, 49392, 274301, 199431, 98620, 6251, 156269, 235442, 29974, 80061, 46345, 1664, 74808, 20784, 47906, 114446, 264637, 240067, 25981, 27472, 241254, 16871, 93363, 246823, 160032, 189334, 188521, 169735, 12965, 160114, 250683, 117609, 193549, 260067, 222296, 62303, 268751, 208897, 213386, 61028, 147451, 20201, 147680, 189066, 229409, 101876, 251140, 90232, 193746, 131871, 56985, 192125, 173343, 60067, 230400, 25154, 99222, 170527, 78344, 261829, 245650, 233911, 136010, 153667, 215375, 88283, 107491, 239468, 157682, 267596, 224809, 64436, 61901, 138441, 135351, 126604, 85294, 44985, 165754, 79933, 174726, 68491, 224727, 24921, 30273, 150587, 83156, 143571, 240567, 146781, 252292, 97324, 152029, 108448, 271913, 227529, 196492, 97653, 167814, 138844, 161041, 131934, 224145, 147847, 162639, 223132, 113519, 142121, 16263, 269485, 258383, 219951, 274808, 87255, 268110, 14173, 56496, 130866, 168093, 69612, 253670, 277922, 212054, 206496, 116005, 107382, 31698, 174534, 181166, 70457, 80067, 80929, 209262, 161882, 5956, 242527, 123544, 193610, 209436, 196905, 108405, 238864, 170154, 221262, 41700, 135367, 143743, 251467, 78448, 83341, 35433, 115004, 58467, 14958, 221525, 274117, 61704, 271195, 585, 115002, 34725, 32997, 114178, 122037, 76571, 63145, 144967, 4221, 156021, 159274, 151503, 194637, 187598, 172403, 146869, 149872, 73588, 123468, 271448, 12835, 172676, 256544, 245911, 189745, 88031, 222991, 275956, 33124, 94427, 49900, 55757, 215148, 171519, 242617, 148712, 111032, 214786, 163588, 222716, 113068, 119726, 204864, 30324, 150706, 16673, 241614, 210485, 231357, 77940, 57265, 9856, 6563, 277901, 126296, 43006, 134483, 18341, 104144, 196047, 225912, 105971, 141444, 218608, 214138, 236757, 220608, 67198, 270776, 128321, 4017, 30590, 249967, 110349, 69063, 230218, 106208, 255413, 91932, 107951, 43246, 101589, 238125, 150222, 271375, 47856, 129376, 42458, 44252, 266299, 42323, 125440, 183196, 266226, 98443, 42390, 209527, 16708, 221186, 128775, 169192, 229302, 264761, 107834, 156534, 129718, 38618, 43545, 265439, 222970, 137620, 191775, 127914, 261998, 217106, 184532, 211057, 173632, 20265, 113270, 71554, 61854, 205843, 233196, 245410, 203542, 240398, 87964, 40796, 209155, 274926, 265656, 223787, 122386, 219387, 141842, 275401, 93319, 126874, 146207, 263163, 109405, 146382, 197111, 249634, 213618, 53300, 196527, 181436, 126432, 237399, 58768, 147239, 26525, 35185, 141493, 183015, 238358, 84619, 145679, 261603, 112857, 248660, 64210, 223501, 134797, 86385, 223721, 38762, 237917, 155650, 161881, 148473, 253147, 229754, 185455, 196077, 125058, 250405, 61043, 82899, 98794, 184424, 63170, 181496, 507, 237536, 181646, 33576, 161476, 98943, 93011, 16721, 208378, 246798, 209160, 169745, 99783, 65484, 143163, 52635, 183649, 40889, 8870, 127689, 162755, 152464, 156111, 84867, 206775, 203033, 172713, 103243, 85256, 123995, 34776, 1193, 142525, 164027, 233526, 15945, 39287, 108685, 139287, 169682, 13173, 878, 238575, 126388, 24771, 16034, 25583, 256184, 108480, 105948, 223156, 207825, 27740, 55550, 246156, 99936, 194205, 84122, 203567, 80820, 167945, 74286, 120910, 130258, 194500, 157247, 214641, 95738, 111204, 81580, 182994, 260695, 16966, 166951, 92405, 52606, 151013, 263663, 48753, 231206, 118817, 257198, 104532, 75486, 30507, 242526, 163358, 17455, 49088, 249114, 199772, 246513, 136916, 23871, 69749, 166030, 176037, 187747, 45383, 188022, 225274, 91576, 86960, 54622, 38679, 253751, 264543, 276521, 193148, 29905, 119594, 137803, 57725, 32802, 121441, 271705, 219209, 267082, 28634, 31191, 224764, 89875, 161936, 125746, 141819, 95435, 132357, 67547, 75591, 179019, 19493, 169663, 171020, 171558, 171359, 54968, 104098, 268657, 116866, 34220, 152483, 741, 60307, 245907, 245660, 90137, 57108, 2077, 181956, 127171, 266328, 31948, 114865, 152579, 157208, 232959, 223879, 66000, 46398, 94984, 179939, 95060, 269588, 37790, 30029, 233972, 39239, 221681, 163761, 112566, 82001, 205943, 217986, 75821, 195378, 202348, 73651, 240318, 50796, 234544, 199725, 193529, 245993, 94187, 164486, 193939, 264082, 34801, 162849, 75860, 258884, 39396, 238475, 100361, 57275, 122506, 231393, 266865, 230522, 7199, 49460, 254515, 101731, 39527, 131842, 178716, 105058, 2855, 189787, 108336, 258938, 171817, 192583, 143950, 85132, 238613, 93483, 164082, 186736, 68426, 243312, 91047, 235932, 16795, 100266, 266940, 170522, 191724, 233397, 239095, 65663, 119725, 262271, 110912, 232708, 35001, 93355, 165758, 109110, 28790, 203089, 195123, 68572, 50321, 270156, 210597, 259762, 46427, 128060, 54107, 47512, 207450, 201870, 242106, 220502, 252222, 158454, 7471, 105979, 115907, 34734, 170721, 242701, 29111, 222412, 194974, 252418, 113679, 39814, 18067, 25711, 177510, 259006, 105703, 71981, 192230, 76345, 53224, 103496, 11400, 239160, 197789, 129152, 204641, 178667, 93629, 46269, 36003, 124983, 44021, 98671, 213119, 208555, 130168, 19226, 56856, 86932, 48111, 125736, 140578, 157380, 103181, 221946, 233143, 14470, 95173, 58194, 52358, 114379, 113944, 39027, 254053, 162469, 115794, 89891, 120598, 26544, 69211, 119858, 178093, 13666, 149682, 234597, 233441, 51725, 10314, 141231, 81492, 116599, 272225, 203075, 10819, 111944, 55336, 28177, 175572, 56307, 29117, 241198, 270809, 102034, 207939, 247763, 198189, 194436, 71587, 55892, 158361, 226561, 174092, 264031, 219949, 87938, 82497, 132167, 46826, 133052, 247055, 162747, 55217, 245592, 70813, 143103, 73992, 53, 272202, 124065, 249228, 51883, 67782, 78955, 212984, 269719, 6611, 258240, 265553, 21072, 121065, 100251, 246783, 14281, 11832, 206959, 154487, 26620, 209148, 142745, 225618, 221732, 59285, 148966, 125655, 231257, 60244, 157811, 87949, 120840, 51529, 222683, 106683, 6604, 234090, 250625, 39773, 128696, 261289, 227009, 26883, 168954, 50732, 100852, 59769, 249111, 86641, 131126, 275414, 138010, 277923, 98200, 251394, 210027, 60858, 104998, 236251, 66878, 211919, 161342, 24391, 264546, 47974, 243720, 227467, 31343, 176047, 161467, 151928, 50201, 125928, 174216, 97926, 158606, 221705, 264317, 114834, 56959, 16946, 94951, 78249, 37712, 146348, 245739, 206199, 52377, 144318, 18593, 184853, 73022, 50849, 130362, 161265, 130049, 113657, 221753, 254206, 257170, 164008, 104611, 261197, 214920, 253408, 197775, 100075, 170634, 23904, 189480, 34196, 15951, 271503, 209657, 162257, 35945, 9747, 88999, 207912, 103789, 215071, 140252, 37818, 28204, 74043, 6431, 236511, 253859, 26209, 187562, 61647, 213212, 98322, 91448, 227705, 250456, 182334, 98004, 165073, 20180, 13594, 211351, 103108, 102917, 50895, 166534, 65064, 17702, 199041, 178726, 139904, 241513, 182202, 157252, 155778, 255720, 2622, 15475, 18166, 212849, 208415, 38537, 275650, 105745, 259378, 58961, 29372, 50129, 123515, 252559, 229331, 170947, 26514, 269728, 16996, 78783, 267635, 30533, 12474, 251739, 92853, 216683, 218615, 257820, 38464, 79066, 128332, 16172, 83637, 94815, 165503, 266512, 259118, 134434, 168554, 153718, 47971, 122429, 136943, 98256, 214272, 228008, 157799, 189392, 75819, 261362, 195881, 55187, 192462, 132846, 246196, 245750, 152354, 174827, 248356, 52853, 68568, 244007, 41894, 190286, 124310, 233903, 13995, 204538, 95923, 241362, 192042, 212088, 158433, 161348, 89602, 260183, 158254, 707, 177874, 110332, 255433, 244095, 17046, 172865, 28965, 157273, 185140, 7125, 79850, 142671, 220736, 1046, 152575, 86207, 163326, 119517, 223087, 38136, 108698, 52044, 7463, 224768, 263637, 231612, 51946, 2030, 127779, 1254, 70314, 201439, 26673, 276848, 186041, 225275, 105596, 28518, 229283, 111947, 125918, 261105, 99201, 48324, 144098, 10560, 76904, 174791, 245295, 78935, 221687, 127384, 243213, 119066, 184310, 678, 101336, 20083, 218638, 128600, 27140, 250936, 110973, 193337, 117539, 12702, 108849, 174486, 119199, 79515, 225986, 277629, 211255, 264172, 62339, 62511, 52323, 250709, 95902, 264339, 167501, 71470, 88229, 244153, 19509, 173415, 207599, 76977, 6323, 218760, 224138, 9417, 187003, 103867, 33185, 256628, 253771, 145109, 46690, 19110, 7454, 237070, 139827, 211303, 258152, 257425, 143964, 194605, 70244, 3578, 168312, 114700, 95172, 203452, 187863, 244293, 227447, 163695, 102275, 13221, 177654, 90743, 69252, 262391, 218568, 30202, 212631, 34588, 177346, 78933, 253797, 248540, 122793, 166824, 30926, 250300, 214851, 187256, 181076, 23571, 273190, 191126, 47669, 150498, 84109, 28666, 273318, 185631, 204164, 57788, 262344, 226205, 174830, 176708, 8872, 7834, 274111, 198213, 95991, 191800, 166922, 194735, 196228, 118135, 150482, 253815, 259078, 29480, 117618, 189279, 37800, 65370, 77263, 206423, 97272, 231351, 189139, 80512, 6769, 95353, 191165, 116231, 261037, 202300, 216861, 165520, 240969, 74657, 162564, 87302, 35693, 132199, 116489, 258425, 34377, 240756, 249848, 54005, 259260, 187607, 108243, 31189, 176658, 237768, 13273, 37400, 2024, 220471, 84553, 206026, 218068, 57261, 45429, 123105, 270256, 18173, 156150, 53027, 66255, 183963, 150979, 92351, 9070, 53534, 268932, 238179, 87974, 108747, 183753, 134403, 35857, 36709, 103336, 21659, 135228, 53628, 53700, 208112, 77499, 115778, 95025, 179337, 35197, 209833, 208358, 212983, 46295, 277535, 153513, 83671, 22167, 91023, 262040, 138602, 247447, 265444, 273737, 6092, 17950, 53841, 161752, 47534, 229741, 245963, 272730, 68004, 185384, 135458, 197515, 139607, 211607, 128506, 124079, 126492, 72451, 201775, 196137, 32714, 138351, 234401, 267776, 28700, 108600, 98741, 234828, 209563, 128325, 48042, 163261, 148289, 92498, 86956, 44728, 136454, 5971, 156424, 244742, 80661, 176619, 38524, 204949, 29898, 94494, 253581, 81153, 276680, 155118, 276071, 79188, 6242, 78777, 221717, 75284, 43881, 128993, 261760, 247896, 220091, 43251, 121178, 67494, 165507, 2678, 215851, 223253, 11601, 2977, 130978, 117251, 225714, 109779, 65333, 95640, 229551, 245446, 111634, 262541, 200351, 236164, 180651, 247897, 103708, 242215, 274368, 91838, 47866, 36722, 56630, 136465, 105795, 125203, 32250, 145360, 183532, 90883, 126654, 178322, 81759, 3371, 257327, 155916, 100681, 74172, 278243, 266678, 189080, 236668, 26628, 82229, 53934, 242037, 223784, 189104, 257932, 80810, 248221, 242361, 99242, 79815, 101246, 3917, 73732, 60251, 232256, 177683, 144531, 236058, 252169, 66429, 179734, 213066, 197687, 254196, 48494, 161462, 62929, 217148, 120333, 59038, 268489, 129203, 131166, 147224, 269391, 276215, 162386, 261895, 273869, 37822, 129930, 210180, 13080, 222096, 189268, 126973, 198777, 179677, 160478, 135265, 60263, 71102, 31900, 183883, 65497, 202277, 70898, 16220, 113062, 253519, 225940, 264951, 43730, 46892, 215140, 94868, 267444, 123608, 99919, 70594, 38023, 132862, 174016, 42914, 205281, 178356, 63004, 107214, 148898, 204596, 93565, 115252, 30735, 223190, 73681, 63405, 106173, 3346, 22192, 50330, 85280, 192710, 270934, 172852, 99630, 39464, 115589, 25695, 272671, 102944, 228998, 28591, 111847, 85082, 175267, 47609, 43626, 103816, 249958, 159817, 3017, 176902, 53980, 193039, 277565, 28495, 17003, 18323, 256998, 18095, 105187, 61910, 38039, 116931, 80538, 73469, 178035, 196443, 61775, 37512, 43622, 160, 99792, 263918, 110204, 139586, 65132, 77790, 104665, 260825, 160681, 56296, 218411, 128426, 184279, 26435, 227262, 55559, 96448, 154679, 177879, 125774, 205487, 75330, 236235, 151737, 131594, 204457, 100345, 67930, 180495, 111657, 76081, 112083, 66690, 68151, 13559, 162496, 33876, 39400, 196858, 132188, 33288, 204958, 203044, 158589, 255305, 240219, 248325, 94173, 270666, 13888, 251097, 72670, 3675, 135681, 71800, 25533, 151739, 247868, 213350, 182813, 245371, 72930, 35713, 29526, 219769, 260388, 226006, 242794, 37034, 270029, 254377, 161015, 32041, 166253, 12815, 59150, 188010, 33283, 194636, 219008, 161677, 91113, 133348, 202143, 54946, 119582, 259114, 46829, 34600, 196885, 174138, 261641, 14422, 42450, 96473, 152568, 114581, 160295, 227591, 51269, 161652, 61427, 173933, 231827, 200643, 115372, 216573, 50871, 91103, 110440, 209985, 214848, 141088, 177233, 206608, 12209, 27875, 44739, 46367, 10261, 17761, 248496, 195057, 117873, 220278, 269916, 43321, 225232, 66680, 73394, 274056, 24768, 42093, 250899, 174477, 243781, 94985, 153570, 249650, 54653, 35725, 156736, 6366, 207563, 134408, 71285, 98484, 260130, 234623, 37227, 51742, 850, 104168, 30274, 126697, 184299, 220597, 65906, 85502, 204909, 174998, 185087, 146057, 52994, 112541, 112937, 87610, 172634, 79110, 276498, 172974, 237912, 91634, 93179, 16585, 179730, 252783, 21404, 41750, 107865, 90776, 254502, 212923, 137817, 68838, 169268, 261379, 152260, 123433, 72742, 57068, 274562, 265413, 70183, 257074, 184365, 114893, 64779, 206305, 15044, 27874, 96493, 24556, 120093, 131293, 275450, 57052, 124942, 63782, 97160, 78469, 210460, 273709, 166281, 198767, 250935, 207851, 2731, 155546, 141322, 189558, 180084, 85696, 97874, 116045, 123988, 241548, 248280, 8092, 131046, 164725, 109115, 168192, 151943, 217052, 135703, 270552, 33818, 245088, 82472, 74287, 202063, 208596, 156870, 152946, 240330, 31393, 241666, 214252, 98135, 110661, 148028, 124298, 173256, 200556, 202711, 56188, 33114, 225686, 130438, 132663, 50504, 229703, 2363, 172089, 196052, 234108, 92547, 22200, 187410, 10687, 193450, 188143, 185546, 58792, 144841, 199025, 109901, 248477, 212965, 166630, 136104, 131597, 126123, 223914, 60941, 188706, 236728, 59554, 237990, 165308, 260363, 271289, 204804, 217055, 138616, 82511, 120565, 261350, 166017, 57862, 92810, 70628, 124442, 20418, 191542, 77766, 177861, 82122, 243929, 252505, 239584, 102130, 202020, 87037, 30898, 11399, 145621, 213324, 114007, 144602, 135799, 79513, 183103, 213295, 25131, 84178, 156214, 101234, 161350, 1733, 25890, 64030, 28989, 105332, 69156, 256631, 110358, 114444, 210717, 23699, 271558, 184587, 260902, 161737, 239241, 241944, 161244, 58667, 225411, 236700, 7556, 102970, 33829, 53944, 113514, 208781, 145451, 265383, 270838, 175205, 136851, 266842, 235282, 170227, 153594, 106294, 187606, 55607, 207668, 67322, 75809, 179147, 269009, 142735, 186547, 85240, 2179, 97469, 59948, 102196, 197502, 123950, 6445, 249928, 124304, 248274, 101131, 53664, 275075, 9487, 62954, 131751, 60690, 164675, 179718, 227413, 151843, 20060, 71600, 90671, 95250, 158518, 199755, 179733, 247176, 216735, 134621, 263852, 238540, 101546, 144151, 269439, 258786, 141954, 78834, 12307, 206330, 18519, 201908, 46099, 55097, 190459, 97483, 204360, 211460, 244851, 123052, 257745, 107697, 16787, 246586, 239161, 84126, 27904, 153719, 132836, 43111, 212006, 38654, 217045, 37247, 181229, 35719, 147686, 142129, 186929, 3368, 196085, 198930, 83431, 31308, 67840, 173684, 59059, 227422, 137589, 248909, 48153, 21576, 212237, 18340, 90685, 152435, 140132, 210346, 117384, 188478, 154345, 248209, 38556, 127045, 262525, 235498, 16980, 207100, 178797, 35624, 183101, 171610, 14418, 51643, 272735, 229502, 192362, 68220, 247752, 242414, 51655, 92658, 271897, 213531, 133482, 224136, 56342, 102532, 47635, 242618, 265031, 58458, 253226, 141805, 162145, 113475, 37208, 110753, 138100, 210822, 235392, 173650, 32934, 232688, 198046, 88123, 8639, 259775, 156673, 11657, 207180, 25804, 167436, 49109, 33974, 138407, 51449, 233127, 212592, 10532, 155889, 132887, 243918, 118489, 175052, 226462, 16010, 105028, 38794, 7793, 275857, 246333, 86033, 9737, 205503, 23105, 109540, 211426, 117193, 130022, 200226, 141909, 149069, 231374, 121594, 31406, 30101, 161101, 53545, 93092, 41111, 132909, 228988, 117956, 233901, 239279, 73656, 1116, 147276, 53174, 141657, 190789, 167056, 80684, 263132, 222026, 162465, 169601, 108141, 243058, 149366, 58120, 24440, 255943, 268523, 80202, 103107, 116186, 85433, 216444, 49842, 68571, 242299, 134873, 112502, 232266, 159213, 198011, 54205, 163698, 6061, 28694, 236322, 119380, 239488, 73622, 181201, 60797, 36135, 5539, 55019, 276077, 23643, 33737, 24934, 115833, 29206, 30887, 112881, 235805, 260246, 8111, 65303, 184863, 208450, 31782, 119833, 145165, 28735, 271538, 123617, 60081, 2276, 387, 67896, 40640, 205708, 218542, 107651, 187762, 154070, 107044, 97833, 163094, 194957, 213316, 135061, 269557, 115144, 26518, 13604, 98263, 36554, 122655, 206475, 102702, 226548, 275020, 166327, 101375, 104125, 51450, 87760, 19085, 132826, 97290, 124888, 93386, 194273, 116904, 79266, 13599, 243075, 266515, 223161, 223455, 219259, 36945, 249600, 201684, 248727, 153950, 24757, 110029, 278637, 25471, 187871, 113904, 145546, 169736, 109519, 104211, 180378, 231567, 194458, 234026, 70260, 15361, 168064, 223814, 83436, 198491, 209486, 57159, 115281, 185263, 99261, 34476, 89551, 85752, 138077, 32154, 6004, 186768, 242843, 238541, 276412, 240403, 43118, 197017, 202540, 59172, 91832, 121345, 112643, 19320, 214253, 41757, 22630, 64240, 249989, 116070, 133661, 87712, 115700, 30781, 32889, 1025, 126063, 217989, 162376, 261948, 225435, 33006, 261453, 169558, 16472, 69655, 205226, 220339, 92215, 13121, 253107, 114669, 230258, 167782, 192093, 96490, 208607, 95193, 31838, 273718, 240401, 278148, 75360, 275519, 258460, 141089, 42315, 211949, 198260, 240543, 219546, 224237, 237318, 215986, 151215, 95915, 208936, 69076, 269340, 86959, 176668, 93770, 163462, 267777, 54898, 35662, 76741, 224430, 142973, 81672, 268343, 174714, 203017, 62172, 159954, 162715, 259320, 40134, 164583, 193963, 152309, 94209, 73458, 49404, 28076, 164761, 19440, 260351, 217012, 224564, 236267, 170575, 225134, 69955, 131675, 11690, 116183, 191626, 156575, 23655, 277959, 185634, 136560, 72352, 142020, 52673, 238065, 86877, 194172, 200493, 129284, 177157, 163319, 23396, 12202, 152295, 258566, 199827, 115671, 69188, 64903, 240213, 30861, 124072, 67085, 160871, 249048, 82831, 37447, 157313, 271176, 24082, 212539, 37891, 39662, 170415, 88812, 150917, 74106, 211231, 273976, 211254, 133108, 217780, 174692, 58390, 245649, 154354, 29018, 253907, 187248, 247083, 227832, 150816, 14789, 81950, 113745, 57398, 223154, 149825, 112100, 163821, 248479, 41177, 24685, 104115, 18908, 215241, 47276, 2287, 240045, 209174, 149893, 56804, 18016, 51386, 221420, 228681, 171770, 140879, 15602, 40511, 272982, 184845, 100594, 254, 148263, 207270, 90766, 56470, 275638, 119654, 43418, 107341, 149162, 129690, 91130, 153211, 211610, 89192, 24694, 259629, 238711, 136313, 114930, 61798, 37493, 83950, 125207, 257145, 168985, 106742, 124647, 212310, 121251, 276050, 220688, 104084, 270896, 4622, 96194, 54561, 167424, 200936, 79590, 165806, 198666, 246876, 106954, 245499, 216781, 106131, 63970, 96567, 244602, 200679, 219798, 37905, 163542, 90731, 3167, 110853, 111688, 119364, 69554, 275154, 78901, 53729, 143039, 129531, 192185, 159231, 221655, 140963, 224904, 242262, 105718, 61042, 65099, 7286, 156747, 267510, 177525, 9908, 154026, 643, 278843, 266719, 21937, 36718, 45287, 251442, 126170, 178544, 36817, 247326, 136077, 98787, 184513, 272573, 116395, 204959, 75482, 183436, 12657, 107748, 253964, 213260, 219353, 161480, 225886, 179744, 140666, 49582, 19760, 65844, 150663, 105813, 189750, 235381, 182869, 75115, 5582, 39514, 244349, 24433, 161974, 113689, 143420, 8109, 76024, 18555, 49314, 244484, 158095, 185147, 253375, 222334, 253629, 226772, 120892, 20245, 115707, 36758, 241152, 8687, 43279, 137348, 160427, 211944, 41220, 196795, 244266, 252642, 185677, 180909, 220240, 169282, 81739, 20468, 108940, 235356, 148619, 267326, 112437, 132901, 271895, 47851, 237264, 111241, 187065, 251003, 162306, 64679, 145619, 222054, 23814, 95459, 19711, 27169, 265692, 85993, 72220, 233731, 95907, 119578, 62958, 247010, 91816, 156971, 111831, 114216, 247626, 253403, 170118, 50143, 82123, 185308, 30408, 140355, 96989, 164206, 228478, 52807, 37573, 237534, 10927, 272233, 221524, 176667, 36043, 197582, 69933, 220490, 251613, 62979, 116031, 215820, 228435, 174568, 18411, 154529, 172760, 56554, 162311, 39260, 81865, 56031, 82751, 68156, 201296, 47316, 208872, 144585, 39502, 98046, 44400, 275276, 251643, 210959, 122643, 95043, 215006, 243930, 137666, 149084, 149120, 98320, 6073, 246052, 142821, 185771, 56360, 244471, 73215, 32627, 136136, 154781, 260944, 271717, 228777, 123410, 91873, 100119, 230550, 134005, 112240, 40922, 6509, 15408, 187574, 100971, 10030, 27762, 35233, 146572, 135045, 266631, 254224, 95525, 109372, 38781, 263445, 270339, 30727, 30035, 33905, 174066, 228108, 234814, 191498, 143108, 249096, 148739, 163570, 71522, 263383, 275318, 122251, 164413, 169357, 168387, 68690, 207971, 254822, 160378, 272217, 45487, 8019, 229478, 216887, 133567, 27212, 102178, 138379, 110042, 209229, 21031, 80908, 25966, 63246, 190871, 159732, 212159, 69405, 174596, 41574, 266767, 234721, 244688, 217468, 197609, 271122, 242157, 190303, 65155, 151589, 392, 159787, 22338, 96450, 12100, 161615, 182847, 278054, 163202, 12710, 271153, 178364, 137742, 223566, 4938, 271935, 269759, 143006, 8245, 115473, 119963, 125171, 262357, 32003, 159503, 137627, 160401, 227292, 70378, 176903, 17224, 213657, 156566, 65114, 148199, 59269, 260647, 132230, 215245, 268171, 44727, 116563, 162886, 126985, 236355, 248850, 31211, 193750, 201042, 263560, 250686, 131032, 142623, 170595, 244915, 59276, 102945, 193837, 25395, 127673, 66259, 135872, 253821, 206932, 16755, 263500, 28016, 230490, 162762, 64535, 106225, 42869, 110887, 130456, 236399, 68887, 143011, 142861, 45418, 211720, 271441, 171404, 62659, 201776, 2414, 203910, 200867, 70065, 27821, 163876, 270551, 81855, 92252, 148806, 128790, 103467, 272569, 223503, 81332, 181165, 43436, 49509, 210353, 83304, 143695, 35252, 211344, 240609, 97044, 15164, 160943, 178079, 200009, 61842, 159868, 59148, 176486, 99720, 4896, 164696, 131554, 73964, 21655, 160231, 115841, 35951, 25919, 267563, 133453, 43450, 50918, 224635, 91203, 149727, 195386, 113817, 153441, 27606, 142817, 116555, 76158, 44535, 206534, 33614, 96475, 24140, 67319, 171604, 200234, 257022, 86947, 189421, 48213, 34312, 72084, 252662, 253271, 186457, 163144, 164966, 237091, 16654, 259625, 234803, 176526, 62209, 148586, 81265, 130636, 41364, 267033, 30215, 271836, 104604, 180957, 174892, 186334, 3856, 236826, 146608, 140662, 57180, 28144, 184354, 70649, 218151, 64419, 154176, 35473, 74185, 266478, 269378, 220926, 106073, 143294, 168642, 230254, 57697, 96335, 5448, 70556, 98758, 132795, 230766, 272988, 204567, 245312, 60944, 55548, 85122, 239260, 41080, 70238, 73472, 136735, 192861, 202174, 115434, 170767, 197529, 68383, 35480, 221790, 118162, 159662, 256365, 73829, 21860, 102227, 66591, 26122, 77911, 128588, 100098, 268635, 141511, 250023, 26643, 52425, 32276, 265083, 167255, 503, 271263, 223438, 103705, 208815, 104429, 104113, 52676, 14357, 74959, 105656, 219082, 208671, 125031, 268622, 258913, 154813, 188855, 271833, 255424, 129665, 6741, 20336, 179978, 249953, 137966, 130416, 202212, 215176, 43910, 116480, 9289, 243012, 55142, 30137, 42940, 87526, 26612, 151762, 241435, 239788, 99146, 138777, 187579, 76223, 193713, 144120, 158782, 30244, 136395, 277590, 129916, 264642, 75236, 62662, 75300, 224146, 142661, 29869, 53846, 256402, 132612, 166510, 127766, 151602, 142076, 51891, 192937, 43235, 19021, 264493, 21299, 95518, 255655, 114217, 127484, 8290, 73224, 86465, 39281, 37551, 245380, 51100, 79603, 228764, 81045, 164832, 114489, 92556, 183665, 190210, 274772, 30980, 209308, 107244, 201969, 255972, 20983, 59517, 95574, 193533, 198681, 255121, 165459, 24641, 143253, 181120, 134119, 204591, 84579, 148731, 193106, 135360, 12281, 187039, 56719, 127942, 130157, 141600, 193798, 247916, 168835, 45231, 137588, 73893, 56157, 242248, 3282, 73039, 23288, 230627, 164955, 63604, 266321, 176196, 168456, 32023, 86555, 243769, 223398, 234657, 223767, 36157, 184162, 266331, 16916, 139141, 53301, 137587, 178107, 237727, 22744, 255268, 100347, 24413, 244139, 271155, 223873, 125540, 129494, 79747, 13280, 131019, 35487, 238625, 162338, 62966, 101620, 238889, 103834, 122462, 151098, 199529, 276463, 172704, 224366, 122675, 227702, 201017, 234948, 42917, 22695, 49771, 43578, 111464, 6360, 76661, 96970, 22107, 190822, 142005, 56272, 213891, 93794, 26516, 126941, 84765, 80683, 65238, 100294, 163534, 81718, 201521, 241802, 227025, 182831, 159682, 152831, 203280, 57380, 277929, 256167, 256980, 147416, 253277, 135329, 212467, 88800, 250217, 44743, 133528, 217566, 227072, 117505, 18366, 135170, 45255, 128652, 137222, 132375, 3471, 247736, 272482, 7882, 36256, 244703, 208787, 138728, 89610, 202826, 54817, 42987, 1978, 51506, 124363, 39949, 90653, 231766, 82605, 231001, 139828, 31539, 118598, 189235, 167012, 141901, 139359, 26133, 168464, 219683, 257927, 265105, 263733, 252802, 257358, 271000, 269307, 169243, 254204, 100355, 191544, 200422, 127359, 92861, 193248, 177284, 9717, 42206, 161498, 37239, 109681, 169677, 111731, 4795, 36299, 262070, 48911, 154248, 219321, 173481, 77587, 205325, 11788, 200956, 276641, 252806, 276704, 225718, 101305, 247918, 26664, 262165, 237235, 22785, 60098, 5674, 128727, 82484, 228839, 40316, 92398, 203566, 24314, 183722, 136969, 222181, 7105, 16877, 173926, 66161, 65645, 170248, 8362, 226297, 196191, 131510, 23939, 215609, 68760, 5385, 67992, 162795, 113582, 153863, 227021, 135776, 210097, 58067, 58342, 129503, 186115, 183739, 104413, 46145, 71612, 220586, 112093, 94750, 105609, 105423, 140358, 1730, 198290, 79961, 99204, 223619, 132786, 137448, 50787, 66619, 100984, 99641, 74714, 134680, 84900, 38277, 75551, 183171, 163587, 101699, 75089, 96440, 63854, 167562, 11532, 171499, 147717, 99915, 96290, 140294, 181687, 275732, 130624, 164096, 192158, 159584, 149510, 243490, 24417, 66687, 210761, 103304, 92693, 169249, 278026, 735, 143624, 91002, 142904, 62267, 80603, 171445, 179596, 175754, 222843, 176308, 106265, 141710, 234937, 17159, 81685, 110840, 29080, 117115, 169829, 112173, 42055, 61274, 173131, 30385, 3827, 144931, 221327, 109461, 175117, 123510, 132531, 83283, 273550, 94099, 139031, 77383, 18082, 171602, 37235, 206172, 217513, 151272, 259800, 201783, 86189, 276165, 98506, 87296, 74588, 221014, 35918, 116047, 22074, 88734, 151169, 109427, 26307, 254712, 79819, 239067, 223530, 251642, 178032, 266056, 249633, 156659, 122881, 196108, 40764, 112148, 145369, 163776, 161338, 194476, 248318, 239688, 30399, 86835, 138883, 153054, 182527, 12854, 217097, 80218, 179857, 4223, 127895, 175796, 109574, 125474, 171846, 114279, 753, 140127, 230459, 199353, 5666, 215942, 117515, 124487, 183625, 51900, 242399, 201353, 101666, 18503, 183597, 53278, 115973, 67649, 120908, 16319, 191736, 17507, 251422, 124874, 240879, 234240, 157238, 105263, 246537, 145959, 204946, 215751, 128669, 94757, 146024, 268606, 183088, 101081, 101687, 3408, 148314, 139387, 91048, 9440, 67641, 12500, 200557, 180840, 68341, 142134, 215900, 166042, 223525, 71561, 50063, 217743, 156300, 178588, 242446, 265313, 252820, 269848, 181068, 128331, 207996, 1548, 213812, 259379, 83685, 174503, 171946, 178223, 269069, 73923, 187830, 18439, 85043, 143415, 59763, 174848, 171783, 109276, 69538, 39168, 42864, 66073, 227054, 250461, 156551, 7134, 195548, 232106, 276538, 22409, 83627, 31860, 226639, 125808, 267462, 21874, 214717, 27051, 151479, 42356, 184439, 3315, 272738, 99324, 90075, 201763, 231838, 118969, 126695, 257893, 83443, 238890, 277157, 273057, 168463, 161200, 162162, 125156, 234850, 64333, 139421, 269925, 249791, 242273, 57168, 251085, 199797, 168442, 129469, 23511, 98207, 79310, 139480, 61899, 176405, 58062, 264611, 64948, 38457, 126585, 231488, 213255, 48217, 263115, 144713, 133860, 265276, 27812, 132855, 118632, 33580, 78471, 154992, 1554, 265051, 94921, 177862, 169450, 273439, 167614, 139574, 2605, 210434, 78975, 107326, 247429, 49154, 237776, 186807, 19498, 111741, 254754, 43807, 99001, 121313, 30447, 127404, 249688, 47779, 149934, 29835, 59706, 162738, 185519, 223602, 258158, 257213, 233714, 145702, 97055, 225996, 62688, 243, 187163, 30972, 9613, 66387, 203799, 226616, 100167, 70379, 72028, 68094, 215136, 219915, 277109, 226349, 48166, 215801, 167492, 256545, 152398, 61603, 22968, 136769, 132128, 98904, 101102, 105535, 63358, 259501, 84146, 132578, 173694, 55179, 3923, 5619, 35403, 219631, 271557, 148681, 92903, 177427, 115127, 239426, 240118, 33145, 95903, 118836, 177372, 275807, 15542, 191014, 189457, 69089, 224349, 188027, 232155, 30511, 191883, 133706, 78555, 159506, 244993, 129084, 256526, 10619, 107301, 165432, 190636, 182746, 129553, 208756, 62284, 154872, 43021, 159230, 118314, 53149, 210420, 249363, 53189, 121818, 107140, 48326, 194783, 1211, 171157, 229472, 156020, 267371, 239619, 127389, 167625, 193350, 262407, 12272, 209409, 79942, 141989, 14519, 41841, 9504, 65228, 128543, 226026, 190676, 246793, 272008, 195924, 148680, 226489, 61038, 165706, 52376, 64457, 130548, 118228, 27788, 221926, 44269, 180032, 198012, 176293, 149620, 159858, 138123, 264657, 172061, 174625, 7509, 229177, 86548, 19659, 128276, 6115, 52320, 62387, 138619, 33350, 243491, 151420, 100893, 129114, 130784, 75083, 7283, 257044, 199082, 245040, 88605, 102033, 195008, 275803, 170762, 31094, 31468, 263325, 269268, 96744, 105381, 44089, 26350, 272120, 135996, 230679, 241042, 137082, 30771, 54181, 81763, 234879, 136071, 108622, 83152, 202195, 56654, 72163, 98154, 168378, 197751, 233651, 178136, 51708, 60419, 215278, 82146, 168132, 86639, 218612, 125396, 68249, 137004, 256843, 159283, 274308, 278319, 131686, 102411, 210923, 158033, 125576, 135831, 28292, 47807, 42780, 274736, 195776, 15600, 63775, 120111, 185176, 232238, 119671, 32329, 82516, 207066, 173724, 72470, 52897, 187807, 2991, 156533, 174638, 258151, 37594, 188688, 35278, 21155, 108525, 15127, 237577, 198726, 131974, 203491, 193904, 210273, 125798, 244676, 180509, 202462, 102571, 212142, 88175, 144256, 213663, 26443, 161831, 243964, 27192, 136426, 39821, 6345, 245698, 36741, 52614, 265784, 113383, 245771, 191523, 98783, 193665, 151653, 96178, 42788, 227208, 164557, 28667, 224426, 98534, 164539, 19153, 118059, 231993, 207494, 160332, 104164, 181254, 187486, 73509, 272538, 37975, 14464, 278188, 211360, 13600, 268025, 11795, 105098, 38201, 28089, 8759, 122440, 44297, 151104, 60368, 179739, 12930, 5683, 260372, 83239, 254778, 165232, 204790, 230699, 268141, 34514, 157083, 125053, 219692, 19970, 70796, 207782, 20388, 270360, 147955, 124202, 41486, 61494, 186623, 203617, 278565, 54121, 13093, 30711, 275455, 44597, 116433, 157715, 36491, 245157, 207623, 251267, 162861, 147752, 115572, 222855, 65584, 75231, 138826, 192119, 160886, 73486, 41536, 105214, 117156, 162590, 224479, 45009, 149357, 201582, 251832, 107109, 127910, 32561, 164581, 177090, 198442, 198564, 51135, 228878, 32569, 11944, 210926, 269343, 229632, 95360, 142474, 129358, 168736, 167415, 66258, 229862, 41376, 197361, 258334, 1234, 108406, 92524, 160913, 183187, 167327, 235173, 241531, 141869, 177040, 148744, 15021, 38449, 102967, 247278, 224340, 257003, 114210, 12189, 26302, 91761, 275476, 171638, 74056, 274303, 241933, 80770, 194646, 53193, 246478, 232263, 70740, 67358, 199808, 58869, 216724, 268833, 252953, 166825, 36609, 56175, 253580, 29000, 254120, 165168, 198711, 206567, 139070, 191716, 206835, 177050, 246621, 44515, 241305, 86371, 205512, 232964, 92580, 104999, 237950, 266807, 45495, 218403, 230971, 112167, 234614, 9474, 237429, 15250, 278552, 184412, 24186, 239004, 10226, 242639, 239423, 240333, 9276, 40110, 94865, 7495, 65140, 10681, 172216, 109107, 179109, 207921, 266753, 232067, 106846, 20056, 140410, 122086, 206481, 119168, 68811, 226482, 179772, 18172, 261291, 138180, 94124, 35079, 208267, 147988, 210872, 92979, 104812, 222638, 27581, 99347, 232271, 205934, 97423, 119488, 96466, 195520, 262614, 216416, 152719, 246655, 114483, 13867, 182459, 79215, 85510, 259035, 181065, 247572, 124732, 81481, 18035, 33004, 257512, 105840, 195716, 32222, 58594, 209987, 191560, 143214, 59656, 155939, 262844, 154098, 164967, 28630, 275111, 38589, 167442, 272296, 2793, 94730, 173357, 172030, 145431, 109875, 26204, 16425, 219909, 132203, 256882, 235038, 77906, 35445, 237604, 89867, 233041, 260037, 80692, 230168, 67242, 119020, 240100, 205383, 206444, 58482, 111286, 180002, 228743, 204825, 186715, 233256, 187103, 188513, 151824, 248656, 44361, 203935, 126795, 145826, 80105, 251801, 188967, 80276, 225027, 13719, 145093, 156717, 90694, 70541, 255078, 199898, 262311, 195182, 13268, 141047, 206865, 150379, 138543, 187750, 231180, 112298, 172406, 6125, 86408, 78015, 67775, 30445, 193470, 180102, 188273, 109013, 238939, 46909, 67288, 143968, 30487, 179288, 98772, 5770, 237627, 208075, 158925, 113752, 259913, 84729, 195325, 52887, 110267, 176100, 34300, 9117, 253949, 224312, 199481, 272640, 20005, 26509, 189677, 169824, 177575, 20172, 46889, 237248, 201532, 187520, 227836, 38922, 228880, 205311, 185497, 151806, 172149, 32049, 149483, 126592, 94023, 85145, 6869, 152206, 251362, 106816, 105968, 63394, 67025, 193482, 221235, 75272, 43907, 80690, 151415, 61297, 72238, 177451, 166670, 262642, 75695, 154469, 268517, 250163, 121606, 106213, 44496, 216159, 80203, 269841, 167678, 266580, 114123, 138892, 19605, 178195, 223644, 99954, 114846, 143427, 70603, 110265, 255407, 99026, 172386, 168841, 225002, 173969, 246268, 276813, 109288, 70299, 111642, 150399, 17190, 64241, 163078, 239300, 115120, 30337, 250988, 10757, 274634, 93046, 156765, 81128, 238762, 227654, 197216, 59731, 175415, 240906, 115180, 7864, 248871, 3814, 9714, 158103, 169681, 59296, 193499, 170395, 191913, 147658, 138239, 12849, 91631, 267963, 241381, 204813, 261567, 137787, 199088, 216557, 19611, 117581, 64846, 19491, 165173, 106981, 179741, 259468, 213150, 62706, 53323, 124048, 41351, 30994, 43113, 66443, 195415, 141651, 188658, 227214, 89647, 102758, 24737, 184770, 261578, 245661, 125411, 249122, 186961, 267595, 273, 130493, 155349, 55488, 51192, 264838, 169779, 24515, 14945, 63948, 128841, 260316, 230708, 147810, 9353, 227771, 118414, 11567, 233793, 209625, 181714, 7275, 240643, 109727, 118188, 36502, 263644, 161870, 151116, 77802, 266283, 78522, 76814, 1424, 113755, 222073, 210738, 120860, 40123, 130482, 105987, 277953, 97639, 68185, 210724, 218356, 13351, 165914, 119590, 49526, 42948, 65913, 191854, 251920, 237025, 177590, 111190, 264428, 161872, 44320, 124688, 206441, 273813, 227873, 134886, 77039, 114707, 189789, 234765, 68852, 105650, 235918, 235935, 76890, 46436, 130899, 8253, 249827, 223608, 257631, 28602, 274220, 190123, 135411, 207933, 269157, 70947, 258011, 188162, 227452, 214581, 51627, 220362, 216495, 241523, 24462, 157127, 114592, 208302, 265908, 22461, 74175, 8936, 54610, 139243, 107462, 183800, 249732, 81262, 18713, 177374, 2110, 103523, 175254, 156837, 39584, 216149, 220188, 188268, 249826, 262169, 263323, 75485, 11310, 22325, 98763, 259603, 196148, 141310, 213197, 98440, 85962, 250914, 228065, 98575, 271800, 167604, 251093, 35240, 178950, 66765, 51803, 260678, 12917, 224122, 33307, 20729, 206994, 194224, 241467, 243206, 171703, 14914, 43726, 33461, 83186, 235506, 186969, 187801, 129075, 264862, 39193, 194475, 104588, 89466, 162205, 244172, 230534, 241367, 269515, 56026, 72770, 51129, 34007, 135688, 89611, 125287, 55370, 253039, 257450, 131441, 218344, 111912, 225799, 242763, 229140, 221553, 192354, 124010, 119922, 129725, 221879, 104685, 44842, 29209, 160771, 4785, 254915, 262946, 135893, 108762, 178768, 8142, 220635, 218182, 123173, 5209, 88041, 938, 19885, 204391, 158269, 253331, 224887, 181212, 16137, 138073, 232929, 188160, 205518, 68581, 64310, 246318, 48967, 148781, 270605, 252865, 38026, 65191, 157082, 179624, 206583, 227327, 223663, 126196, 4852, 123597, 163433, 25076, 185652, 239854, 42025, 257492, 236959, 265655, 112063, 260070, 109370, 204964, 110040, 14271, 37567, 144642, 63243, 199881, 25521, 121592, 59192, 232945, 83096, 251508, 229079, 174633, 195524, 82942, 66533, 194705, 215787, 202233, 152428, 102154, 80954, 99281, 204676, 175978, 196709, 156213, 166719, 254366, 78212, 194653, 244189, 46862, 24525, 274812, 172491, 242018, 191524, 49061, 190085, 271016, 259004, 203844, 206944, 45987, 189320, 58641, 238639, 76052, 234209, 147215, 67958, 97381, 141070, 125779, 177550, 10946, 79340, 138202, 99312, 260424, 141157, 264608, 209585, 97959, 229922, 117388, 271144, 191548, 48743, 114889, 259155, 274116, 209220, 25127, 210772, 258482, 17282, 109666, 184401, 164524, 145161, 44719, 152289, 269738, 94213, 266858, 163708, 161535, 178315, 185731, 202955, 240528, 81611, 174982, 125224, 90635, 173111, 126588, 194992, 140974, 270731, 12538, 156096, 267184, 122096, 168666, 89914, 187969, 94970, 249030, 136743, 201641, 22569, 24627, 127788, 253082, 85717, 128782, 21486, 238527, 179553, 230253, 272999, 35148, 276934, 177876, 214042, 149071, 163851, 106280, 204316, 105536, 276929, 162001, 85097, 205939, 126755, 205728, 241565, 45165, 31050, 106479, 62565, 254367, 103057, 74691, 19145, 13844, 152813, 267256, 73548, 68984, 17596, 181316, 12982, 66109, 255588, 251278, 115350, 71720, 234147, 81681, 224203, 68847, 237281, 191604, 42718, 256971, 154671, 82893, 68537, 208201, 87072, 248409, 81442, 169321, 14451, 46694, 31874, 238114, 127719, 8487, 68767, 215866, 145688, 190885, 137336, 278019, 114921, 68943, 202358, 218113, 249210, 55751, 123732, 130792, 262666, 75654, 22022, 48988, 59971, 174615, 254299, 261307, 11606, 183877, 20448, 65837, 237789, 244761, 276984, 140689, 273279, 91244, 20605, 148112, 26561, 162445, 39438, 62862, 228999, 259817, 24044, 213510, 30072, 226965, 240225, 82114, 209299, 36893, 277795, 24646, 220314, 61155, 236323, 157118, 276289, 262179, 51252, 202036, 136291, 7128, 965, 176257, 40505, 264298, 9846, 149661, 220404, 69378, 160200, 193664, 69878, 219389, 249092, 53150, 188661, 3538, 241011, 28686, 209123, 85327, 186859, 225731, 59198, 147162, 224086, 211152, 35637, 243236, 211770, 183178, 249695, 37030, 233077, 227672, 7841, 205012, 223593, 16717, 67663, 50225, 83587, 140337, 76812, 224612, 209817, 10215, 2442, 104334, 204577, 65939, 211988, 76628, 166432, 97915, 136695, 33958, 114655, 53668, 199893, 34557, 245798, 145728, 225817, 106302, 182403, 49324, 123947, 7312, 104311, 275006, 44595, 38821, 50470, 135749, 177531, 6577, 64528, 143497, 87315, 228899, 229334, 154112, 20177, 27363, 193753, 158489, 183347, 164465, 46595, 111747, 154553, 230289, 249169, 73198, 21495, 192172, 217666, 104447, 93059, 132473, 59633, 273270, 228321, 96554, 197727, 127584, 161577, 250359, 30770, 138578, 266054, 151716, 66249, 8314, 131622, 212645, 257605, 81380, 165069, 177262, 198781, 25410, 14060, 229243, 115754, 275383, 201036, 44190, 152515, 165972, 153973, 251692, 33200, 158867, 26621, 268032, 142680, 18097, 640, 101041, 174719, 151846, 95204, 177277, 153889, 252848, 58363, 29677, 80516, 134311, 156503, 64173, 6083, 147218, 249528, 44765, 47063, 156347, 209062, 113983, 224303, 146056, 21116, 207449, 226556, 234935, 105586, 81068, 173652, 103734, 218544, 141086, 269777, 155733, 39616, 266466, 132171, 5350, 20871, 89849, 226267, 147839, 20703, 221933, 8066, 147117, 479, 181997, 87688, 256448, 250223, 136240, 44925, 223454, 73435, 267984, 125143, 30899, 226847, 239175, 36855, 250137, 206074, 183525, 191183, 27458, 94792, 69775, 66574, 187613, 256068, 183745, 27961, 242499, 17177, 152562, 106179, 126318, 69522, 225968, 269629, 225078, 70302, 155141, 94455, 65032, 147528, 95758, 15418, 111038, 236606, 224217, 145145, 6532, 88652, 38933, 210384, 96096, 87103, 155913, 78475, 257132, 245568, 150108, 15819, 208047, 54123, 90471, 112672, 69460, 24153, 43785, 97952, 64041, 200618, 36547, 13060, 111758, 258736, 212357, 23394, 91165, 125838, 81793, 131099, 91184, 255677, 221472, 201290, 205369, 77181, 147900, 246457, 246639, 272980, 134694, 1848, 33830, 243360, 253136, 246910, 269011, 29725, 82797, 123056, 275673, 224897, 258462, 102169, 188490, 177405, 11298, 112845, 213664, 75096, 212196, 45489, 251604, 36673, 228148, 37605, 122679, 136303, 19664, 24172, 23588, 26497, 84820, 139477, 177534, 102740, 150603, 52944, 221494, 82743, 110540, 71490, 63630, 74413, 185021, 5490, 196944, 44389, 205820, 102117, 140758, 11362, 48662, 72508, 220299, 262940, 113989, 45539, 21364, 120548, 60211, 104880, 21368, 133296, 89071, 142256, 206393, 182053, 4197, 33816, 148538, 119789, 68998, 82795, 122484, 248509, 199030, 107889, 153174, 277439, 269808, 36320, 121168, 24995, 142387, 68128, 176459, 14573, 269397, 7210, 224360, 251122, 212835, 37147, 65707, 63370, 166409, 40914, 206663, 29497, 259810, 192692, 243700, 47117, 116819, 223734, 164105, 94952, 38262, 25436, 49262, 71831, 64521, 1448, 112335, 31779, 192245, 238456, 94682, 71918, 194146, 51350, 200144, 100996, 174038, 201725, 95888, 247770, 161251, 55060, 244890, 51962, 151486, 73374, 83287, 225887, 183952, 91202, 259930, 210729, 15230, 191166, 185154, 155495, 94744, 93137, 213703, 170558, 187763, 94965, 243888, 226689, 56116, 89062, 123598, 156527, 5899, 83258, 149204, 10500, 61639, 211041, 32188, 61354, 77516, 36811, 28833, 81215, 4051, 214389, 229681, 166737, 90286, 108572, 236418, 226998, 216387, 35407, 27419, 162364, 170317, 39935, 275677, 128464, 74375, 218188, 30806, 97198, 256765, 58134, 226341, 146321, 17402, 145806, 142125, 192191, 33049, 98647, 26153, 120178, 174111, 197464, 85992, 187274, 7088, 276291, 38034, 156972, 144038, 209154, 17569, 234954, 131311, 242637, 86446, 243745, 46920, 199416, 70063, 278356, 29743, 119281, 7418, 41911, 58174, 221050, 101278, 216945, 188557, 44341, 184742, 148547, 265487, 63956, 264688, 106893, 44070, 83743, 218745, 222500, 65433, 7033, 193863, 149800, 151651, 229192, 20294, 268035, 233761, 205502, 84784, 125381, 60168, 159033, 268300, 73330, 25217, 88887, 136595, 113277, 150316, 246013, 271003, 94529, 142039, 258362, 134900, 78637, 223954, 252775, 147045, 50559, 121547, 130205, 35841, 225764, 57032, 150124, 51094, 51777, 139222, 252615, 256948, 184292, 156908, 77025, 183061, 224816, 186570, 121205, 244736, 106988, 130485, 235161, 163783, 216546, 230777, 7343, 28150, 47145, 185296, 30764, 142649, 205473, 88412, 17926, 167759, 266862, 221930, 254022, 92652, 10478, 144745, 200851, 235872, 34908, 31846, 181796, 24144, 256034, 71662, 84456, 131819, 6648, 125060, 217681, 163127, 171904, 230293, 189516, 238057, 154941, 126181, 183224, 12863, 114850, 134118, 30307, 178587, 183740, 147420, 1249, 218714, 272715, 63824, 186247, 142143, 114306, 147678, 144194, 90785, 13664, 271476, 20389, 164822, 14156, 92388, 247523, 264379, 169438, 110110, 128033, 151266, 213851, 209445, 247129, 268540, 89008, 263460, 120082, 88232, 158506, 20445, 199311, 189453, 210212, 188472, 170914, 160700, 175636, 148365, 200568, 264411, 258343, 40943, 123257, 156071, 73999, 68862, 136748, 81446, 82171, 51210, 82317, 93426, 167455, 5416, 42734, 120765, 46159, 47847, 243942, 7983, 169400, 63182, 154269, 91298, 155343, 44663, 59504, 124988, 193723, 102327, 170012, 113155, 130418, 238419, 36861, 244286, 93257, 176716, 159145, 1596, 271659, 25580, 16867, 6238, 231657, 228913, 187333, 42178, 29234, 155177, 118182, 250695, 262585, 124322, 139396, 152617, 84476, 174868, 196254, 213096, 256603, 191196, 140555, 107616, 100088, 21617, 155260, 98940, 109491, 57095, 272412, 252562, 149690, 146539, 210731, 39523, 35320, 145706, 163751, 36839, 256412, 257971, 114699, 187266, 122158, 172462, 205353, 241414, 111733, 206917, 238630, 271566, 249269, 185448, 39227, 154791, 129660, 22917, 2769, 39080, 208382, 174668, 87911, 205505, 131602, 277946, 105974, 106388, 148798, 138650, 275630, 237064, 38955, 799, 146641, 243584, 254528, 50204, 218689, 90793, 167326, 13140, 228455, 174151, 146952, 82550, 1805, 200421, 48546, 213109, 233711, 60004, 221368, 238568, 216059, 123925, 266229, 258495, 129415, 268734, 2679, 142479, 23231, 239132, 252268, 243863, 252654, 37654, 120037, 145737, 176576, 238204, 87540, 241239, 222912, 111438, 248445, 135422, 231200, 263407, 28222, 67403, 179216, 277774, 251504, 22252, 32039, 77608, 133689, 234764, 29408, 68683, 240254, 234399, 23341, 92442, 62637, 144903, 147385, 163302, 188878, 246528, 121726, 181411, 180348, 216206, 173213, 251408, 202246, 104539, 127129, 59810, 10112, 31249, 216455, 112188, 114378, 194358, 217262, 248950, 179501, 130658, 245633, 57291, 197206, 264085, 93143, 25258, 172124, 7884, 15563, 93275, 164847, 141719, 262462, 7887, 90617, 96776, 63002, 184871, 31978, 57267, 221777, 11107, 195651, 63041, 76786, 41403, 43359, 107021, 207095, 250477, 107057, 117861, 8590, 198389, 249862, 140340, 102772, 268056, 23725, 56039, 159378, 151454, 40190, 1192, 84479, 3088, 4260, 189565, 46154, 142579, 38595, 172348, 196951, 101978, 160027, 232414, 71703, 210255, 255218, 134181, 278197, 72169, 110300, 18913, 96293, 34932, 96402, 71616, 102642, 250471, 229454, 105569, 212798, 2630, 178349, 12330, 259249, 183284, 153669, 187517, 247521, 28592, 131560, 146365, 75149, 152958, 143057, 231005, 77114, 186418, 123143, 122210, 156405, 52159, 135965, 53342, 109349, 72882, 206020, 276670, 27485, 220664, 215683, 137327, 173517, 27873, 184402, 27168, 52256, 165067, 3817, 126253, 31415, 241791, 76483, 17068, 10620, 67371, 67415, 14897, 261091, 217458, 183706, 40647, 110317, 240051, 109040, 190739, 26030, 12194, 191709, 274466, 20714, 164348, 62809, 245729, 86270, 253028, 165406, 72022, 178597, 227631, 97014, 82702, 20946, 238010, 238120, 12316, 116857, 214436, 132582, 256690, 265075, 143837, 133634, 132920, 253563, 207638, 43435, 69311, 105456, 207205, 197410, 58673, 159884, 13344, 188555, 127826, 199571, 141109, 36910, 109360, 183985, 178652, 94132, 68184, 37968, 102705, 136252, 144979, 213098, 35899, 175630, 30889, 265434, 143806, 189087, 28611, 48268, 79828, 164980, 155317, 53123, 139102, 140436, 175759, 227266, 74837, 50896, 60319, 159137, 83646, 205919, 9027, 224544, 89241, 204592, 169534, 23459, 148153, 208095, 207323, 56579, 49422, 273881, 103548, 133772, 234962, 262003, 35618, 138995, 24926, 181077, 57838, 12457, 177180, 212789, 221981, 154844, 50681, 135624, 247568, 120494, 96876, 216071, 70038, 239481, 264903, 196317, 39588, 58898, 109278, 195241, 37597, 192129, 149696, 135895, 219459, 236515, 235925, 185276, 234675, 229092, 109562, 98887, 154479, 86103, 52291, 78590, 103146, 185254, 215017, 49760, 14695, 71900, 75318, 62259, 11206, 249163, 12981, 138890, 278346, 29306, 178072, 270737, 107324, 252676, 190265, 166460, 188526, 4816, 264133, 214583, 43061, 50526, 141491, 183731, 45405, 184202, 54958, 194614, 71227, 62009, 180337, 66018, 227277, 190857, 222865, 236587, 10470, 88146, 71133, 1435, 69967, 20401, 215545, 207748, 182025, 10985, 156190, 97321, 122928, 35793, 257778, 193220, 89634, 123867, 146175, 140161, 263842, 10118, 109658, 225468, 7215, 178997, 1378, 46987, 13672, 119453, 42419, 244375, 176112, 266791, 3876, 82846, 230854, 98525, 183016, 252347, 224342, 69973, 193776, 20438, 253852, 50090, 216907, 141937, 86072, 124865, 138372, 265595, 44761, 272887, 140265, 234755, 278314, 173813, 163701, 134948, 31594, 29886, 223520, 61265, 217152, 133569, 89869, 242061, 121167, 234672, 111924, 261211, 146345, 206415, 240044, 267511, 141328, 7913, 8323, 214348, 152916, 169379, 70770, 144425, 141203, 76019, 6432, 167052, 208129, 155475, 265000, 171049, 113083, 16061, 120047, 81298, 152062, 105716, 22521, 155163, 64186, 226713, 30257, 101513, 213598, 217409, 216829, 176280, 265788, 178625, 253626, 59596, 230460, 31404, 119092, 120515, 121264, 274988, 193168, 8040, 93667, 243785, 84191, 146386, 63645, 90192, 139288, 205200, 70205, 69795, 207259, 212385, 181514, 129676, 222035, 43619, 277466, 154267, 139884, 236727, 137384, 85099, 38660, 73127, 148371, 235684, 107510, 274373, 651, 72296, 46928, 64027, 121478, 12576, 59616, 258526, 112986, 20034, 111719, 119800, 183931, 270243, 59261, 22617, 83849, 129489, 132837, 90498, 76815, 168652, 180164, 4514, 277808, 246216, 167166, 274859, 169644, 135706, 246427, 209962, 16718, 254355, 200993, 66542, 9373, 266650, 173388, 41449, 104647, 38058, 13279, 167201, 49437, 162328, 154068, 26949, 68029, 179310, 240727, 7531, 213760, 127441, 50206, 246634, 92678, 19018, 152651, 98428, 60331, 199418, 275769, 17778, 40612, 159463, 231081, 71751, 140820, 164794, 68768, 31446, 110361, 15049, 30570, 112608, 113279, 115150, 213323, 246842, 99067, 56905, 63144, 9177, 177330, 110309, 72523, 135908, 62582, 93370, 38950, 81311, 81689, 247873, 203401, 34526, 239404, 117915, 152514, 219013, 214244, 122045, 102832, 246759, 206249, 90829, 186848, 115997, 16835, 180779, 227835, 231493, 13152, 31424, 251230, 255595, 156955, 256226, 85620, 267066, 193680, 217528, 136357, 47304, 250398, 115109, 11718, 270629, 129393, 18770, 128951, 237257, 209891, 203582, 135383, 59432, 101172, 227146, 32721, 126609, 215097, 105476, 13968, 2036, 150627, 23585, 123215, 86123, 264863, 188686, 248131, 242681, 13486, 58001, 208111, 73798, 211430, 28488, 231048, 90049, 197427, 244209, 41665, 14461, 376, 157594, 22854, 147021, 262219, 180859, 83377, 100175, 138954, 181118, 82407, 233444, 67497, 251606, 263475, 249223, 86093, 237805, 83031, 253928, 97691, 3191, 54652, 225680, 47594, 83631, 8454, 231340, 108763, 167611, 180150, 26057, 75599, 135736, 135665, 265099, 266866, 68308, 191267, 82882, 156510, 235888, 12707, 223715, 13347, 46221, 36148, 241186, 37616, 135625, 222217, 149982, 30560, 38219, 273089, 121389, 123956, 97848, 35339, 44611, 161530, 269105, 110382, 65665, 135609, 217930, 65387, 262686, 101910, 63311, 30245, 172186, 174920, 147139, 193642, 130366, 105911, 206166, 262634, 157660, 178666, 42112, 247848, 96019, 216435, 147632, 128662, 237411, 50928, 105562, 19570, 89555, 240370, 261176, 32764, 45899, 274501, 160109, 198246, 96689, 47925, 87640, 184854, 141991, 69183, 68256, 167558, 84753, 257192, 24529, 94923, 16943, 94961, 244455, 267644, 94519, 236349, 14456, 243819, 53943, 126747, 59912, 89006, 130380, 97209, 90139, 91491, 173537, 91001, 1063, 143866, 198504, 240141, 269894, 244070, 101562, 119248, 243023, 53392, 67376, 153831, 274608, 142204, 144229, 152136, 225593, 2803, 248079, 213641, 36638, 74582, 267249, 183277, 80434, 22387, 172870, 267382, 138523, 16830, 78352, 246024, 249305, 269417, 207797, 71863, 94781, 100782, 131673, 121781, 123553, 117068, 122625, 24194, 85426, 276688, 193412, 185056, 163307, 225414, 208727, 159822, 37623, 224039, 22605, 205374, 206375, 114744, 180855, 195392, 83314, 175925, 31528, 136425, 39159, 29133, 48630, 117407, 32275, 138368, 41455, 191599, 200196, 149273, 179761, 136265, 118993, 131346, 223756, 212275, 231354, 144024, 44837, 11374, 240242, 48995, 147037, 160571, 145032, 206109, 214654, 116506, 88663, 195760, 111807, 49572, 73603, 42962, 125240, 65908, 8815, 169600, 24624, 233529, 194864, 164983, 26206, 87272, 75719, 92502, 181629, 16666, 24945, 231641, 259255, 208251, 189536, 25247, 86392, 50797, 87386, 270279, 164728, 49792, 36715, 98405, 180243, 194590, 208997, 222788, 274703, 174914, 278760, 20501, 98702, 104926, 168861, 87028, 213259, 13850, 210028, 113334, 74130, 124645, 26713, 56203, 11687, 237060, 75173, 263840, 67535, 9408, 201526, 166463, 277018, 22703, 269874, 13873, 101672, 251699, 17952, 113292, 97585, 14267, 257193, 55955, 254547, 15040, 178885, 51207, 252235, 79795, 157290, 4198, 29070, 163128, 72249, 47030, 137422, 228264, 79977, 244657, 185607, 265550, 236667, 112345, 9227, 184855, 236960, 196297, 16545, 238848, 160833, 242884, 249649, 199484, 192906, 198637, 81977, 46984, 125892, 135928, 23124, 104943, 80071, 193149, 8537, 120807, 204972, 156540, 84831, 210035, 258275, 27345, 121213, 212453, 155287, 55542, 110366, 205436, 240181, 261973, 161066, 37527, 210223, 172512, 2238, 160880, 227007, 47987, 169561, 60473, 71223, 250739, 184789, 231760, 82094, 254342, 196031, 249128, 214308, 225687, 123231, 155580, 208480, 169934, 160606, 74466, 205909, 138045, 245150, 149667, 174179, 120931, 210473, 165879, 204530, 32244, 277662, 56361, 252903, 115490, 274064, 251797, 53456, 192101, 33826, 249412, 80642, 60041, 42331, 7547, 22495, 51365, 126053, 78162, 71822, 22858, 73607, 106748, 159647, 51945, 215359, 131021, 96912, 195308, 189691, 149824, 213558, 172498, 137524, 267789, 221557, 256641, 70014, 236955, 158015, 2012, 254021, 127131, 253228, 231337, 268492, 215225, 162827, 17727, 81873, 2891, 205260, 171428, 148620, 145099, 237434, 276209, 98668, 209756, 122449, 206774, 118628, 19725, 99648, 176740, 243848, 108773, 221690, 267502, 166313, 174916, 128774, 138125, 51992, 2197, 138397, 36200, 270554, 122782, 166646, 225610, 268191, 123782, 208563, 86713, 8158, 253482, 210750, 266946, 242640, 146890, 53310, 36749, 248419, 48859, 84418, 23671, 81729, 12444, 86100, 94466, 193352, 195694, 250330, 100009, 73638, 113804, 30779, 201674, 209536, 141638, 83678, 81197, 166673, 145000, 123388, 129880, 173659, 133571, 75335, 241036, 136348, 213829, 16106, 220666, 32444, 213467, 115488, 69684, 162765, 100121, 165618, 84611, 217536, 91967, 186762, 251964, 254486, 142174, 229258, 203177, 57661, 82793, 167147, 75286, 75495, 248300, 145849, 276507, 64589, 46184, 175141, 144234, 5403, 145994, 273798, 155669, 199841, 209265, 177728, 156092, 231295, 79506, 204393, 243714, 242309, 123894, 236943, 41897, 215988, 270922, 190185, 92754, 116582, 56998, 267767, 156760, 48319, 162927, 33113, 163253, 32993, 235374, 98901, 278407, 929, 100694, 28663, 24459, 43962, 135376, 226745, 69526, 104443, 174769, 276925, 113531, 106851, 270863, 217130, 194639, 152359, 19974, 188796, 176839, 162671, 48708, 97972, 60445, 106598, 277623, 62272, 57623, 218831, 249040, 155457, 189365, 240054, 267538, 180042, 182693, 175703, 178003, 234680, 163308, 256133, 150364, 229755, 38832, 89203, 157160, 242898, 74129, 119617, 234685, 128077, 120281, 27647, 246782, 131445, 40337, 77052, 152963, 112770, 175304, 215749, 228883, 24118, 62909, 115682, 143411, 133788, 111196, 53623, 222372, 194033, 73467, 264628, 76070, 161361, 169465, 116006, 152808, 220074, 126783, 168805, 225721, 277315, 161611, 51440, 124230, 270604, 209047, 176656, 52001, 245956, 88937, 182560, 238557, 91911, 114938, 123115, 227210, 210174, 156593, 125276, 254027, 130250, 50007, 169781, 11325, 183200, 209520, 38213, 112559, 128402, 245388, 271306, 164442, 248276, 150015, 152770, 160574, 172010, 233237, 255661, 235004, 242544, 119567, 166772, 26553, 35384, 255038, 31037, 266312, 196886, 128915, 266819, 194543, 109516, 262298, 229102, 24150, 117482, 30979, 33832, 111133, 262810, 274821, 176401, 36095, 12698, 78564, 199468, 244324, 126236, 245091, 205448, 86202, 61732, 100227, 258673, 127211, 76426, 77110, 79556, 187008, 8187, 66842, 89980, 40466, 243968, 33993, 210226, 223598, 266516, 28339, 238008, 164944, 56885, 60804, 39255, 256818, 226681, 71076, 51262, 210812, 172343, 8419, 16799, 6840, 166390, 225329, 261768, 229721, 22991, 212181, 82144, 170201, 278633, 194669, 106282, 247183, 19268, 276964, 136579, 19969, 210690, 63868, 53950, 208829, 274439, 163554, 109520, 92005, 224924, 268817, 193368, 22062, 26146, 248397, 43909, 254405, 33474, 266840, 260484, 201295, 150762, 251591, 272838, 221948, 30655, 184632, 110620, 183351, 76482, 99973, 221114, 98333, 275173, 98625, 118275, 19571, 181001, 8313, 262066, 78755, 28899, 254498, 33570, 408, 146765, 223928, 74782, 205072, 163329, 239393, 204799, 183290, 18685, 101304, 29867, 169194, 258837, 18384, 249063, 205765, 262659, 176682, 244994, 41117, 211352, 122956, 146649, 76368, 161619, 227538, 49827, 45416, 192095, 233606, 20487, 165262, 201157, 21356, 41088, 64476, 235895, 114983, 113542, 125303, 147141, 30937, 8972, 175374, 10836, 65469, 190533, 38814, 244, 23650, 32417, 118061, 196715, 178265, 141871, 266764, 211032, 192092, 30985, 195145, 220316, 250543, 256072, 124597, 94264, 257655, 228571, 250962, 62617, 273086, 123610, 189150, 135605, 196846, 109879, 73399, 105881, 158984, 186831, 75380, 47194, 59007, 274654, 126149, 24301, 58168, 7162, 49313, 211098, 72785, 43163, 98861, 277681, 136430, 21252, 95593, 274779, 45184, 182885, 171286, 231635, 92208, 218096, 62747, 16599, 14215, 77530, 278832, 228819, 115006, 73298, 71914, 22780, 147777, 107514, 8346, 139916, 221885, 85757, 204943, 159724, 167768, 163871, 81927, 117963, 235099, 15772, 71183, 183730, 206695, 144799, 247621, 15371, 207440, 104243, 167587, 189571, 99108, 94418, 81031, 197760, 172180, 163187, 86931, 87207, 219073, 161875, 188295, 120707, 229365, 150827, 183483, 188635, 31919, 124973, 35783, 212621, 139228, 276212, 210311, 277212, 10754, 194911, 20115, 48854, 21949, 238147, 150670, 250227, 113952, 3505, 55441, 882, 183065, 104123, 153381, 121721, 98756, 13973, 250196, 210780, 18311, 56442, 126549, 128134, 119298, 75783, 214863, 133041, 33254, 208846, 252071, 175287, 176879, 136676, 33319, 130570, 247240, 84727, 66518, 202210, 185608, 257699, 241146, 240031, 253266, 204167, 154866, 20846, 104925, 128693, 234678, 44467, 3556, 46443, 62410, 133885, 90391, 159564, 33922, 168441, 188178, 230949, 178240, 243294, 188589, 85892, 137766, 5331, 236790, 125237, 177091, 193428, 220974, 78112, 38544, 187904, 43157, 107283, 93114, 59536, 252529, 254144, 234788, 84374, 120529, 65917, 224435, 210613, 147781, 132282, 66327, 208912, 178961, 110168, 243789, 264897, 52885, 21005, 157843, 26508, 92795, 103740, 226491, 115929, 184272, 61082, 62926, 266867, 85597, 205979, 190305, 27420, 17036, 267356, 258777, 45564, 254092, 236032, 17651, 3693, 158627, 100578, 92511, 205764, 21830, 11716, 93563, 44904, 197737, 86720, 124399, 201697, 116291, 169348, 176835, 251150, 143134, 156970, 78875, 22095, 55198, 96880, 94691, 192554, 203316, 108551, 29885, 62457, 208240, 218286, 259757, 198081, 111656, 218757, 118847, 234077, 55136, 270828, 149655, 170858, 117862, 139967, 254751, 170017, 89829, 98723, 22813, 16504, 245352, 216842, 226517, 68886, 67324, 110979, 196098, 111608, 129447, 120155, 257551, 21370, 57624, 208960, 93085, 237310, 25613, 104517, 59438, 159117, 65936, 248468, 166291, 160511, 261769, 11675, 227925, 16379, 21080, 204597, 173289, 269183, 55492, 176894, 10986, 248155, 17247, 48046, 35826, 34944, 74849, 256794, 75405, 183658, 258084, 261265, 240736, 87400, 127926, 67351, 272987, 230413, 133587, 182781, 223034, 255822, 227276, 116320, 161443, 34714, 259829, 225191, 162263, 242949, 251076, 277744, 120447, 93389, 135855, 50768, 226809, 101616, 126072, 240870, 22295, 157251, 155383, 94357, 213126, 237558, 120386, 275531, 260699, 58940, 250444, 112972, 150393, 190404, 76699, 176777, 243679, 75723, 244980, 223402, 138241, 144241, 175249, 220296, 30509, 55808, 256812, 12663, 155114, 137759, 65239, 105874, 178255, 53332, 5942, 237426, 20561, 273587, 79172, 239670, 59770, 234965, 10830, 112920, 197535, 86965, 225213, 220329, 136561, 204747, 206438, 103676, 108799, 51805, 83847, 186527, 161390, 207721, 229412, 164549, 231232, 251164, 117925, 266566, 50972, 211656, 80912, 228391, 203014, 194737, 27102, 74453, 212895, 137529, 205095, 98930, 57794, 258496, 78797, 67079, 270881, 255099, 154137, 273906, 33036, 209758, 190997, 150026, 149647, 30249, 102199, 81051, 46153, 242781, 250544, 123319, 237074, 114085, 83910, 49212, 89922, 107796, 8782, 225774, 215139, 54704, 199742, 69444, 154182, 180056, 172259, 250006, 80703, 139742, 88757, 151930, 93705, 266268, 135902, 157191, 39195, 63494, 258107, 211991, 256028, 78406, 212124, 59746, 99635, 145861, 94153, 129505, 128913, 175526, 172060, 247998, 228666, 102032, 230105, 269113, 2041, 46351, 219530, 166540, 264540, 7523, 274120, 58612, 57305, 21395, 89507, 88933, 37293, 251791, 30555, 41123, 254690, 147101, 221510, 164923, 109026, 172613, 46293, 123145, 150297, 88755, 176102, 232047, 74215, 20484, 186312, 171031, 219149, 57449, 216397, 173773, 42274, 77724, 79740, 144647, 180898, 234180, 230392, 237559, 64746, 130474, 85092, 148514, 79182, 6990, 28537, 25227, 234629, 18375, 255744, 247241, 219065, 62654, 188258, 52441, 117111, 275473, 243077, 67176, 182819, 218746, 93274, 188195, 34115, 117506, 267120, 26756, 110362, 113217, 200430, 173253, 127727, 99314, 13937, 74630, 70918, 234893, 60621, 7301, 71752, 240352, 45391, 28891, 57989, 76350, 107121, 57205, 173900, 249628, 212991, 86823, 90134, 140272, 157468, 170184, 59629, 41450, 121530, 223985, 24973, 165499, 37538, 187805, 109333, 244790, 33197, 20971, 182506, 156670, 42369, 88029, 220801, 48025, 172233, 153839, 1674, 85875, 166785, 262399, 173793, 71739, 258846, 78746, 131862, 277203, 226069, 43853, 120262, 30971, 70116, 243142, 106884, 182117, 127490, 114595, 99227, 23846, 52495, 12537, 273849, 149231, 238368, 158714, 163612, 188130, 113076, 256407, 145412, 195116, 268319, 198277, 61242, 254042, 155149, 222628, 231832, 268134, 94886, 159123, 161211, 62592, 226553, 163393, 18945, 243328, 217021, 28454, 253346, 74000, 215094, 58855, 275317, 8529, 141252, 8350, 76173, 179724, 60569, 31099, 264355, 230013, 127621, 272415, 209719, 41395, 81634, 76274, 67620, 196771, 118484, 3305, 53042, 207979, 170879, 103445, 84882, 80157, 270432, 19075, 131213, 96913, 98816, 124553, 24636, 155835, 199162, 124259, 54884, 161326, 121548, 30795, 182274, 170256, 261502, 189722, 44286, 192244, 3481, 161558, 36075, 19220, 118058, 62069, 183142, 213423, 45340, 115324, 41701, 106686, 101566, 25369, 112220, 246375, 162988, 269688, 153668, 190725, 13879, 55776, 154228, 243838, 269749, 146564, 83406, 87679, 20620, 253828, 92696, 172723, 67296, 272786, 60286, 76652, 251511, 64440, 27907, 194388, 103748, 165884, 264149, 59447, 40483, 143044, 173065, 15310, 109049, 276213, 93985, 81988, 77860, 50596, 19375, 11517, 151558, 27621, 160769, 67053, 142137, 154409, 225634, 47279, 103915, 137211, 143909, 87929, 180146, 112761, 48178, 81901, 16818, 189151, 82939, 163632, 89134, 30022, 237451, 77377, 156144, 242379, 18979, 224439, 143412, 109126, 276998, 235098, 229055, 177349, 244376, 153865, 44130, 162194, 119573, 137138, 34661, 263673, 263107, 198165, 194676, 43579, 80613, 269973, 194290, 114082, 98425, 9486, 54193, 107921, 172972, 18401, 150049, 73528, 55180, 260099, 8523, 24211, 31688, 33950, 14643, 97782, 215003, 26248, 78440, 93482, 248749, 95207, 174326, 102375, 48971, 208287, 256844, 112998, 251983, 92688, 246202, 199923, 166795, 248202, 23771, 100108, 148452, 198483, 196078, 159727, 61657, 166925, 84421, 202989, 131993, 227780, 42923, 25009, 275335, 13961, 84521, 15260, 165418, 24394, 227275, 206202, 42847, 27947, 79191, 44472, 233947, 266129, 145867, 216004, 207385, 10660, 244873, 266617, 263555, 239736, 67921, 87776, 201782, 133771, 55562, 25636, 274644, 149180, 118768, 232990, 163600, 16781, 14319, 8496, 204402, 223461, 42322, 131882, 196653, 202237, 108332, 251423, 32211, 230427, 196018, 205915, 208969, 27193, 153042, 141288, 139406, 250948, 149532, 34808, 169130, 264947, 86692, 32990, 169554, 107969, 17970, 207806, 177420, 270096, 31892, 86276, 202440, 277639, 54233, 16036, 234743, 5127, 121713, 175235, 96679, 115062, 195394, 209565, 218933, 191072, 264873, 202488, 194568, 222492, 9362, 169065, 68605, 137856, 196645, 98654, 53851, 239630, 188030, 98297, 34864, 131218, 29040, 170483, 24778, 269762, 183182, 80803, 218875, 31391, 53506, 255405, 91425, 116740, 182212, 80841, 61271, 189665, 46222, 186899, 182702, 259066, 207965, 115537, 7158, 64076, 234569, 146363, 137163, 24598, 248529, 172091, 142704, 4179, 187463, 119179, 124329, 198214, 94161, 64010, 41135, 47376, 228021, 210706, 139452, 100004, 91501, 165425, 134354, 245828, 188044, 20250, 161039, 55331, 154697, 69338, 246036, 239692, 139524, 190150, 161373, 83306, 209961, 267302, 266949, 168640, 242217, 100410, 175228, 233826, 172624, 169634, 121435, 36807, 112825, 274549, 64616, 153797, 115769, 196146, 218844, 154880, 75594, 227135, 273707, 192374, 196457, 192479, 76508, 140873, 188685, 81511, 114611, 51622, 134031, 47098, 243141, 271172, 86876, 255376, 155376, 31200, 248744, 205145, 148986, 45359, 225865, 216618, 18206, 56385, 45704, 86759, 132572, 111351, 43896, 93364, 236097, 235952, 101245, 262118, 9114, 158387, 6466, 116448, 200288, 61524, 3145, 16798, 45395, 118848, 84795, 275306, 28523, 275631, 106030, 136237, 258374, 93698, 263344, 1790, 91882, 115552, 276896, 269986, 104425, 118180, 271531, 271460, 194899, 30494, 95781, 133284, 185592, 190870, 262574, 99980, 78474, 135382, 74356, 200323, 208907, 269438, 64783, 268774, 77469, 39345, 140228, 144186, 131128, 32703, 34098, 37352, 155156, 222353, 204507, 201303, 43614, 100580, 259312, 276647, 204619, 134863, 165924, 134128, 4271, 99738, 91899, 180272, 250674, 56887, 50501, 199333, 7392, 196519, 255582, 45695, 180863, 117210, 272667, 124989, 12388, 209621, 234734, 219897, 133416, 155450, 31278, 190015, 54357, 200707, 125106, 228579, 199106, 239310, 212847, 63625, 261214, 160735, 131983, 79419, 21606, 66500, 64634, 86576, 241184, 20738, 27616, 200189, 270715, 166512, 95049, 178362, 94709, 179433, 82491, 231316, 191803, 223750, 33778, 185358, 19233, 169380, 8380, 32861, 158983, 233776, 79916, 143471, 249396, 161880, 183122, 37817, 182969, 173395, 169233, 39488, 207148, 47265, 66624, 83842, 172192, 128286, 159731, 243899, 262459, 275228, 263164, 31464, 47490, 46197, 73318, 207976, 213175, 118587, 197997, 231518, 238461, 212396, 77692, 48421, 186784, 222050, 192308, 58878, 88416, 249736, 181296, 204978, 212260, 61402, 245203, 94585, 120828, 242903, 73535, 175283, 197688, 179423, 30744, 24697, 270897, 261886, 190374, 216249, 10412, 59214, 190279, 36935, 234724, 52497, 274979, 259228, 53256, 232754, 188369, 58319, 190521, 208099, 81845, 11974, 163662, 26084, 32491, 55337, 25359, 175910, 97694, 161385, 93018, 36653, 104469, 232756, 270263, 161907, 36938, 67078, 149277, 135957, 57486, 144899, 261015, 174700, 182101, 72099, 9016, 134686, 32817, 42041, 199363, 129465, 209168, 84666, 151597, 4334, 220006, 89558, 244097, 98825, 273465, 136277, 227544, 166103, 219462, 134708, 39669, 207967, 91283, 69383, 194738, 33315, 144455, 260432, 213365, 143868, 245909, 160740, 227358, 33007, 210375, 244781, 128122, 36799, 58823, 135975, 177114, 13256, 101861, 21332, 81460, 222921, 150141, 232048, 59079, 105382, 213118, 27317, 116063, 136747, 148749, 79186, 57920, 50427, 100172, 74377, 233867, 50714, 14232, 223364, 60738, 31902, 90915, 162380, 268988, 59829, 274656, 65877, 252377, 20032, 240774, 206986, 212697, 8095, 91719, 45169, 194882, 31082, 18688, 159783, 239106, 223587, 206967, 113845, 37946, 144925, 5769, 66235, 105667, 223145, 203531, 29485, 179688, 134884, 107581, 208751, 207513, 118438, 202025, 271615, 177595, 56759, 125217, 45935, 140863, 33633, 266388, 167388, 202381, 180942, 97208, 26314, 168408, 58529, 68016, 148109, 260936, 203441, 12489, 57949, 65145, 164167, 189844, 249898, 68117, 188069, 204250, 135176, 239317, 245645, 23103, 17128, 1792, 119748, 83383, 89389, 228039, 68524, 266371, 90343, 56663, 65201, 144727, 271284, 43920, 1248, 34019, 15791, 190791, 78823, 25996, 226702, 62680, 255749, 40798, 9941, 49629, 43309, 205536, 127782, 149466, 44441, 95011, 7474, 124096, 101268, 250333, 9929, 11125, 213102, 18134, 184263, 67286, 269313, 166892, 11087, 81597, 210315, 187081, 271588, 104505, 92596, 193461, 57819, 190492, 21264, 206573, 33030, 31702, 81564, 94680, 185051, 191293, 64045, 236269, 80996, 187754, 177660, 191188, 182692, 208181, 56369, 126866, 260427, 245503, 231790, 248492, 6497, 162446, 74648, 52293, 234860, 177752, 215676, 148662, 12589, 47819, 128045, 193305, 147649, 110031, 217159, 190948, 134986, 52544, 238189, 123238, 53781, 59789, 272015, 136702, 247363, 138855, 165034, 85112, 6871, 148631, 216501, 190517, 182425, 75903, 242371, 28289, 62755, 161070, 136013, 242695, 252846, 57255, 83768, 154865, 220724, 251288, 62901, 116744, 149562, 131006, 19206, 237520, 144555, 268434, 88836, 45835, 9460, 191575, 126240, 26892, 214655, 146421, 22152, 138955, 78262, 73716, 91954, 57234, 74758, 49415, 32516, 190272, 258544, 23182, 19336, 143337, 78512, 167418, 251715, 217647, 198507, 239841, 224057, 196745, 24278, 266368, 25474, 222948, 135395, 81138, 14618, 164612, 69232, 95736, 93141, 15135, 190966, 205980, 277523, 101571, 275281, 48498, 211120, 238655, 137816, 126531, 244854, 96869, 180945, 129238, 90269, 16155, 54848, 228351, 215004, 102200, 177945, 170938, 228787, 160198, 2481, 11724, 62348, 146029, 255331, 253322, 274612, 270265, 30333, 207734, 23870, 269960, 40504, 25534, 267210, 40586, 135951, 103869, 128208, 110214, 224249, 265918, 269031, 89179, 232892, 192625, 157163, 123501, 252066, 13181, 242364, 1409, 55193, 87101, 21092, 56011, 134160, 180458, 505, 97415, 129368, 98373, 15806, 139300, 139575, 27891, 181484, 139223, 266044, 162610, 189412, 68436, 64158, 182749, 148847, 214084, 19857, 120829, 160770, 237474, 192727, 277051, 200862, 226011, 167998, 203156, 5066, 60787, 161250, 41414, 276038, 261460, 107042, 43850, 133893, 276535, 259057, 253559, 107523, 92, 135691, 122938, 101846, 26412, 92156, 24209, 36978, 260108, 274423, 32467, 21050, 15479, 86263, 102899, 127810, 153193, 277884, 117002, 31441, 254755, 95506, 64320, 164210, 232093, 275140, 131181, 14387, 212844, 181948, 144943, 113802, 171078, 1585, 20834, 29930, 271120, 200093, 191413, 121874, 140853, 169222, 238538, 140417, 202287, 276328, 87351, 69274, 215122, 37272, 12780, 277605, 229076, 204448, 203213, 111456, 183047, 86705, 46461, 188845, 88103, 243502, 184985, 12515, 179383, 204489, 79615, 269847, 49994, 272369, 250750, 59424, 131839, 238823, 102676, 272722, 170302, 237715, 83604, 16805, 95280, 31500, 166257, 127134, 65126, 82917, 196910, 16999, 56139, 112457, 220628, 150968, 138467, 179392, 158883, 58834, 185664, 59551, 184211, 152645, 105100, 6603, 118683, 131793, 158456, 17917, 202865, 2484, 171746, 43955, 9281, 31008, 61935, 166259, 115678, 217670, 98535, 199740, 130347, 84111, 65817, 53418, 7607, 108485, 169054, 133916, 42359, 258147, 276250, 231285, 81087, 14710, 265834, 76352, 70198, 1535, 37689, 75969, 106514, 111938, 276658, 91449, 128447, 107531, 182551, 102232, 49968, 90830, 215100, 277143, 84604, 246933, 12502, 238307, 121817, 263250, 65244, 168976, 16246, 218051, 252628, 27352, 153115, 245110, 223039, 49980, 234925, 133986, 69627, 47034, 10570, 45113, 237439, 79736, 53527, 188483, 4838, 220512, 42114, 27996, 45064, 105186, 191720, 251495, 202764, 214413, 259517, 152291, 81771, 128207, 231462, 152689, 258943, 273999, 273252, 259279, 106191, 64197, 91647, 251069, 12495, 228820, 261160, 145155, 173561, 26371, 162155, 660, 166141, 107342, 90614, 83828, 219420, 193469, 174195, 135572, 30650, 88115, 71480, 142325, 89651, 196006, 195079, 92883, 62776, 102668, 164984, 61801, 140264, 55014, 104530, 110637, 95104, 147513, 196775, 24188, 77250, 198790, 58379, 147744, 128014, 103976, 186783, 233997, 42789, 178905, 143773, 232820, 2996, 67364, 109223, 5506, 44594, 38020, 255255, 215934, 15161, 154730, 264390, 145516, 240888, 200065, 239344, 27838, 2103, 112709, 242581, 142556, 249189, 124546, 52215, 166758, 52100, 5543, 32179, 251149, 208406, 170742, 236655, 102398, 4774, 160636, 40415, 260038, 98912, 161459, 55086, 132065, 70694, 146604, 227258, 168388, 63587, 88993, 72852, 103190, 254386, 187757, 69021, 85554, 205051, 126360, 58613, 119949, 26538, 30426, 239752, 235891, 22637, 168008, 50464, 112818, 76942, 148996, 129255, 164307, 116450, 220700, 95986, 168144, 241874, 138815, 32559, 147874, 142801, 276861, 181817, 278615, 118677, 131363, 278536, 125720, 218703, 190317, 51545, 104657, 132456, 119650, 237650, 92901, 120873, 75429, 88170, 246247, 184500, 31520, 99996, 4435, 234017, 133555, 12756, 92077, 254971, 189441, 79697, 205608, 174140, 197556, 80768, 44065, 196898, 243070, 255648, 181516, 262067, 85821, 250764, 218876, 171139, 112111, 144315, 31250, 153904, 93631, 174509, 73303, 183239, 42730, 51276, 1928, 162775, 148064, 198760, 156477, 155059, 147533, 168036, 7248]\n"
          ]
        }
      ]
    },
    {
      "cell_type": "code",
      "source": [
        "# Mapping user ke dataframe df\n",
        "df['user'] = df['user_id'].map(user_to_user_encoded)\n",
        "\n",
        "# Mapping ISBN ke dataframe df\n",
        "df['isbn'] = df['ISBN'].map(books_to_books_encoded)"
      ],
      "metadata": {
        "id": "MIbPqUBa7QLN"
      },
      "execution_count": null,
      "outputs": []
    },
    {
      "cell_type": "markdown",
      "source": [
        "# Content Based Filtering"
      ],
      "metadata": {
        "id": "HrSJqCsKSq6O"
      }
    },
    {
      "cell_type": "markdown",
      "source": [
        "Load Dataset"
      ],
      "metadata": {
        "id": "aaRHOAteWyK3"
      }
    },
    {
      "cell_type": "code",
      "source": [
        "# Membuat Dataframe Book\n",
        "df_books = book[['ISBN','Book-Title','Book-Author']]\n",
        "df_books.rename(columns={\"Book-Title\" : \"book_title\", \"Book-Author\" : \"book_author\"}, inplace=True)"
      ],
      "metadata": {
        "colab": {
          "base_uri": "https://localhost:8080/"
        },
        "id": "ZhSG5-u2SuPy",
        "outputId": "ba8b747e-b982-459f-a8ef-303ead78c113"
      },
      "execution_count": null,
      "outputs": [
        {
          "output_type": "stream",
          "name": "stderr",
          "text": [
            "<ipython-input-111-c2eaa7ad3a43>:2: SettingWithCopyWarning: \n",
            "A value is trying to be set on a copy of a slice from a DataFrame\n",
            "\n",
            "See the caveats in the documentation: https://pandas.pydata.org/pandas-docs/stable/user_guide/indexing.html#returning-a-view-versus-a-copy\n",
            "  df_books.rename(columns={\"Book-Title\" : \"book_title\", \"Book-Author\" : \"book_author\"}, inplace=True)\n"
          ]
        }
      ]
    },
    {
      "cell_type": "code",
      "source": [
        "df_books"
      ],
      "metadata": {
        "colab": {
          "base_uri": "https://localhost:8080/",
          "height": 424
        },
        "id": "dN4D_nXlT3nQ",
        "outputId": "c3fca00a-e3ec-4f90-d458-7f23e728279a"
      },
      "execution_count": null,
      "outputs": [
        {
          "output_type": "execute_result",
          "data": {
            "text/plain": [
              "              ISBN                                         book_title  \\\n",
              "0       0195153448                                Classical Mythology   \n",
              "1       0002005018                                       Clara Callan   \n",
              "2       0060973129                               Decision in Normandy   \n",
              "3       0374157065  Flu: The Story of the Great Influenza Pandemic...   \n",
              "4       0393045218                             The Mummies of Urumchi   \n",
              "...            ...                                                ...   \n",
              "271355  0440400988                         There's a Bat in Bunk Five   \n",
              "271356  0525447644                            From One to One Hundred   \n",
              "271357  006008667X  Lily Dale : The True Story of the Town that Ta...   \n",
              "271358  0192126040                        Republic (World's Classics)   \n",
              "271359  0767409752  A Guided Tour of Rene Descartes' Meditations o...   \n",
              "\n",
              "                 book_author  \n",
              "0         Mark P. O. Morford  \n",
              "1       Richard Bruce Wright  \n",
              "2               Carlo D'Este  \n",
              "3           Gina Bari Kolata  \n",
              "4            E. J. W. Barber  \n",
              "...                      ...  \n",
              "271355        Paula Danziger  \n",
              "271356            Teri Sloat  \n",
              "271357      Christine Wicker  \n",
              "271358                 Plato  \n",
              "271359   Christopher  Biffle  \n",
              "\n",
              "[271360 rows x 3 columns]"
            ],
            "text/html": [
              "\n",
              "  <div id=\"df-37d582c8-9716-44c0-8747-c2bda1633d24\">\n",
              "    <div class=\"colab-df-container\">\n",
              "      <div>\n",
              "<style scoped>\n",
              "    .dataframe tbody tr th:only-of-type {\n",
              "        vertical-align: middle;\n",
              "    }\n",
              "\n",
              "    .dataframe tbody tr th {\n",
              "        vertical-align: top;\n",
              "    }\n",
              "\n",
              "    .dataframe thead th {\n",
              "        text-align: right;\n",
              "    }\n",
              "</style>\n",
              "<table border=\"1\" class=\"dataframe\">\n",
              "  <thead>\n",
              "    <tr style=\"text-align: right;\">\n",
              "      <th></th>\n",
              "      <th>ISBN</th>\n",
              "      <th>book_title</th>\n",
              "      <th>book_author</th>\n",
              "    </tr>\n",
              "  </thead>\n",
              "  <tbody>\n",
              "    <tr>\n",
              "      <th>0</th>\n",
              "      <td>0195153448</td>\n",
              "      <td>Classical Mythology</td>\n",
              "      <td>Mark P. O. Morford</td>\n",
              "    </tr>\n",
              "    <tr>\n",
              "      <th>1</th>\n",
              "      <td>0002005018</td>\n",
              "      <td>Clara Callan</td>\n",
              "      <td>Richard Bruce Wright</td>\n",
              "    </tr>\n",
              "    <tr>\n",
              "      <th>2</th>\n",
              "      <td>0060973129</td>\n",
              "      <td>Decision in Normandy</td>\n",
              "      <td>Carlo D'Este</td>\n",
              "    </tr>\n",
              "    <tr>\n",
              "      <th>3</th>\n",
              "      <td>0374157065</td>\n",
              "      <td>Flu: The Story of the Great Influenza Pandemic...</td>\n",
              "      <td>Gina Bari Kolata</td>\n",
              "    </tr>\n",
              "    <tr>\n",
              "      <th>4</th>\n",
              "      <td>0393045218</td>\n",
              "      <td>The Mummies of Urumchi</td>\n",
              "      <td>E. J. W. Barber</td>\n",
              "    </tr>\n",
              "    <tr>\n",
              "      <th>...</th>\n",
              "      <td>...</td>\n",
              "      <td>...</td>\n",
              "      <td>...</td>\n",
              "    </tr>\n",
              "    <tr>\n",
              "      <th>271355</th>\n",
              "      <td>0440400988</td>\n",
              "      <td>There's a Bat in Bunk Five</td>\n",
              "      <td>Paula Danziger</td>\n",
              "    </tr>\n",
              "    <tr>\n",
              "      <th>271356</th>\n",
              "      <td>0525447644</td>\n",
              "      <td>From One to One Hundred</td>\n",
              "      <td>Teri Sloat</td>\n",
              "    </tr>\n",
              "    <tr>\n",
              "      <th>271357</th>\n",
              "      <td>006008667X</td>\n",
              "      <td>Lily Dale : The True Story of the Town that Ta...</td>\n",
              "      <td>Christine Wicker</td>\n",
              "    </tr>\n",
              "    <tr>\n",
              "      <th>271358</th>\n",
              "      <td>0192126040</td>\n",
              "      <td>Republic (World's Classics)</td>\n",
              "      <td>Plato</td>\n",
              "    </tr>\n",
              "    <tr>\n",
              "      <th>271359</th>\n",
              "      <td>0767409752</td>\n",
              "      <td>A Guided Tour of Rene Descartes' Meditations o...</td>\n",
              "      <td>Christopher  Biffle</td>\n",
              "    </tr>\n",
              "  </tbody>\n",
              "</table>\n",
              "<p>271360 rows × 3 columns</p>\n",
              "</div>\n",
              "      <button class=\"colab-df-convert\" onclick=\"convertToInteractive('df-37d582c8-9716-44c0-8747-c2bda1633d24')\"\n",
              "              title=\"Convert this dataframe to an interactive table.\"\n",
              "              style=\"display:none;\">\n",
              "        \n",
              "  <svg xmlns=\"http://www.w3.org/2000/svg\" height=\"24px\"viewBox=\"0 0 24 24\"\n",
              "       width=\"24px\">\n",
              "    <path d=\"M0 0h24v24H0V0z\" fill=\"none\"/>\n",
              "    <path d=\"M18.56 5.44l.94 2.06.94-2.06 2.06-.94-2.06-.94-.94-2.06-.94 2.06-2.06.94zm-11 1L8.5 8.5l.94-2.06 2.06-.94-2.06-.94L8.5 2.5l-.94 2.06-2.06.94zm10 10l.94 2.06.94-2.06 2.06-.94-2.06-.94-.94-2.06-.94 2.06-2.06.94z\"/><path d=\"M17.41 7.96l-1.37-1.37c-.4-.4-.92-.59-1.43-.59-.52 0-1.04.2-1.43.59L10.3 9.45l-7.72 7.72c-.78.78-.78 2.05 0 2.83L4 21.41c.39.39.9.59 1.41.59.51 0 1.02-.2 1.41-.59l7.78-7.78 2.81-2.81c.8-.78.8-2.07 0-2.86zM5.41 20L4 18.59l7.72-7.72 1.47 1.35L5.41 20z\"/>\n",
              "  </svg>\n",
              "      </button>\n",
              "      \n",
              "  <style>\n",
              "    .colab-df-container {\n",
              "      display:flex;\n",
              "      flex-wrap:wrap;\n",
              "      gap: 12px;\n",
              "    }\n",
              "\n",
              "    .colab-df-convert {\n",
              "      background-color: #E8F0FE;\n",
              "      border: none;\n",
              "      border-radius: 50%;\n",
              "      cursor: pointer;\n",
              "      display: none;\n",
              "      fill: #1967D2;\n",
              "      height: 32px;\n",
              "      padding: 0 0 0 0;\n",
              "      width: 32px;\n",
              "    }\n",
              "\n",
              "    .colab-df-convert:hover {\n",
              "      background-color: #E2EBFA;\n",
              "      box-shadow: 0px 1px 2px rgba(60, 64, 67, 0.3), 0px 1px 3px 1px rgba(60, 64, 67, 0.15);\n",
              "      fill: #174EA6;\n",
              "    }\n",
              "\n",
              "    [theme=dark] .colab-df-convert {\n",
              "      background-color: #3B4455;\n",
              "      fill: #D2E3FC;\n",
              "    }\n",
              "\n",
              "    [theme=dark] .colab-df-convert:hover {\n",
              "      background-color: #434B5C;\n",
              "      box-shadow: 0px 1px 3px 1px rgba(0, 0, 0, 0.15);\n",
              "      filter: drop-shadow(0px 1px 2px rgba(0, 0, 0, 0.3));\n",
              "      fill: #FFFFFF;\n",
              "    }\n",
              "  </style>\n",
              "\n",
              "      <script>\n",
              "        const buttonEl =\n",
              "          document.querySelector('#df-37d582c8-9716-44c0-8747-c2bda1633d24 button.colab-df-convert');\n",
              "        buttonEl.style.display =\n",
              "          google.colab.kernel.accessAllowed ? 'block' : 'none';\n",
              "\n",
              "        async function convertToInteractive(key) {\n",
              "          const element = document.querySelector('#df-37d582c8-9716-44c0-8747-c2bda1633d24');\n",
              "          const dataTable =\n",
              "            await google.colab.kernel.invokeFunction('convertToInteractive',\n",
              "                                                     [key], {});\n",
              "          if (!dataTable) return;\n",
              "\n",
              "          const docLinkHtml = 'Like what you see? Visit the ' +\n",
              "            '<a target=\"_blank\" href=https://colab.research.google.com/notebooks/data_table.ipynb>data table notebook</a>'\n",
              "            + ' to learn more about interactive tables.';\n",
              "          element.innerHTML = '';\n",
              "          dataTable['output_type'] = 'display_data';\n",
              "          await google.colab.output.renderOutput(dataTable, element);\n",
              "          const docLink = document.createElement('div');\n",
              "          docLink.innerHTML = docLinkHtml;\n",
              "          element.appendChild(docLink);\n",
              "        }\n",
              "      </script>\n",
              "    </div>\n",
              "  </div>\n",
              "  "
            ]
          },
          "metadata": {},
          "execution_count": 112
        }
      ]
    },
    {
      "cell_type": "code",
      "source": [
        "from sklearn.feature_extraction.text import TfidfVectorizer"
      ],
      "metadata": {
        "id": "mOhXVS_IUomk"
      },
      "execution_count": null,
      "outputs": []
    },
    {
      "cell_type": "markdown",
      "source": [
        "Data Preparation"
      ],
      "metadata": {
        "id": "Q5CmZGlZW4SH"
      }
    },
    {
      "cell_type": "markdown",
      "source": [
        "Pada data terdapat beberapa nilai null sehingga perlu di bersihkan"
      ],
      "metadata": {
        "id": "bS6XTLF5EM2t"
      }
    },
    {
      "cell_type": "code",
      "source": [
        "df_books.isnull().sum() #Cek data null"
      ],
      "metadata": {
        "colab": {
          "base_uri": "https://localhost:8080/"
        },
        "id": "meBwG3QBXTjP",
        "outputId": "1406043b-c06f-468a-aab7-c862bcbb4193"
      },
      "execution_count": null,
      "outputs": [
        {
          "output_type": "execute_result",
          "data": {
            "text/plain": [
              "ISBN           0\n",
              "book_title     0\n",
              "book_author    1\n",
              "dtype: int64"
            ]
          },
          "metadata": {},
          "execution_count": 115
        }
      ]
    },
    {
      "cell_type": "code",
      "source": [
        "df_books.dropna(inplace=True) #Drop Null"
      ],
      "metadata": {
        "colab": {
          "base_uri": "https://localhost:8080/"
        },
        "id": "N7fJhrLJXxO4",
        "outputId": "77b02dc1-d09b-4f79-ca0e-fa69c40f39a1"
      },
      "execution_count": null,
      "outputs": [
        {
          "output_type": "stream",
          "name": "stderr",
          "text": [
            "<ipython-input-116-dc473bcc2111>:1: SettingWithCopyWarning: \n",
            "A value is trying to be set on a copy of a slice from a DataFrame\n",
            "\n",
            "See the caveats in the documentation: https://pandas.pydata.org/pandas-docs/stable/user_guide/indexing.html#returning-a-view-versus-a-copy\n",
            "  df_books.dropna(inplace=True)\n"
          ]
        }
      ]
    },
    {
      "cell_type": "code",
      "source": [
        "df_books.isnull().sum()#Cek kembali nilai null"
      ],
      "metadata": {
        "colab": {
          "base_uri": "https://localhost:8080/"
        },
        "id": "f_Vz3p4zX5Y1",
        "outputId": "837f8ab0-5014-4aaf-b53c-e3b25c2931b3"
      },
      "execution_count": null,
      "outputs": [
        {
          "output_type": "execute_result",
          "data": {
            "text/plain": [
              "ISBN           0\n",
              "book_title     0\n",
              "book_author    0\n",
              "dtype: int64"
            ]
          },
          "metadata": {},
          "execution_count": 117
        }
      ]
    },
    {
      "cell_type": "markdown",
      "source": [
        "Melakukan drop duplicates untuk menghindari duplikasi data"
      ],
      "metadata": {
        "id": "19I6NjbdEraq"
      }
    },
    {
      "cell_type": "code",
      "source": [
        "df_books.drop_duplicates(subset='book_title',inplace =True) #Drop judul buku yang duplicate"
      ],
      "metadata": {
        "colab": {
          "base_uri": "https://localhost:8080/"
        },
        "id": "50tuc8la9UCO",
        "outputId": "4622bcbf-4b57-4811-a499-5c4cdec08cbb"
      },
      "execution_count": null,
      "outputs": [
        {
          "output_type": "stream",
          "name": "stderr",
          "text": [
            "<ipython-input-118-61e9acbc758b>:1: SettingWithCopyWarning: \n",
            "A value is trying to be set on a copy of a slice from a DataFrame\n",
            "\n",
            "See the caveats in the documentation: https://pandas.pydata.org/pandas-docs/stable/user_guide/indexing.html#returning-a-view-versus-a-copy\n",
            "  df_books.drop_duplicates(subset='book_title',inplace =True)\n"
          ]
        }
      ]
    },
    {
      "cell_type": "code",
      "source": [
        "#Cek Unique author\n",
        "print(len(df_books))\n",
        "print(len(df_books['book_author'].unique()))"
      ],
      "metadata": {
        "colab": {
          "base_uri": "https://localhost:8080/"
        },
        "id": "j-qREji-4-b6",
        "outputId": "04b2b979-d5bb-4dcd-c250-27ce99e85742"
      },
      "execution_count": null,
      "outputs": [
        {
          "output_type": "stream",
          "name": "stdout",
          "text": [
            "242134\n",
            "99685\n"
          ]
        }
      ]
    },
    {
      "cell_type": "code",
      "source": [
        "df_books[df_books['book_author'].str.contains('Koontz', case=False)]['book_author'].unique() #Cek author nama koontz"
      ],
      "metadata": {
        "colab": {
          "base_uri": "https://localhost:8080/"
        },
        "id": "G75vU8YB8w_c",
        "outputId": "28dec9c2-ad96-47f0-d25e-f48376ae8899"
      },
      "execution_count": null,
      "outputs": [
        {
          "output_type": "execute_result",
          "data": {
            "text/plain": [
              "array(['Dean R. Koontz', 'Dean Koontz', 'DEAN KOONTZ',\n",
              "       'Dean R. (Dean Rae) Koontz', 'Dean R Koontz', 'Ted Koontz'],\n",
              "      dtype=object)"
            ]
          },
          "metadata": {},
          "execution_count": 122
        }
      ]
    },
    {
      "cell_type": "markdown",
      "source": [
        "Author bernama koontz memiliki nama yang tidak konsisten sehigga di hitung unique berbeda"
      ],
      "metadata": {
        "id": "Z76C9jYTXPgr"
      }
    },
    {
      "cell_type": "code",
      "source": [
        "#Membuat author jadi konsisten\n",
        "df_books = df_books.replace('Dean Koontz', 'Dean R. Koontz')\n",
        "df_books = df_books.replace('DEAN KOONTZ', 'Dean R. Koontz')\n",
        "df_books = df_books.replace('Dean R. (Dean Rae) Koontz', 'Dean R. Koontz')\n",
        "df_books = df_books.replace('Dean R Koontz', 'Dean R. Koontz')"
      ],
      "metadata": {
        "id": "F2DQQCeUVQFT"
      },
      "execution_count": null,
      "outputs": []
    },
    {
      "cell_type": "code",
      "source": [
        "df_books[df_books['book_author'].str.contains('Koontz', case=False)]['book_author'].unique() # Cek kembali"
      ],
      "metadata": {
        "colab": {
          "base_uri": "https://localhost:8080/"
        },
        "id": "9LTHmokeV435",
        "outputId": "a1768bd4-d421-4673-b6b2-6875369382f6"
      },
      "execution_count": null,
      "outputs": [
        {
          "output_type": "execute_result",
          "data": {
            "text/plain": [
              "array(['Dean R. Koontz', 'Ted Koontz'], dtype=object)"
            ]
          },
          "metadata": {},
          "execution_count": 126
        }
      ]
    },
    {
      "cell_type": "code",
      "source": [
        "df_books = df_books.sample(n=20000, random_state=42) # Ambil sample random dikarenakan keterbatasan resources"
      ],
      "metadata": {
        "id": "bervGjh4b8Zj"
      },
      "execution_count": null,
      "outputs": []
    },
    {
      "cell_type": "markdown",
      "source": [
        "Melakukan perhitungan TF-IDF untuk dapat menghitung cosine similiarity"
      ],
      "metadata": {
        "id": "NiPShxh7EzGn"
      }
    },
    {
      "cell_type": "code",
      "source": [
        "# Inisialisasi TfidfVectorizer\n",
        "tf = TfidfVectorizer()\n",
        "\n",
        "# Melakukan perhitungan idf pada data books\n",
        "tf.fit(df_books['book_author'])\n",
        "\n",
        "# Mapping array dari fitur index integer ke fitur nama\n",
        "tf.get_feature_names_out()"
      ],
      "metadata": {
        "colab": {
          "base_uri": "https://localhost:8080/"
        },
        "id": "dF1VpTFfXZ6h",
        "outputId": "da8fcfd9-8fac-45c3-ac75-8012b38a3474"
      },
      "execution_count": null,
      "outputs": [
        {
          "output_type": "execute_result",
          "data": {
            "text/plain": [
              "array(['60623', '86', 'aa', ..., 'â¼rrenmatt', 'â¼ssmuth', 'â¼ter'],\n",
              "      dtype=object)"
            ]
          },
          "metadata": {},
          "execution_count": 128
        }
      ]
    },
    {
      "cell_type": "code",
      "source": [
        "# Melakukan fit lalu ditransformasikan ke bentuk matrix\n",
        "book_features_tfidf = tf.fit_transform(df_books['book_author'])\n",
        "\n",
        "# Melihat ukuran matrix tfidf\n",
        "book_features_tfidf.shape"
      ],
      "metadata": {
        "colab": {
          "base_uri": "https://localhost:8080/"
        },
        "id": "iTUbdqSzXmgJ",
        "outputId": "231095e5-dccf-4c8f-fce2-a1e31cb4a6e3"
      },
      "execution_count": null,
      "outputs": [
        {
          "output_type": "execute_result",
          "data": {
            "text/plain": [
              "(20000, 11746)"
            ]
          },
          "metadata": {},
          "execution_count": 129
        }
      ]
    },
    {
      "cell_type": "code",
      "source": [
        "from sklearn.metrics.pairwise import cosine_similarity"
      ],
      "metadata": {
        "id": "XxO6JSaccuBI"
      },
      "execution_count": null,
      "outputs": []
    },
    {
      "cell_type": "code",
      "source": [
        "# Kalkulasi pairwise cosine similarity dengan book_author\n",
        "cosine_similarities = cosine_similarity(book_features_tfidf)"
      ],
      "metadata": {
        "id": "kfiZws4Kc0oG"
      },
      "execution_count": null,
      "outputs": []
    },
    {
      "cell_type": "code",
      "source": [
        "# Membuat dataframe dari variabel cosine_similarities dengan baris dan kolom berupa nama buku\n",
        "cosine_sim_df = pd.DataFrame(cosine_similarities, index=df_books['book_title'], columns=df_books['book_title'])\n",
        "print('Shape:', cosine_sim_df.shape)\n",
        "\n",
        "# Melihat similarity matrix pada setiap buku\n",
        "cosine_sim_df.sample(5, axis=1).sample(10, axis=0)"
      ],
      "metadata": {
        "colab": {
          "base_uri": "https://localhost:8080/",
          "height": 508
        },
        "id": "tR2tMDO_dCoK",
        "outputId": "ce14d8e8-e2bc-40e0-aaa4-27bccadfd58c"
      },
      "execution_count": null,
      "outputs": [
        {
          "output_type": "stream",
          "name": "stdout",
          "text": [
            "Shape: (20000, 20000)\n"
          ]
        },
        {
          "output_type": "execute_result",
          "data": {
            "text/plain": [
              "book_title                                          I Just Kept Hoping  \\\n",
              "book_title                                                               \n",
              "Ring of Bright Water                                               0.0   \n",
              "Winter Kills.                                                      0.0   \n",
              "Best Friend Insurance                                              0.0   \n",
              "The Virgin of Bennington                                           0.0   \n",
              "No Safe Place                                                      0.0   \n",
              "Smokehouse Ham, Spoon Bread, &amp; Scuppernong ...                 0.0   \n",
              "HOW TO STOP WORRYING, REVISED                                      0.0   \n",
              "Flash, Crash, Rumble, and Roll (Lets Read and F...                 0.0   \n",
              "Compass American Guides : Idaho                                    0.0   \n",
              "Nonfiction for Children: How to Write It, How t...                 0.0   \n",
              "\n",
              "book_title                                          Seasons of the Heart (Destiny)  \\\n",
              "book_title                                                                           \n",
              "Ring of Bright Water                                                           0.0   \n",
              "Winter Kills.                                                                  0.0   \n",
              "Best Friend Insurance                                                          0.0   \n",
              "The Virgin of Bennington                                                       0.0   \n",
              "No Safe Place                                                                  0.0   \n",
              "Smokehouse Ham, Spoon Bread, &amp; Scuppernong ...                             0.0   \n",
              "HOW TO STOP WORRYING, REVISED                                                  0.0   \n",
              "Flash, Crash, Rumble, and Roll (Lets Read and F...                             0.0   \n",
              "Compass American Guides : Idaho                                                0.0   \n",
              "Nonfiction for Children: How to Write It, How t...                             0.0   \n",
              "\n",
              "book_title                                          Stuart Little Search and Find  \\\n",
              "book_title                                                                          \n",
              "Ring of Bright Water                                                          0.0   \n",
              "Winter Kills.                                                                 0.0   \n",
              "Best Friend Insurance                                                         0.0   \n",
              "The Virgin of Bennington                                                      0.0   \n",
              "No Safe Place                                                                 0.0   \n",
              "Smokehouse Ham, Spoon Bread, &amp; Scuppernong ...                            0.0   \n",
              "HOW TO STOP WORRYING, REVISED                                                 0.0   \n",
              "Flash, Crash, Rumble, and Roll (Lets Read and F...                            0.0   \n",
              "Compass American Guides : Idaho                                               0.0   \n",
              "Nonfiction for Children: How to Write It, How t...                            0.0   \n",
              "\n",
              "book_title                                          Lebensansichten Des Katers Murr  \\\n",
              "book_title                                                                            \n",
              "Ring of Bright Water                                                            0.0   \n",
              "Winter Kills.                                                                   0.0   \n",
              "Best Friend Insurance                                                           0.0   \n",
              "The Virgin of Bennington                                                        0.0   \n",
              "No Safe Place                                                                   0.0   \n",
              "Smokehouse Ham, Spoon Bread, &amp; Scuppernong ...                              0.0   \n",
              "HOW TO STOP WORRYING, REVISED                                                   0.0   \n",
              "Flash, Crash, Rumble, and Roll (Lets Read and F...                              0.0   \n",
              "Compass American Guides : Idaho                                                 0.0   \n",
              "Nonfiction for Children: How to Write It, How t...                              0.0   \n",
              "\n",
              "book_title                                          Profit from the Power of Many: How to Use MasterMind Teams to Create Success  \n",
              "book_title                                                                                                                        \n",
              "Ring of Bright Water                                                                              0.0                             \n",
              "Winter Kills.                                                                                     0.0                             \n",
              "Best Friend Insurance                                                                             0.0                             \n",
              "The Virgin of Bennington                                                                          0.0                             \n",
              "No Safe Place                                                                                     0.0                             \n",
              "Smokehouse Ham, Spoon Bread, &amp; Scuppernong ...                                                0.0                             \n",
              "HOW TO STOP WORRYING, REVISED                                                                     0.0                             \n",
              "Flash, Crash, Rumble, and Roll (Lets Read and F...                                                0.0                             \n",
              "Compass American Guides : Idaho                                                                   0.0                             \n",
              "Nonfiction for Children: How to Write It, How t...                                                0.0                             "
            ],
            "text/html": [
              "\n",
              "  <div id=\"df-f0cfff11-8e8f-4c70-a118-9d8161a717cc\">\n",
              "    <div class=\"colab-df-container\">\n",
              "      <div>\n",
              "<style scoped>\n",
              "    .dataframe tbody tr th:only-of-type {\n",
              "        vertical-align: middle;\n",
              "    }\n",
              "\n",
              "    .dataframe tbody tr th {\n",
              "        vertical-align: top;\n",
              "    }\n",
              "\n",
              "    .dataframe thead th {\n",
              "        text-align: right;\n",
              "    }\n",
              "</style>\n",
              "<table border=\"1\" class=\"dataframe\">\n",
              "  <thead>\n",
              "    <tr style=\"text-align: right;\">\n",
              "      <th>book_title</th>\n",
              "      <th>I Just Kept Hoping</th>\n",
              "      <th>Seasons of the Heart (Destiny)</th>\n",
              "      <th>Stuart Little Search and Find</th>\n",
              "      <th>Lebensansichten Des Katers Murr</th>\n",
              "      <th>Profit from the Power of Many: How to Use MasterMind Teams to Create Success</th>\n",
              "    </tr>\n",
              "    <tr>\n",
              "      <th>book_title</th>\n",
              "      <th></th>\n",
              "      <th></th>\n",
              "      <th></th>\n",
              "      <th></th>\n",
              "      <th></th>\n",
              "    </tr>\n",
              "  </thead>\n",
              "  <tbody>\n",
              "    <tr>\n",
              "      <th>Ring of Bright Water</th>\n",
              "      <td>0.0</td>\n",
              "      <td>0.0</td>\n",
              "      <td>0.0</td>\n",
              "      <td>0.0</td>\n",
              "      <td>0.0</td>\n",
              "    </tr>\n",
              "    <tr>\n",
              "      <th>Winter Kills.</th>\n",
              "      <td>0.0</td>\n",
              "      <td>0.0</td>\n",
              "      <td>0.0</td>\n",
              "      <td>0.0</td>\n",
              "      <td>0.0</td>\n",
              "    </tr>\n",
              "    <tr>\n",
              "      <th>Best Friend Insurance</th>\n",
              "      <td>0.0</td>\n",
              "      <td>0.0</td>\n",
              "      <td>0.0</td>\n",
              "      <td>0.0</td>\n",
              "      <td>0.0</td>\n",
              "    </tr>\n",
              "    <tr>\n",
              "      <th>The Virgin of Bennington</th>\n",
              "      <td>0.0</td>\n",
              "      <td>0.0</td>\n",
              "      <td>0.0</td>\n",
              "      <td>0.0</td>\n",
              "      <td>0.0</td>\n",
              "    </tr>\n",
              "    <tr>\n",
              "      <th>No Safe Place</th>\n",
              "      <td>0.0</td>\n",
              "      <td>0.0</td>\n",
              "      <td>0.0</td>\n",
              "      <td>0.0</td>\n",
              "      <td>0.0</td>\n",
              "    </tr>\n",
              "    <tr>\n",
              "      <th>Smokehouse Ham, Spoon Bread, &amp;amp; Scuppernong Wine: The Folklore and Art of Southern Appalachian Cooking</th>\n",
              "      <td>0.0</td>\n",
              "      <td>0.0</td>\n",
              "      <td>0.0</td>\n",
              "      <td>0.0</td>\n",
              "      <td>0.0</td>\n",
              "    </tr>\n",
              "    <tr>\n",
              "      <th>HOW TO STOP WORRYING, REVISED</th>\n",
              "      <td>0.0</td>\n",
              "      <td>0.0</td>\n",
              "      <td>0.0</td>\n",
              "      <td>0.0</td>\n",
              "      <td>0.0</td>\n",
              "    </tr>\n",
              "    <tr>\n",
              "      <th>Flash, Crash, Rumble, and Roll (Lets Read and Find Out)</th>\n",
              "      <td>0.0</td>\n",
              "      <td>0.0</td>\n",
              "      <td>0.0</td>\n",
              "      <td>0.0</td>\n",
              "      <td>0.0</td>\n",
              "    </tr>\n",
              "    <tr>\n",
              "      <th>Compass American Guides : Idaho</th>\n",
              "      <td>0.0</td>\n",
              "      <td>0.0</td>\n",
              "      <td>0.0</td>\n",
              "      <td>0.0</td>\n",
              "      <td>0.0</td>\n",
              "    </tr>\n",
              "    <tr>\n",
              "      <th>Nonfiction for Children: How to Write It, How to Sell It</th>\n",
              "      <td>0.0</td>\n",
              "      <td>0.0</td>\n",
              "      <td>0.0</td>\n",
              "      <td>0.0</td>\n",
              "      <td>0.0</td>\n",
              "    </tr>\n",
              "  </tbody>\n",
              "</table>\n",
              "</div>\n",
              "      <button class=\"colab-df-convert\" onclick=\"convertToInteractive('df-f0cfff11-8e8f-4c70-a118-9d8161a717cc')\"\n",
              "              title=\"Convert this dataframe to an interactive table.\"\n",
              "              style=\"display:none;\">\n",
              "        \n",
              "  <svg xmlns=\"http://www.w3.org/2000/svg\" height=\"24px\"viewBox=\"0 0 24 24\"\n",
              "       width=\"24px\">\n",
              "    <path d=\"M0 0h24v24H0V0z\" fill=\"none\"/>\n",
              "    <path d=\"M18.56 5.44l.94 2.06.94-2.06 2.06-.94-2.06-.94-.94-2.06-.94 2.06-2.06.94zm-11 1L8.5 8.5l.94-2.06 2.06-.94-2.06-.94L8.5 2.5l-.94 2.06-2.06.94zm10 10l.94 2.06.94-2.06 2.06-.94-2.06-.94-.94-2.06-.94 2.06-2.06.94z\"/><path d=\"M17.41 7.96l-1.37-1.37c-.4-.4-.92-.59-1.43-.59-.52 0-1.04.2-1.43.59L10.3 9.45l-7.72 7.72c-.78.78-.78 2.05 0 2.83L4 21.41c.39.39.9.59 1.41.59.51 0 1.02-.2 1.41-.59l7.78-7.78 2.81-2.81c.8-.78.8-2.07 0-2.86zM5.41 20L4 18.59l7.72-7.72 1.47 1.35L5.41 20z\"/>\n",
              "  </svg>\n",
              "      </button>\n",
              "      \n",
              "  <style>\n",
              "    .colab-df-container {\n",
              "      display:flex;\n",
              "      flex-wrap:wrap;\n",
              "      gap: 12px;\n",
              "    }\n",
              "\n",
              "    .colab-df-convert {\n",
              "      background-color: #E8F0FE;\n",
              "      border: none;\n",
              "      border-radius: 50%;\n",
              "      cursor: pointer;\n",
              "      display: none;\n",
              "      fill: #1967D2;\n",
              "      height: 32px;\n",
              "      padding: 0 0 0 0;\n",
              "      width: 32px;\n",
              "    }\n",
              "\n",
              "    .colab-df-convert:hover {\n",
              "      background-color: #E2EBFA;\n",
              "      box-shadow: 0px 1px 2px rgba(60, 64, 67, 0.3), 0px 1px 3px 1px rgba(60, 64, 67, 0.15);\n",
              "      fill: #174EA6;\n",
              "    }\n",
              "\n",
              "    [theme=dark] .colab-df-convert {\n",
              "      background-color: #3B4455;\n",
              "      fill: #D2E3FC;\n",
              "    }\n",
              "\n",
              "    [theme=dark] .colab-df-convert:hover {\n",
              "      background-color: #434B5C;\n",
              "      box-shadow: 0px 1px 3px 1px rgba(0, 0, 0, 0.15);\n",
              "      filter: drop-shadow(0px 1px 2px rgba(0, 0, 0, 0.3));\n",
              "      fill: #FFFFFF;\n",
              "    }\n",
              "  </style>\n",
              "\n",
              "      <script>\n",
              "        const buttonEl =\n",
              "          document.querySelector('#df-f0cfff11-8e8f-4c70-a118-9d8161a717cc button.colab-df-convert');\n",
              "        buttonEl.style.display =\n",
              "          google.colab.kernel.accessAllowed ? 'block' : 'none';\n",
              "\n",
              "        async function convertToInteractive(key) {\n",
              "          const element = document.querySelector('#df-f0cfff11-8e8f-4c70-a118-9d8161a717cc');\n",
              "          const dataTable =\n",
              "            await google.colab.kernel.invokeFunction('convertToInteractive',\n",
              "                                                     [key], {});\n",
              "          if (!dataTable) return;\n",
              "\n",
              "          const docLinkHtml = 'Like what you see? Visit the ' +\n",
              "            '<a target=\"_blank\" href=https://colab.research.google.com/notebooks/data_table.ipynb>data table notebook</a>'\n",
              "            + ' to learn more about interactive tables.';\n",
              "          element.innerHTML = '';\n",
              "          dataTable['output_type'] = 'display_data';\n",
              "          await google.colab.output.renderOutput(dataTable, element);\n",
              "          const docLink = document.createElement('div');\n",
              "          docLink.innerHTML = docLinkHtml;\n",
              "          element.appendChild(docLink);\n",
              "        }\n",
              "      </script>\n",
              "    </div>\n",
              "  </div>\n",
              "  "
            ]
          },
          "metadata": {},
          "execution_count": 132
        }
      ]
    },
    {
      "cell_type": "code",
      "source": [
        "# Merge the dataframes based on the \"ISBN\" column\n",
        "merged_data = pd.merge(rating_clean, df_books, on=\"ISBN\", how=\"inner\")\n",
        "\n",
        "# Display the merged dataframe\n",
        "merged_data"
      ],
      "metadata": {
        "colab": {
          "base_uri": "https://localhost:8080/",
          "height": 424
        },
        "id": "gpzEy-kPgJUW",
        "outputId": "206d3f8f-d4c1-48b5-f522-1133f342f092"
      },
      "execution_count": null,
      "outputs": [
        {
          "output_type": "execute_result",
          "data": {
            "text/plain": [
              "       user_id        ISBN  book_rating  \\\n",
              "0            8  0887841740            5   \n",
              "1           39  0553582909            8   \n",
              "2        41455  0553582909            4   \n",
              "3        47316  0553582909            9   \n",
              "4        78973  0553582909            6   \n",
              "...        ...         ...          ...   \n",
              "28276   278543  1576734218            5   \n",
              "28277   278582  0141001976            8   \n",
              "28278   278668  8423322912            5   \n",
              "28279   278843  0689818904            7   \n",
              "28280   278851  0767907566            5   \n",
              "\n",
              "                                              book_title     book_author  \n",
              "0                                     The Middle Stories     Sheila Heti  \n",
              "1                                               Icebound  Dean R. Koontz  \n",
              "2                                               Icebound  Dean R. Koontz  \n",
              "3                                               Icebound  Dean R. Koontz  \n",
              "4                                               Icebound  Dean R. Koontz  \n",
              "...                                                  ...             ...  \n",
              "28276                              On Becoming Childwise       Gary Ezzo  \n",
              "28277                                  Blanche Passes Go   Barbara Neely  \n",
              "28278  La Perla del Oriente (ColecciÃ³n Ancora y delf...     Jorge Ordaz  \n",
              "28279                           My Grandmother's Journey       John Cech  \n",
              "28280  All Elevations Unknown: An Adventure in the He...    Sam Lightner  \n",
              "\n",
              "[28281 rows x 5 columns]"
            ],
            "text/html": [
              "\n",
              "  <div id=\"df-7ab9977a-4466-4573-81d2-c010b72783c5\">\n",
              "    <div class=\"colab-df-container\">\n",
              "      <div>\n",
              "<style scoped>\n",
              "    .dataframe tbody tr th:only-of-type {\n",
              "        vertical-align: middle;\n",
              "    }\n",
              "\n",
              "    .dataframe tbody tr th {\n",
              "        vertical-align: top;\n",
              "    }\n",
              "\n",
              "    .dataframe thead th {\n",
              "        text-align: right;\n",
              "    }\n",
              "</style>\n",
              "<table border=\"1\" class=\"dataframe\">\n",
              "  <thead>\n",
              "    <tr style=\"text-align: right;\">\n",
              "      <th></th>\n",
              "      <th>user_id</th>\n",
              "      <th>ISBN</th>\n",
              "      <th>book_rating</th>\n",
              "      <th>book_title</th>\n",
              "      <th>book_author</th>\n",
              "    </tr>\n",
              "  </thead>\n",
              "  <tbody>\n",
              "    <tr>\n",
              "      <th>0</th>\n",
              "      <td>8</td>\n",
              "      <td>0887841740</td>\n",
              "      <td>5</td>\n",
              "      <td>The Middle Stories</td>\n",
              "      <td>Sheila Heti</td>\n",
              "    </tr>\n",
              "    <tr>\n",
              "      <th>1</th>\n",
              "      <td>39</td>\n",
              "      <td>0553582909</td>\n",
              "      <td>8</td>\n",
              "      <td>Icebound</td>\n",
              "      <td>Dean R. Koontz</td>\n",
              "    </tr>\n",
              "    <tr>\n",
              "      <th>2</th>\n",
              "      <td>41455</td>\n",
              "      <td>0553582909</td>\n",
              "      <td>4</td>\n",
              "      <td>Icebound</td>\n",
              "      <td>Dean R. Koontz</td>\n",
              "    </tr>\n",
              "    <tr>\n",
              "      <th>3</th>\n",
              "      <td>47316</td>\n",
              "      <td>0553582909</td>\n",
              "      <td>9</td>\n",
              "      <td>Icebound</td>\n",
              "      <td>Dean R. Koontz</td>\n",
              "    </tr>\n",
              "    <tr>\n",
              "      <th>4</th>\n",
              "      <td>78973</td>\n",
              "      <td>0553582909</td>\n",
              "      <td>6</td>\n",
              "      <td>Icebound</td>\n",
              "      <td>Dean R. Koontz</td>\n",
              "    </tr>\n",
              "    <tr>\n",
              "      <th>...</th>\n",
              "      <td>...</td>\n",
              "      <td>...</td>\n",
              "      <td>...</td>\n",
              "      <td>...</td>\n",
              "      <td>...</td>\n",
              "    </tr>\n",
              "    <tr>\n",
              "      <th>28276</th>\n",
              "      <td>278543</td>\n",
              "      <td>1576734218</td>\n",
              "      <td>5</td>\n",
              "      <td>On Becoming Childwise</td>\n",
              "      <td>Gary Ezzo</td>\n",
              "    </tr>\n",
              "    <tr>\n",
              "      <th>28277</th>\n",
              "      <td>278582</td>\n",
              "      <td>0141001976</td>\n",
              "      <td>8</td>\n",
              "      <td>Blanche Passes Go</td>\n",
              "      <td>Barbara Neely</td>\n",
              "    </tr>\n",
              "    <tr>\n",
              "      <th>28278</th>\n",
              "      <td>278668</td>\n",
              "      <td>8423322912</td>\n",
              "      <td>5</td>\n",
              "      <td>La Perla del Oriente (ColecciÃ³n Ancora y delf...</td>\n",
              "      <td>Jorge Ordaz</td>\n",
              "    </tr>\n",
              "    <tr>\n",
              "      <th>28279</th>\n",
              "      <td>278843</td>\n",
              "      <td>0689818904</td>\n",
              "      <td>7</td>\n",
              "      <td>My Grandmother's Journey</td>\n",
              "      <td>John Cech</td>\n",
              "    </tr>\n",
              "    <tr>\n",
              "      <th>28280</th>\n",
              "      <td>278851</td>\n",
              "      <td>0767907566</td>\n",
              "      <td>5</td>\n",
              "      <td>All Elevations Unknown: An Adventure in the He...</td>\n",
              "      <td>Sam Lightner</td>\n",
              "    </tr>\n",
              "  </tbody>\n",
              "</table>\n",
              "<p>28281 rows × 5 columns</p>\n",
              "</div>\n",
              "      <button class=\"colab-df-convert\" onclick=\"convertToInteractive('df-7ab9977a-4466-4573-81d2-c010b72783c5')\"\n",
              "              title=\"Convert this dataframe to an interactive table.\"\n",
              "              style=\"display:none;\">\n",
              "        \n",
              "  <svg xmlns=\"http://www.w3.org/2000/svg\" height=\"24px\"viewBox=\"0 0 24 24\"\n",
              "       width=\"24px\">\n",
              "    <path d=\"M0 0h24v24H0V0z\" fill=\"none\"/>\n",
              "    <path d=\"M18.56 5.44l.94 2.06.94-2.06 2.06-.94-2.06-.94-.94-2.06-.94 2.06-2.06.94zm-11 1L8.5 8.5l.94-2.06 2.06-.94-2.06-.94L8.5 2.5l-.94 2.06-2.06.94zm10 10l.94 2.06.94-2.06 2.06-.94-2.06-.94-.94-2.06-.94 2.06-2.06.94z\"/><path d=\"M17.41 7.96l-1.37-1.37c-.4-.4-.92-.59-1.43-.59-.52 0-1.04.2-1.43.59L10.3 9.45l-7.72 7.72c-.78.78-.78 2.05 0 2.83L4 21.41c.39.39.9.59 1.41.59.51 0 1.02-.2 1.41-.59l7.78-7.78 2.81-2.81c.8-.78.8-2.07 0-2.86zM5.41 20L4 18.59l7.72-7.72 1.47 1.35L5.41 20z\"/>\n",
              "  </svg>\n",
              "      </button>\n",
              "      \n",
              "  <style>\n",
              "    .colab-df-container {\n",
              "      display:flex;\n",
              "      flex-wrap:wrap;\n",
              "      gap: 12px;\n",
              "    }\n",
              "\n",
              "    .colab-df-convert {\n",
              "      background-color: #E8F0FE;\n",
              "      border: none;\n",
              "      border-radius: 50%;\n",
              "      cursor: pointer;\n",
              "      display: none;\n",
              "      fill: #1967D2;\n",
              "      height: 32px;\n",
              "      padding: 0 0 0 0;\n",
              "      width: 32px;\n",
              "    }\n",
              "\n",
              "    .colab-df-convert:hover {\n",
              "      background-color: #E2EBFA;\n",
              "      box-shadow: 0px 1px 2px rgba(60, 64, 67, 0.3), 0px 1px 3px 1px rgba(60, 64, 67, 0.15);\n",
              "      fill: #174EA6;\n",
              "    }\n",
              "\n",
              "    [theme=dark] .colab-df-convert {\n",
              "      background-color: #3B4455;\n",
              "      fill: #D2E3FC;\n",
              "    }\n",
              "\n",
              "    [theme=dark] .colab-df-convert:hover {\n",
              "      background-color: #434B5C;\n",
              "      box-shadow: 0px 1px 3px 1px rgba(0, 0, 0, 0.15);\n",
              "      filter: drop-shadow(0px 1px 2px rgba(0, 0, 0, 0.3));\n",
              "      fill: #FFFFFF;\n",
              "    }\n",
              "  </style>\n",
              "\n",
              "      <script>\n",
              "        const buttonEl =\n",
              "          document.querySelector('#df-7ab9977a-4466-4573-81d2-c010b72783c5 button.colab-df-convert');\n",
              "        buttonEl.style.display =\n",
              "          google.colab.kernel.accessAllowed ? 'block' : 'none';\n",
              "\n",
              "        async function convertToInteractive(key) {\n",
              "          const element = document.querySelector('#df-7ab9977a-4466-4573-81d2-c010b72783c5');\n",
              "          const dataTable =\n",
              "            await google.colab.kernel.invokeFunction('convertToInteractive',\n",
              "                                                     [key], {});\n",
              "          if (!dataTable) return;\n",
              "\n",
              "          const docLinkHtml = 'Like what you see? Visit the ' +\n",
              "            '<a target=\"_blank\" href=https://colab.research.google.com/notebooks/data_table.ipynb>data table notebook</a>'\n",
              "            + ' to learn more about interactive tables.';\n",
              "          element.innerHTML = '';\n",
              "          dataTable['output_type'] = 'display_data';\n",
              "          await google.colab.output.renderOutput(dataTable, element);\n",
              "          const docLink = document.createElement('div');\n",
              "          docLink.innerHTML = docLinkHtml;\n",
              "          element.appendChild(docLink);\n",
              "        }\n",
              "      </script>\n",
              "    </div>\n",
              "  </div>\n",
              "  "
            ]
          },
          "metadata": {},
          "execution_count": 133
        }
      ]
    },
    {
      "cell_type": "code",
      "source": [
        "data = merged_data[['user_id','book_rating','book_author','book_title']]"
      ],
      "metadata": {
        "id": "cq7VO_Vuhj1E"
      },
      "execution_count": null,
      "outputs": []
    },
    {
      "cell_type": "code",
      "source": [
        "data"
      ],
      "metadata": {
        "colab": {
          "base_uri": "https://localhost:8080/",
          "height": 424
        },
        "id": "lW5KBfdciV2Z",
        "outputId": "c76367d4-79d8-49dc-92ea-86c8a86e8c53"
      },
      "execution_count": null,
      "outputs": [
        {
          "output_type": "execute_result",
          "data": {
            "text/plain": [
              "       user_id  book_rating     book_author  \\\n",
              "0            8            5     Sheila Heti   \n",
              "1           39            8  Dean R. Koontz   \n",
              "2        41455            4  Dean R. Koontz   \n",
              "3        47316            9  Dean R. Koontz   \n",
              "4        78973            6  Dean R. Koontz   \n",
              "...        ...          ...             ...   \n",
              "28276   278543            5       Gary Ezzo   \n",
              "28277   278582            8   Barbara Neely   \n",
              "28278   278668            5     Jorge Ordaz   \n",
              "28279   278843            7       John Cech   \n",
              "28280   278851            5    Sam Lightner   \n",
              "\n",
              "                                              book_title  \n",
              "0                                     The Middle Stories  \n",
              "1                                               Icebound  \n",
              "2                                               Icebound  \n",
              "3                                               Icebound  \n",
              "4                                               Icebound  \n",
              "...                                                  ...  \n",
              "28276                              On Becoming Childwise  \n",
              "28277                                  Blanche Passes Go  \n",
              "28278  La Perla del Oriente (ColecciÃ³n Ancora y delf...  \n",
              "28279                           My Grandmother's Journey  \n",
              "28280  All Elevations Unknown: An Adventure in the He...  \n",
              "\n",
              "[28281 rows x 4 columns]"
            ],
            "text/html": [
              "\n",
              "  <div id=\"df-64deefdd-3f0c-490d-bb6a-5687c6519ce3\">\n",
              "    <div class=\"colab-df-container\">\n",
              "      <div>\n",
              "<style scoped>\n",
              "    .dataframe tbody tr th:only-of-type {\n",
              "        vertical-align: middle;\n",
              "    }\n",
              "\n",
              "    .dataframe tbody tr th {\n",
              "        vertical-align: top;\n",
              "    }\n",
              "\n",
              "    .dataframe thead th {\n",
              "        text-align: right;\n",
              "    }\n",
              "</style>\n",
              "<table border=\"1\" class=\"dataframe\">\n",
              "  <thead>\n",
              "    <tr style=\"text-align: right;\">\n",
              "      <th></th>\n",
              "      <th>user_id</th>\n",
              "      <th>book_rating</th>\n",
              "      <th>book_author</th>\n",
              "      <th>book_title</th>\n",
              "    </tr>\n",
              "  </thead>\n",
              "  <tbody>\n",
              "    <tr>\n",
              "      <th>0</th>\n",
              "      <td>8</td>\n",
              "      <td>5</td>\n",
              "      <td>Sheila Heti</td>\n",
              "      <td>The Middle Stories</td>\n",
              "    </tr>\n",
              "    <tr>\n",
              "      <th>1</th>\n",
              "      <td>39</td>\n",
              "      <td>8</td>\n",
              "      <td>Dean R. Koontz</td>\n",
              "      <td>Icebound</td>\n",
              "    </tr>\n",
              "    <tr>\n",
              "      <th>2</th>\n",
              "      <td>41455</td>\n",
              "      <td>4</td>\n",
              "      <td>Dean R. Koontz</td>\n",
              "      <td>Icebound</td>\n",
              "    </tr>\n",
              "    <tr>\n",
              "      <th>3</th>\n",
              "      <td>47316</td>\n",
              "      <td>9</td>\n",
              "      <td>Dean R. Koontz</td>\n",
              "      <td>Icebound</td>\n",
              "    </tr>\n",
              "    <tr>\n",
              "      <th>4</th>\n",
              "      <td>78973</td>\n",
              "      <td>6</td>\n",
              "      <td>Dean R. Koontz</td>\n",
              "      <td>Icebound</td>\n",
              "    </tr>\n",
              "    <tr>\n",
              "      <th>...</th>\n",
              "      <td>...</td>\n",
              "      <td>...</td>\n",
              "      <td>...</td>\n",
              "      <td>...</td>\n",
              "    </tr>\n",
              "    <tr>\n",
              "      <th>28276</th>\n",
              "      <td>278543</td>\n",
              "      <td>5</td>\n",
              "      <td>Gary Ezzo</td>\n",
              "      <td>On Becoming Childwise</td>\n",
              "    </tr>\n",
              "    <tr>\n",
              "      <th>28277</th>\n",
              "      <td>278582</td>\n",
              "      <td>8</td>\n",
              "      <td>Barbara Neely</td>\n",
              "      <td>Blanche Passes Go</td>\n",
              "    </tr>\n",
              "    <tr>\n",
              "      <th>28278</th>\n",
              "      <td>278668</td>\n",
              "      <td>5</td>\n",
              "      <td>Jorge Ordaz</td>\n",
              "      <td>La Perla del Oriente (ColecciÃ³n Ancora y delf...</td>\n",
              "    </tr>\n",
              "    <tr>\n",
              "      <th>28279</th>\n",
              "      <td>278843</td>\n",
              "      <td>7</td>\n",
              "      <td>John Cech</td>\n",
              "      <td>My Grandmother's Journey</td>\n",
              "    </tr>\n",
              "    <tr>\n",
              "      <th>28280</th>\n",
              "      <td>278851</td>\n",
              "      <td>5</td>\n",
              "      <td>Sam Lightner</td>\n",
              "      <td>All Elevations Unknown: An Adventure in the He...</td>\n",
              "    </tr>\n",
              "  </tbody>\n",
              "</table>\n",
              "<p>28281 rows × 4 columns</p>\n",
              "</div>\n",
              "      <button class=\"colab-df-convert\" onclick=\"convertToInteractive('df-64deefdd-3f0c-490d-bb6a-5687c6519ce3')\"\n",
              "              title=\"Convert this dataframe to an interactive table.\"\n",
              "              style=\"display:none;\">\n",
              "        \n",
              "  <svg xmlns=\"http://www.w3.org/2000/svg\" height=\"24px\"viewBox=\"0 0 24 24\"\n",
              "       width=\"24px\">\n",
              "    <path d=\"M0 0h24v24H0V0z\" fill=\"none\"/>\n",
              "    <path d=\"M18.56 5.44l.94 2.06.94-2.06 2.06-.94-2.06-.94-.94-2.06-.94 2.06-2.06.94zm-11 1L8.5 8.5l.94-2.06 2.06-.94-2.06-.94L8.5 2.5l-.94 2.06-2.06.94zm10 10l.94 2.06.94-2.06 2.06-.94-2.06-.94-.94-2.06-.94 2.06-2.06.94z\"/><path d=\"M17.41 7.96l-1.37-1.37c-.4-.4-.92-.59-1.43-.59-.52 0-1.04.2-1.43.59L10.3 9.45l-7.72 7.72c-.78.78-.78 2.05 0 2.83L4 21.41c.39.39.9.59 1.41.59.51 0 1.02-.2 1.41-.59l7.78-7.78 2.81-2.81c.8-.78.8-2.07 0-2.86zM5.41 20L4 18.59l7.72-7.72 1.47 1.35L5.41 20z\"/>\n",
              "  </svg>\n",
              "      </button>\n",
              "      \n",
              "  <style>\n",
              "    .colab-df-container {\n",
              "      display:flex;\n",
              "      flex-wrap:wrap;\n",
              "      gap: 12px;\n",
              "    }\n",
              "\n",
              "    .colab-df-convert {\n",
              "      background-color: #E8F0FE;\n",
              "      border: none;\n",
              "      border-radius: 50%;\n",
              "      cursor: pointer;\n",
              "      display: none;\n",
              "      fill: #1967D2;\n",
              "      height: 32px;\n",
              "      padding: 0 0 0 0;\n",
              "      width: 32px;\n",
              "    }\n",
              "\n",
              "    .colab-df-convert:hover {\n",
              "      background-color: #E2EBFA;\n",
              "      box-shadow: 0px 1px 2px rgba(60, 64, 67, 0.3), 0px 1px 3px 1px rgba(60, 64, 67, 0.15);\n",
              "      fill: #174EA6;\n",
              "    }\n",
              "\n",
              "    [theme=dark] .colab-df-convert {\n",
              "      background-color: #3B4455;\n",
              "      fill: #D2E3FC;\n",
              "    }\n",
              "\n",
              "    [theme=dark] .colab-df-convert:hover {\n",
              "      background-color: #434B5C;\n",
              "      box-shadow: 0px 1px 3px 1px rgba(0, 0, 0, 0.15);\n",
              "      filter: drop-shadow(0px 1px 2px rgba(0, 0, 0, 0.3));\n",
              "      fill: #FFFFFF;\n",
              "    }\n",
              "  </style>\n",
              "\n",
              "      <script>\n",
              "        const buttonEl =\n",
              "          document.querySelector('#df-64deefdd-3f0c-490d-bb6a-5687c6519ce3 button.colab-df-convert');\n",
              "        buttonEl.style.display =\n",
              "          google.colab.kernel.accessAllowed ? 'block' : 'none';\n",
              "\n",
              "        async function convertToInteractive(key) {\n",
              "          const element = document.querySelector('#df-64deefdd-3f0c-490d-bb6a-5687c6519ce3');\n",
              "          const dataTable =\n",
              "            await google.colab.kernel.invokeFunction('convertToInteractive',\n",
              "                                                     [key], {});\n",
              "          if (!dataTable) return;\n",
              "\n",
              "          const docLinkHtml = 'Like what you see? Visit the ' +\n",
              "            '<a target=\"_blank\" href=https://colab.research.google.com/notebooks/data_table.ipynb>data table notebook</a>'\n",
              "            + ' to learn more about interactive tables.';\n",
              "          element.innerHTML = '';\n",
              "          dataTable['output_type'] = 'display_data';\n",
              "          await google.colab.output.renderOutput(dataTable, element);\n",
              "          const docLink = document.createElement('div');\n",
              "          docLink.innerHTML = docLinkHtml;\n",
              "          element.appendChild(docLink);\n",
              "        }\n",
              "      </script>\n",
              "    </div>\n",
              "  </div>\n",
              "  "
            ]
          },
          "metadata": {},
          "execution_count": 135
        }
      ]
    },
    {
      "cell_type": "code",
      "source": [
        "user_profile = data[data['user_id']== 39] # Ambil sample user profile dengan id 39"
      ],
      "metadata": {
        "id": "vhtGSqBQibc9"
      },
      "execution_count": null,
      "outputs": []
    },
    {
      "cell_type": "code",
      "source": [
        "# user_profile = user_profile[['book_title']] #ambil judul buku"
      ],
      "metadata": {
        "id": "8o9_N3HRjIXA"
      },
      "execution_count": null,
      "outputs": []
    },
    {
      "cell_type": "code",
      "source": [
        "# book_indices"
      ],
      "metadata": {
        "id": "WhLQ4dLVjoj0"
      },
      "execution_count": null,
      "outputs": []
    },
    {
      "cell_type": "markdown",
      "source": [
        "Membuat fungsi untuk dapat memberikan rekomendasi dari hasil perhitungan Cosine Similiarity"
      ],
      "metadata": {
        "id": "dMeBpUfHE9cj"
      }
    },
    {
      "cell_type": "code",
      "source": [
        "def book_recommendations(judul_buku, similarity_data=cosine_sim_df, items=df_books[['book_title','book_author']], k=5):\n",
        "    # Mengambil data dengan menggunakan argpartition\n",
        "    index = similarity_data.loc[:,judul_buku].to_numpy().argpartition(\n",
        "        range(-1, -k, -1))\n",
        "\n",
        "    # Mengambil data dengan similarity terbesar dari index yang ada\n",
        "    closest = similarity_data.columns[index[-1:-(k+2):-1]]\n",
        "\n",
        "    # Drop judul_buku agar judul buku yang dicari tidak muncul dalam daftar rekomendasi\n",
        "    closest = closest.drop(judul_buku, errors='ignore')\n",
        "\n",
        "    return pd.DataFrame(closest).merge(items).head(k)"
      ],
      "metadata": {
        "id": "syzrOFKXlpd-"
      },
      "execution_count": null,
      "outputs": []
    },
    {
      "cell_type": "markdown",
      "source": [
        "Melakukan test rekomendasi pada model"
      ],
      "metadata": {
        "id": "O8erS-C9FGx1"
      }
    },
    {
      "cell_type": "code",
      "source": [
        "user_profile['book_title'].head(1).item() # cek judul buku yang dimiliki user"
      ],
      "metadata": {
        "colab": {
          "base_uri": "https://localhost:8080/",
          "height": 35
        },
        "id": "6vL8qgrJmS__",
        "outputId": "870c5f3d-f450-4c21-c4f9-35216f7b79ed"
      },
      "execution_count": null,
      "outputs": [
        {
          "output_type": "execute_result",
          "data": {
            "text/plain": [
              "'Icebound'"
            ],
            "application/vnd.google.colaboratory.intrinsic+json": {
              "type": "string"
            }
          },
          "metadata": {},
          "execution_count": 154
        }
      ]
    },
    {
      "cell_type": "code",
      "source": [
        "user_profile.head(1)"
      ],
      "metadata": {
        "colab": {
          "base_uri": "https://localhost:8080/",
          "height": 81
        },
        "id": "QkcSBPC9aJNh",
        "outputId": "a20c3014-4ca9-4269-fb8d-8d94b98c934d"
      },
      "execution_count": null,
      "outputs": [
        {
          "output_type": "execute_result",
          "data": {
            "text/plain": [
              "   user_id  book_rating     book_author book_title\n",
              "1       39            8  Dean R. Koontz   Icebound"
            ],
            "text/html": [
              "\n",
              "  <div id=\"df-f1a83390-92ca-4410-9843-8b231e97496b\">\n",
              "    <div class=\"colab-df-container\">\n",
              "      <div>\n",
              "<style scoped>\n",
              "    .dataframe tbody tr th:only-of-type {\n",
              "        vertical-align: middle;\n",
              "    }\n",
              "\n",
              "    .dataframe tbody tr th {\n",
              "        vertical-align: top;\n",
              "    }\n",
              "\n",
              "    .dataframe thead th {\n",
              "        text-align: right;\n",
              "    }\n",
              "</style>\n",
              "<table border=\"1\" class=\"dataframe\">\n",
              "  <thead>\n",
              "    <tr style=\"text-align: right;\">\n",
              "      <th></th>\n",
              "      <th>user_id</th>\n",
              "      <th>book_rating</th>\n",
              "      <th>book_author</th>\n",
              "      <th>book_title</th>\n",
              "    </tr>\n",
              "  </thead>\n",
              "  <tbody>\n",
              "    <tr>\n",
              "      <th>1</th>\n",
              "      <td>39</td>\n",
              "      <td>8</td>\n",
              "      <td>Dean R. Koontz</td>\n",
              "      <td>Icebound</td>\n",
              "    </tr>\n",
              "  </tbody>\n",
              "</table>\n",
              "</div>\n",
              "      <button class=\"colab-df-convert\" onclick=\"convertToInteractive('df-f1a83390-92ca-4410-9843-8b231e97496b')\"\n",
              "              title=\"Convert this dataframe to an interactive table.\"\n",
              "              style=\"display:none;\">\n",
              "        \n",
              "  <svg xmlns=\"http://www.w3.org/2000/svg\" height=\"24px\"viewBox=\"0 0 24 24\"\n",
              "       width=\"24px\">\n",
              "    <path d=\"M0 0h24v24H0V0z\" fill=\"none\"/>\n",
              "    <path d=\"M18.56 5.44l.94 2.06.94-2.06 2.06-.94-2.06-.94-.94-2.06-.94 2.06-2.06.94zm-11 1L8.5 8.5l.94-2.06 2.06-.94-2.06-.94L8.5 2.5l-.94 2.06-2.06.94zm10 10l.94 2.06.94-2.06 2.06-.94-2.06-.94-.94-2.06-.94 2.06-2.06.94z\"/><path d=\"M17.41 7.96l-1.37-1.37c-.4-.4-.92-.59-1.43-.59-.52 0-1.04.2-1.43.59L10.3 9.45l-7.72 7.72c-.78.78-.78 2.05 0 2.83L4 21.41c.39.39.9.59 1.41.59.51 0 1.02-.2 1.41-.59l7.78-7.78 2.81-2.81c.8-.78.8-2.07 0-2.86zM5.41 20L4 18.59l7.72-7.72 1.47 1.35L5.41 20z\"/>\n",
              "  </svg>\n",
              "      </button>\n",
              "      \n",
              "  <style>\n",
              "    .colab-df-container {\n",
              "      display:flex;\n",
              "      flex-wrap:wrap;\n",
              "      gap: 12px;\n",
              "    }\n",
              "\n",
              "    .colab-df-convert {\n",
              "      background-color: #E8F0FE;\n",
              "      border: none;\n",
              "      border-radius: 50%;\n",
              "      cursor: pointer;\n",
              "      display: none;\n",
              "      fill: #1967D2;\n",
              "      height: 32px;\n",
              "      padding: 0 0 0 0;\n",
              "      width: 32px;\n",
              "    }\n",
              "\n",
              "    .colab-df-convert:hover {\n",
              "      background-color: #E2EBFA;\n",
              "      box-shadow: 0px 1px 2px rgba(60, 64, 67, 0.3), 0px 1px 3px 1px rgba(60, 64, 67, 0.15);\n",
              "      fill: #174EA6;\n",
              "    }\n",
              "\n",
              "    [theme=dark] .colab-df-convert {\n",
              "      background-color: #3B4455;\n",
              "      fill: #D2E3FC;\n",
              "    }\n",
              "\n",
              "    [theme=dark] .colab-df-convert:hover {\n",
              "      background-color: #434B5C;\n",
              "      box-shadow: 0px 1px 3px 1px rgba(0, 0, 0, 0.15);\n",
              "      filter: drop-shadow(0px 1px 2px rgba(0, 0, 0, 0.3));\n",
              "      fill: #FFFFFF;\n",
              "    }\n",
              "  </style>\n",
              "\n",
              "      <script>\n",
              "        const buttonEl =\n",
              "          document.querySelector('#df-f1a83390-92ca-4410-9843-8b231e97496b button.colab-df-convert');\n",
              "        buttonEl.style.display =\n",
              "          google.colab.kernel.accessAllowed ? 'block' : 'none';\n",
              "\n",
              "        async function convertToInteractive(key) {\n",
              "          const element = document.querySelector('#df-f1a83390-92ca-4410-9843-8b231e97496b');\n",
              "          const dataTable =\n",
              "            await google.colab.kernel.invokeFunction('convertToInteractive',\n",
              "                                                     [key], {});\n",
              "          if (!dataTable) return;\n",
              "\n",
              "          const docLinkHtml = 'Like what you see? Visit the ' +\n",
              "            '<a target=\"_blank\" href=https://colab.research.google.com/notebooks/data_table.ipynb>data table notebook</a>'\n",
              "            + ' to learn more about interactive tables.';\n",
              "          element.innerHTML = '';\n",
              "          dataTable['output_type'] = 'display_data';\n",
              "          await google.colab.output.renderOutput(dataTable, element);\n",
              "          const docLink = document.createElement('div');\n",
              "          docLink.innerHTML = docLinkHtml;\n",
              "          element.appendChild(docLink);\n",
              "        }\n",
              "      </script>\n",
              "    </div>\n",
              "  </div>\n",
              "  "
            ]
          },
          "metadata": {},
          "execution_count": 157
        }
      ]
    },
    {
      "cell_type": "code",
      "source": [
        "book_recommendations(user_profile['book_title'].head(1).item()) #test rekomendasi"
      ],
      "metadata": {
        "colab": {
          "base_uri": "https://localhost:8080/",
          "height": 206
        },
        "id": "XDT7X3wMm07N",
        "outputId": "6c717a15-8fac-40e2-9269-15df688ba335"
      },
      "execution_count": null,
      "outputs": [
        {
          "output_type": "execute_result",
          "data": {
            "text/plain": [
              "                     book_title     book_author\n",
              "0                  The Funhouse  Dean R. Koontz\n",
              "1  Morgengrauen. Sonderausgabe.  Dean R. Koontz\n",
              "2                      The Mask  Dean R. Koontz\n",
              "3                          Mask  Dean R. Koontz\n",
              "4           Unico Superviviente  Dean R. Koontz"
            ],
            "text/html": [
              "\n",
              "  <div id=\"df-9787a2fd-24ba-4518-b6d5-9a148e849cd6\">\n",
              "    <div class=\"colab-df-container\">\n",
              "      <div>\n",
              "<style scoped>\n",
              "    .dataframe tbody tr th:only-of-type {\n",
              "        vertical-align: middle;\n",
              "    }\n",
              "\n",
              "    .dataframe tbody tr th {\n",
              "        vertical-align: top;\n",
              "    }\n",
              "\n",
              "    .dataframe thead th {\n",
              "        text-align: right;\n",
              "    }\n",
              "</style>\n",
              "<table border=\"1\" class=\"dataframe\">\n",
              "  <thead>\n",
              "    <tr style=\"text-align: right;\">\n",
              "      <th></th>\n",
              "      <th>book_title</th>\n",
              "      <th>book_author</th>\n",
              "    </tr>\n",
              "  </thead>\n",
              "  <tbody>\n",
              "    <tr>\n",
              "      <th>0</th>\n",
              "      <td>The Funhouse</td>\n",
              "      <td>Dean R. Koontz</td>\n",
              "    </tr>\n",
              "    <tr>\n",
              "      <th>1</th>\n",
              "      <td>Morgengrauen. Sonderausgabe.</td>\n",
              "      <td>Dean R. Koontz</td>\n",
              "    </tr>\n",
              "    <tr>\n",
              "      <th>2</th>\n",
              "      <td>The Mask</td>\n",
              "      <td>Dean R. Koontz</td>\n",
              "    </tr>\n",
              "    <tr>\n",
              "      <th>3</th>\n",
              "      <td>Mask</td>\n",
              "      <td>Dean R. Koontz</td>\n",
              "    </tr>\n",
              "    <tr>\n",
              "      <th>4</th>\n",
              "      <td>Unico Superviviente</td>\n",
              "      <td>Dean R. Koontz</td>\n",
              "    </tr>\n",
              "  </tbody>\n",
              "</table>\n",
              "</div>\n",
              "      <button class=\"colab-df-convert\" onclick=\"convertToInteractive('df-9787a2fd-24ba-4518-b6d5-9a148e849cd6')\"\n",
              "              title=\"Convert this dataframe to an interactive table.\"\n",
              "              style=\"display:none;\">\n",
              "        \n",
              "  <svg xmlns=\"http://www.w3.org/2000/svg\" height=\"24px\"viewBox=\"0 0 24 24\"\n",
              "       width=\"24px\">\n",
              "    <path d=\"M0 0h24v24H0V0z\" fill=\"none\"/>\n",
              "    <path d=\"M18.56 5.44l.94 2.06.94-2.06 2.06-.94-2.06-.94-.94-2.06-.94 2.06-2.06.94zm-11 1L8.5 8.5l.94-2.06 2.06-.94-2.06-.94L8.5 2.5l-.94 2.06-2.06.94zm10 10l.94 2.06.94-2.06 2.06-.94-2.06-.94-.94-2.06-.94 2.06-2.06.94z\"/><path d=\"M17.41 7.96l-1.37-1.37c-.4-.4-.92-.59-1.43-.59-.52 0-1.04.2-1.43.59L10.3 9.45l-7.72 7.72c-.78.78-.78 2.05 0 2.83L4 21.41c.39.39.9.59 1.41.59.51 0 1.02-.2 1.41-.59l7.78-7.78 2.81-2.81c.8-.78.8-2.07 0-2.86zM5.41 20L4 18.59l7.72-7.72 1.47 1.35L5.41 20z\"/>\n",
              "  </svg>\n",
              "      </button>\n",
              "      \n",
              "  <style>\n",
              "    .colab-df-container {\n",
              "      display:flex;\n",
              "      flex-wrap:wrap;\n",
              "      gap: 12px;\n",
              "    }\n",
              "\n",
              "    .colab-df-convert {\n",
              "      background-color: #E8F0FE;\n",
              "      border: none;\n",
              "      border-radius: 50%;\n",
              "      cursor: pointer;\n",
              "      display: none;\n",
              "      fill: #1967D2;\n",
              "      height: 32px;\n",
              "      padding: 0 0 0 0;\n",
              "      width: 32px;\n",
              "    }\n",
              "\n",
              "    .colab-df-convert:hover {\n",
              "      background-color: #E2EBFA;\n",
              "      box-shadow: 0px 1px 2px rgba(60, 64, 67, 0.3), 0px 1px 3px 1px rgba(60, 64, 67, 0.15);\n",
              "      fill: #174EA6;\n",
              "    }\n",
              "\n",
              "    [theme=dark] .colab-df-convert {\n",
              "      background-color: #3B4455;\n",
              "      fill: #D2E3FC;\n",
              "    }\n",
              "\n",
              "    [theme=dark] .colab-df-convert:hover {\n",
              "      background-color: #434B5C;\n",
              "      box-shadow: 0px 1px 3px 1px rgba(0, 0, 0, 0.15);\n",
              "      filter: drop-shadow(0px 1px 2px rgba(0, 0, 0, 0.3));\n",
              "      fill: #FFFFFF;\n",
              "    }\n",
              "  </style>\n",
              "\n",
              "      <script>\n",
              "        const buttonEl =\n",
              "          document.querySelector('#df-9787a2fd-24ba-4518-b6d5-9a148e849cd6 button.colab-df-convert');\n",
              "        buttonEl.style.display =\n",
              "          google.colab.kernel.accessAllowed ? 'block' : 'none';\n",
              "\n",
              "        async function convertToInteractive(key) {\n",
              "          const element = document.querySelector('#df-9787a2fd-24ba-4518-b6d5-9a148e849cd6');\n",
              "          const dataTable =\n",
              "            await google.colab.kernel.invokeFunction('convertToInteractive',\n",
              "                                                     [key], {});\n",
              "          if (!dataTable) return;\n",
              "\n",
              "          const docLinkHtml = 'Like what you see? Visit the ' +\n",
              "            '<a target=\"_blank\" href=https://colab.research.google.com/notebooks/data_table.ipynb>data table notebook</a>'\n",
              "            + ' to learn more about interactive tables.';\n",
              "          element.innerHTML = '';\n",
              "          dataTable['output_type'] = 'display_data';\n",
              "          await google.colab.output.renderOutput(dataTable, element);\n",
              "          const docLink = document.createElement('div');\n",
              "          docLink.innerHTML = docLinkHtml;\n",
              "          element.appendChild(docLink);\n",
              "        }\n",
              "      </script>\n",
              "    </div>\n",
              "  </div>\n",
              "  "
            ]
          },
          "metadata": {},
          "execution_count": 150
        }
      ]
    },
    {
      "cell_type": "markdown",
      "source": [
        "# Modelling Using Collaborative Filtering"
      ],
      "metadata": {
        "id": "30f_jmSTSYqS"
      }
    },
    {
      "cell_type": "markdown",
      "source": [
        "Memulai untuk menghitung dan menerapkan SVD"
      ],
      "metadata": {
        "id": "dS6MCDatFM_k"
      }
    },
    {
      "cell_type": "code",
      "source": [
        "user_item_matrix"
      ],
      "metadata": {
        "colab": {
          "base_uri": "https://localhost:8080/",
          "height": 519
        },
        "id": "LxE_Te3g75uu",
        "outputId": "d1caf881-fdca-498d-e9d2-6b3d2b417365"
      },
      "execution_count": null,
      "outputs": [
        {
          "output_type": "execute_result",
          "data": {
            "text/plain": [
              "ISBN      0330299891  0+399139745  0.15.602732.1  00000000  0000000051  \\\n",
              "user_id                                                                  \n",
              "53               0.0          0.0            0.0       0.0         0.0   \n",
              "92               0.0          0.0            0.0       0.0         0.0   \n",
              "160              0.0          0.0            0.0       0.0         0.0   \n",
              "183              0.0          0.0            0.0       0.0         0.0   \n",
              "243              0.0          0.0            0.0       0.0         0.0   \n",
              "...              ...          ...            ...       ...         ...   \n",
              "278637           0.0          0.0            0.0       0.0         0.0   \n",
              "278648           0.0          0.0            0.0       0.0         0.0   \n",
              "278760           0.0          0.0            0.0       0.0         0.0   \n",
              "278832           0.0          0.0            0.0       0.0         0.0   \n",
              "278843           0.0          0.0            0.0       0.0         0.0   \n",
              "\n",
              "ISBN     000104799X  000171306X  0001846434  0001900277  0001938134  ...  \\\n",
              "user_id                                                              ...   \n",
              "53              0.0         0.0         0.0         0.0         0.0  ...   \n",
              "92              0.0         0.0         0.0         0.0         0.0  ...   \n",
              "160             0.0         0.0         0.0         0.0         0.0  ...   \n",
              "183             0.0         0.0         0.0         0.0         0.0  ...   \n",
              "243             0.0         0.0         0.0         0.0         0.0  ...   \n",
              "...             ...         ...         ...         ...         ...  ...   \n",
              "278637          0.0         0.0         0.0         0.0         0.0  ...   \n",
              "278648          0.0         0.0         0.0         0.0         0.0  ...   \n",
              "278760          0.0         0.0         0.0         0.0         0.0  ...   \n",
              "278832          0.0         0.0         0.0         0.0         0.0  ...   \n",
              "278843          0.0         0.0         0.0         0.0         0.0  ...   \n",
              "\n",
              "ISBN     B00006JO2X  B0000AZW79  B0000DNSQL  ISBN159105080  NA4221971  \\\n",
              "user_id                                                                 \n",
              "53              0.0         0.0         0.0            0.0        0.0   \n",
              "92              0.0         0.0         0.0            0.0        0.0   \n",
              "160             0.0         0.0         0.0            0.0        0.0   \n",
              "183             0.0         0.0         0.0            0.0        0.0   \n",
              "243             0.0         0.0         0.0            0.0        0.0   \n",
              "...             ...         ...         ...            ...        ...   \n",
              "278637          0.0         0.0         0.0            0.0        0.0   \n",
              "278648          0.0         0.0         0.0            0.0        0.0   \n",
              "278760          0.0         0.0         0.0            0.0        0.0   \n",
              "278832          0.0         0.0         0.0            0.0        0.0   \n",
              "278843          0.0         0.0         0.0            0.0        0.0   \n",
              "\n",
              "ISBN     O553275380  O688097480  O812579453  X000000000  \\0432534220\\\"\"  \n",
              "user_id                                                                  \n",
              "53              0.0         0.0         0.0         0.0             0.0  \n",
              "92              0.0         0.0         0.0         0.0             0.0  \n",
              "160             0.0         0.0         0.0         0.0             0.0  \n",
              "183             0.0         0.0         0.0         0.0             0.0  \n",
              "243             0.0         0.0         0.0         0.0             0.0  \n",
              "...             ...         ...         ...         ...             ...  \n",
              "278637          0.0         0.0         0.0         0.0             0.0  \n",
              "278648          0.0         0.0         0.0         0.0             0.0  \n",
              "278760          0.0         0.0         0.0         0.0             0.0  \n",
              "278832          0.0         0.0         0.0         0.0             0.0  \n",
              "278843          0.0         0.0         0.0         0.0             0.0  \n",
              "\n",
              "[10708 rows x 16220 columns]"
            ],
            "text/html": [
              "\n",
              "  <div id=\"df-f0d91e66-9235-44d1-adbb-3605b3d19efd\">\n",
              "    <div class=\"colab-df-container\">\n",
              "      <div>\n",
              "<style scoped>\n",
              "    .dataframe tbody tr th:only-of-type {\n",
              "        vertical-align: middle;\n",
              "    }\n",
              "\n",
              "    .dataframe tbody tr th {\n",
              "        vertical-align: top;\n",
              "    }\n",
              "\n",
              "    .dataframe thead th {\n",
              "        text-align: right;\n",
              "    }\n",
              "</style>\n",
              "<table border=\"1\" class=\"dataframe\">\n",
              "  <thead>\n",
              "    <tr style=\"text-align: right;\">\n",
              "      <th>ISBN</th>\n",
              "      <th>0330299891</th>\n",
              "      <th>0+399139745</th>\n",
              "      <th>0.15.602732.1</th>\n",
              "      <th>00000000</th>\n",
              "      <th>0000000051</th>\n",
              "      <th>000104799X</th>\n",
              "      <th>000171306X</th>\n",
              "      <th>0001846434</th>\n",
              "      <th>0001900277</th>\n",
              "      <th>0001938134</th>\n",
              "      <th>...</th>\n",
              "      <th>B00006JO2X</th>\n",
              "      <th>B0000AZW79</th>\n",
              "      <th>B0000DNSQL</th>\n",
              "      <th>ISBN159105080</th>\n",
              "      <th>NA4221971</th>\n",
              "      <th>O553275380</th>\n",
              "      <th>O688097480</th>\n",
              "      <th>O812579453</th>\n",
              "      <th>X000000000</th>\n",
              "      <th>\\0432534220\\\"\"</th>\n",
              "    </tr>\n",
              "    <tr>\n",
              "      <th>user_id</th>\n",
              "      <th></th>\n",
              "      <th></th>\n",
              "      <th></th>\n",
              "      <th></th>\n",
              "      <th></th>\n",
              "      <th></th>\n",
              "      <th></th>\n",
              "      <th></th>\n",
              "      <th></th>\n",
              "      <th></th>\n",
              "      <th></th>\n",
              "      <th></th>\n",
              "      <th></th>\n",
              "      <th></th>\n",
              "      <th></th>\n",
              "      <th></th>\n",
              "      <th></th>\n",
              "      <th></th>\n",
              "      <th></th>\n",
              "      <th></th>\n",
              "      <th></th>\n",
              "    </tr>\n",
              "  </thead>\n",
              "  <tbody>\n",
              "    <tr>\n",
              "      <th>53</th>\n",
              "      <td>0.0</td>\n",
              "      <td>0.0</td>\n",
              "      <td>0.0</td>\n",
              "      <td>0.0</td>\n",
              "      <td>0.0</td>\n",
              "      <td>0.0</td>\n",
              "      <td>0.0</td>\n",
              "      <td>0.0</td>\n",
              "      <td>0.0</td>\n",
              "      <td>0.0</td>\n",
              "      <td>...</td>\n",
              "      <td>0.0</td>\n",
              "      <td>0.0</td>\n",
              "      <td>0.0</td>\n",
              "      <td>0.0</td>\n",
              "      <td>0.0</td>\n",
              "      <td>0.0</td>\n",
              "      <td>0.0</td>\n",
              "      <td>0.0</td>\n",
              "      <td>0.0</td>\n",
              "      <td>0.0</td>\n",
              "    </tr>\n",
              "    <tr>\n",
              "      <th>92</th>\n",
              "      <td>0.0</td>\n",
              "      <td>0.0</td>\n",
              "      <td>0.0</td>\n",
              "      <td>0.0</td>\n",
              "      <td>0.0</td>\n",
              "      <td>0.0</td>\n",
              "      <td>0.0</td>\n",
              "      <td>0.0</td>\n",
              "      <td>0.0</td>\n",
              "      <td>0.0</td>\n",
              "      <td>...</td>\n",
              "      <td>0.0</td>\n",
              "      <td>0.0</td>\n",
              "      <td>0.0</td>\n",
              "      <td>0.0</td>\n",
              "      <td>0.0</td>\n",
              "      <td>0.0</td>\n",
              "      <td>0.0</td>\n",
              "      <td>0.0</td>\n",
              "      <td>0.0</td>\n",
              "      <td>0.0</td>\n",
              "    </tr>\n",
              "    <tr>\n",
              "      <th>160</th>\n",
              "      <td>0.0</td>\n",
              "      <td>0.0</td>\n",
              "      <td>0.0</td>\n",
              "      <td>0.0</td>\n",
              "      <td>0.0</td>\n",
              "      <td>0.0</td>\n",
              "      <td>0.0</td>\n",
              "      <td>0.0</td>\n",
              "      <td>0.0</td>\n",
              "      <td>0.0</td>\n",
              "      <td>...</td>\n",
              "      <td>0.0</td>\n",
              "      <td>0.0</td>\n",
              "      <td>0.0</td>\n",
              "      <td>0.0</td>\n",
              "      <td>0.0</td>\n",
              "      <td>0.0</td>\n",
              "      <td>0.0</td>\n",
              "      <td>0.0</td>\n",
              "      <td>0.0</td>\n",
              "      <td>0.0</td>\n",
              "    </tr>\n",
              "    <tr>\n",
              "      <th>183</th>\n",
              "      <td>0.0</td>\n",
              "      <td>0.0</td>\n",
              "      <td>0.0</td>\n",
              "      <td>0.0</td>\n",
              "      <td>0.0</td>\n",
              "      <td>0.0</td>\n",
              "      <td>0.0</td>\n",
              "      <td>0.0</td>\n",
              "      <td>0.0</td>\n",
              "      <td>0.0</td>\n",
              "      <td>...</td>\n",
              "      <td>0.0</td>\n",
              "      <td>0.0</td>\n",
              "      <td>0.0</td>\n",
              "      <td>0.0</td>\n",
              "      <td>0.0</td>\n",
              "      <td>0.0</td>\n",
              "      <td>0.0</td>\n",
              "      <td>0.0</td>\n",
              "      <td>0.0</td>\n",
              "      <td>0.0</td>\n",
              "    </tr>\n",
              "    <tr>\n",
              "      <th>243</th>\n",
              "      <td>0.0</td>\n",
              "      <td>0.0</td>\n",
              "      <td>0.0</td>\n",
              "      <td>0.0</td>\n",
              "      <td>0.0</td>\n",
              "      <td>0.0</td>\n",
              "      <td>0.0</td>\n",
              "      <td>0.0</td>\n",
              "      <td>0.0</td>\n",
              "      <td>0.0</td>\n",
              "      <td>...</td>\n",
              "      <td>0.0</td>\n",
              "      <td>0.0</td>\n",
              "      <td>0.0</td>\n",
              "      <td>0.0</td>\n",
              "      <td>0.0</td>\n",
              "      <td>0.0</td>\n",
              "      <td>0.0</td>\n",
              "      <td>0.0</td>\n",
              "      <td>0.0</td>\n",
              "      <td>0.0</td>\n",
              "    </tr>\n",
              "    <tr>\n",
              "      <th>...</th>\n",
              "      <td>...</td>\n",
              "      <td>...</td>\n",
              "      <td>...</td>\n",
              "      <td>...</td>\n",
              "      <td>...</td>\n",
              "      <td>...</td>\n",
              "      <td>...</td>\n",
              "      <td>...</td>\n",
              "      <td>...</td>\n",
              "      <td>...</td>\n",
              "      <td>...</td>\n",
              "      <td>...</td>\n",
              "      <td>...</td>\n",
              "      <td>...</td>\n",
              "      <td>...</td>\n",
              "      <td>...</td>\n",
              "      <td>...</td>\n",
              "      <td>...</td>\n",
              "      <td>...</td>\n",
              "      <td>...</td>\n",
              "      <td>...</td>\n",
              "    </tr>\n",
              "    <tr>\n",
              "      <th>278637</th>\n",
              "      <td>0.0</td>\n",
              "      <td>0.0</td>\n",
              "      <td>0.0</td>\n",
              "      <td>0.0</td>\n",
              "      <td>0.0</td>\n",
              "      <td>0.0</td>\n",
              "      <td>0.0</td>\n",
              "      <td>0.0</td>\n",
              "      <td>0.0</td>\n",
              "      <td>0.0</td>\n",
              "      <td>...</td>\n",
              "      <td>0.0</td>\n",
              "      <td>0.0</td>\n",
              "      <td>0.0</td>\n",
              "      <td>0.0</td>\n",
              "      <td>0.0</td>\n",
              "      <td>0.0</td>\n",
              "      <td>0.0</td>\n",
              "      <td>0.0</td>\n",
              "      <td>0.0</td>\n",
              "      <td>0.0</td>\n",
              "    </tr>\n",
              "    <tr>\n",
              "      <th>278648</th>\n",
              "      <td>0.0</td>\n",
              "      <td>0.0</td>\n",
              "      <td>0.0</td>\n",
              "      <td>0.0</td>\n",
              "      <td>0.0</td>\n",
              "      <td>0.0</td>\n",
              "      <td>0.0</td>\n",
              "      <td>0.0</td>\n",
              "      <td>0.0</td>\n",
              "      <td>0.0</td>\n",
              "      <td>...</td>\n",
              "      <td>0.0</td>\n",
              "      <td>0.0</td>\n",
              "      <td>0.0</td>\n",
              "      <td>0.0</td>\n",
              "      <td>0.0</td>\n",
              "      <td>0.0</td>\n",
              "      <td>0.0</td>\n",
              "      <td>0.0</td>\n",
              "      <td>0.0</td>\n",
              "      <td>0.0</td>\n",
              "    </tr>\n",
              "    <tr>\n",
              "      <th>278760</th>\n",
              "      <td>0.0</td>\n",
              "      <td>0.0</td>\n",
              "      <td>0.0</td>\n",
              "      <td>0.0</td>\n",
              "      <td>0.0</td>\n",
              "      <td>0.0</td>\n",
              "      <td>0.0</td>\n",
              "      <td>0.0</td>\n",
              "      <td>0.0</td>\n",
              "      <td>0.0</td>\n",
              "      <td>...</td>\n",
              "      <td>0.0</td>\n",
              "      <td>0.0</td>\n",
              "      <td>0.0</td>\n",
              "      <td>0.0</td>\n",
              "      <td>0.0</td>\n",
              "      <td>0.0</td>\n",
              "      <td>0.0</td>\n",
              "      <td>0.0</td>\n",
              "      <td>0.0</td>\n",
              "      <td>0.0</td>\n",
              "    </tr>\n",
              "    <tr>\n",
              "      <th>278832</th>\n",
              "      <td>0.0</td>\n",
              "      <td>0.0</td>\n",
              "      <td>0.0</td>\n",
              "      <td>0.0</td>\n",
              "      <td>0.0</td>\n",
              "      <td>0.0</td>\n",
              "      <td>0.0</td>\n",
              "      <td>0.0</td>\n",
              "      <td>0.0</td>\n",
              "      <td>0.0</td>\n",
              "      <td>...</td>\n",
              "      <td>0.0</td>\n",
              "      <td>0.0</td>\n",
              "      <td>0.0</td>\n",
              "      <td>0.0</td>\n",
              "      <td>0.0</td>\n",
              "      <td>0.0</td>\n",
              "      <td>0.0</td>\n",
              "      <td>0.0</td>\n",
              "      <td>0.0</td>\n",
              "      <td>0.0</td>\n",
              "    </tr>\n",
              "    <tr>\n",
              "      <th>278843</th>\n",
              "      <td>0.0</td>\n",
              "      <td>0.0</td>\n",
              "      <td>0.0</td>\n",
              "      <td>0.0</td>\n",
              "      <td>0.0</td>\n",
              "      <td>0.0</td>\n",
              "      <td>0.0</td>\n",
              "      <td>0.0</td>\n",
              "      <td>0.0</td>\n",
              "      <td>0.0</td>\n",
              "      <td>...</td>\n",
              "      <td>0.0</td>\n",
              "      <td>0.0</td>\n",
              "      <td>0.0</td>\n",
              "      <td>0.0</td>\n",
              "      <td>0.0</td>\n",
              "      <td>0.0</td>\n",
              "      <td>0.0</td>\n",
              "      <td>0.0</td>\n",
              "      <td>0.0</td>\n",
              "      <td>0.0</td>\n",
              "    </tr>\n",
              "  </tbody>\n",
              "</table>\n",
              "<p>10708 rows × 16220 columns</p>\n",
              "</div>\n",
              "      <button class=\"colab-df-convert\" onclick=\"convertToInteractive('df-f0d91e66-9235-44d1-adbb-3605b3d19efd')\"\n",
              "              title=\"Convert this dataframe to an interactive table.\"\n",
              "              style=\"display:none;\">\n",
              "        \n",
              "  <svg xmlns=\"http://www.w3.org/2000/svg\" height=\"24px\"viewBox=\"0 0 24 24\"\n",
              "       width=\"24px\">\n",
              "    <path d=\"M0 0h24v24H0V0z\" fill=\"none\"/>\n",
              "    <path d=\"M18.56 5.44l.94 2.06.94-2.06 2.06-.94-2.06-.94-.94-2.06-.94 2.06-2.06.94zm-11 1L8.5 8.5l.94-2.06 2.06-.94-2.06-.94L8.5 2.5l-.94 2.06-2.06.94zm10 10l.94 2.06.94-2.06 2.06-.94-2.06-.94-.94-2.06-.94 2.06-2.06.94z\"/><path d=\"M17.41 7.96l-1.37-1.37c-.4-.4-.92-.59-1.43-.59-.52 0-1.04.2-1.43.59L10.3 9.45l-7.72 7.72c-.78.78-.78 2.05 0 2.83L4 21.41c.39.39.9.59 1.41.59.51 0 1.02-.2 1.41-.59l7.78-7.78 2.81-2.81c.8-.78.8-2.07 0-2.86zM5.41 20L4 18.59l7.72-7.72 1.47 1.35L5.41 20z\"/>\n",
              "  </svg>\n",
              "      </button>\n",
              "      \n",
              "  <style>\n",
              "    .colab-df-container {\n",
              "      display:flex;\n",
              "      flex-wrap:wrap;\n",
              "      gap: 12px;\n",
              "    }\n",
              "\n",
              "    .colab-df-convert {\n",
              "      background-color: #E8F0FE;\n",
              "      border: none;\n",
              "      border-radius: 50%;\n",
              "      cursor: pointer;\n",
              "      display: none;\n",
              "      fill: #1967D2;\n",
              "      height: 32px;\n",
              "      padding: 0 0 0 0;\n",
              "      width: 32px;\n",
              "    }\n",
              "\n",
              "    .colab-df-convert:hover {\n",
              "      background-color: #E2EBFA;\n",
              "      box-shadow: 0px 1px 2px rgba(60, 64, 67, 0.3), 0px 1px 3px 1px rgba(60, 64, 67, 0.15);\n",
              "      fill: #174EA6;\n",
              "    }\n",
              "\n",
              "    [theme=dark] .colab-df-convert {\n",
              "      background-color: #3B4455;\n",
              "      fill: #D2E3FC;\n",
              "    }\n",
              "\n",
              "    [theme=dark] .colab-df-convert:hover {\n",
              "      background-color: #434B5C;\n",
              "      box-shadow: 0px 1px 3px 1px rgba(0, 0, 0, 0.15);\n",
              "      filter: drop-shadow(0px 1px 2px rgba(0, 0, 0, 0.3));\n",
              "      fill: #FFFFFF;\n",
              "    }\n",
              "  </style>\n",
              "\n",
              "      <script>\n",
              "        const buttonEl =\n",
              "          document.querySelector('#df-f0d91e66-9235-44d1-adbb-3605b3d19efd button.colab-df-convert');\n",
              "        buttonEl.style.display =\n",
              "          google.colab.kernel.accessAllowed ? 'block' : 'none';\n",
              "\n",
              "        async function convertToInteractive(key) {\n",
              "          const element = document.querySelector('#df-f0d91e66-9235-44d1-adbb-3605b3d19efd');\n",
              "          const dataTable =\n",
              "            await google.colab.kernel.invokeFunction('convertToInteractive',\n",
              "                                                     [key], {});\n",
              "          if (!dataTable) return;\n",
              "\n",
              "          const docLinkHtml = 'Like what you see? Visit the ' +\n",
              "            '<a target=\"_blank\" href=https://colab.research.google.com/notebooks/data_table.ipynb>data table notebook</a>'\n",
              "            + ' to learn more about interactive tables.';\n",
              "          element.innerHTML = '';\n",
              "          dataTable['output_type'] = 'display_data';\n",
              "          await google.colab.output.renderOutput(dataTable, element);\n",
              "          const docLink = document.createElement('div');\n",
              "          docLink.innerHTML = docLinkHtml;\n",
              "          element.appendChild(docLink);\n",
              "        }\n",
              "      </script>\n",
              "    </div>\n",
              "  </div>\n",
              "  "
            ]
          },
          "metadata": {},
          "execution_count": 29
        }
      ]
    },
    {
      "cell_type": "code",
      "source": [
        "user_item_matrix = user_item_matrix.values  # Convert to NumPy array"
      ],
      "metadata": {
        "id": "jTTU2IgyRKg-"
      },
      "execution_count": null,
      "outputs": []
    },
    {
      "cell_type": "code",
      "source": [
        "# Apply Singular Value Decomposition (SVD)\n",
        "U, sigma, Vt = svds(user_item_matrix, k=20)"
      ],
      "metadata": {
        "id": "HUI2IFN9HLeq"
      },
      "execution_count": null,
      "outputs": []
    },
    {
      "cell_type": "code",
      "source": [
        "# Convert sigma kedalam bentuk diagonal matrix\n",
        "sigma_diag_matrix = np.diag(sigma)\n",
        "\n",
        "# Rekonstruksi ratings matrix\n",
        "predicted_ratings = np.dot(np.dot(U, sigma_diag_matrix), Vt)"
      ],
      "metadata": {
        "id": "2tedPR-1KB-x"
      },
      "execution_count": null,
      "outputs": []
    },
    {
      "cell_type": "markdown",
      "source": [
        "Membuat Layer Model sesuai dengan kebutuhan"
      ],
      "metadata": {
        "id": "I9I9oGJhFVw1"
      }
    },
    {
      "cell_type": "code",
      "source": [
        "# Step 3: Deep Learning Model\n",
        "embedding_dim = 100  # Adjust as desired\n",
        "\n",
        "# Define input layer\n",
        "input_layer = Input(shape=(2,), name='input')\n",
        "\n",
        "# Embedding layers\n",
        "embedding = Embedding(input_dim=user_item_matrix.shape[0] + user_item_matrix.shape[1], output_dim=embedding_dim,embeddings_initializer = 'he_normal',embeddings_regularizer = keras.regularizers.l2(1e-6))(input_layer)\n",
        "flatten = Flatten()(embedding)\n",
        "\n",
        "# # Concatenate embeddings\n",
        "# concat = concatenate([user_embedding, book_embedding])\n",
        "# flatten = Flatten()(concat)\n",
        "\n",
        "# Dense layers\n",
        "# Dense layers\n",
        "dense1 = Dense(64, activation='relu')(flatten)\n",
        "dense2 = Dense(32, activation='relu')(dense1)\n",
        "dropout1 = Dropout(0.3)(dense2)\n",
        "dense3 = Dense(256, activation='relu')(dropout1)\n",
        "dropout2 = Dropout(0.4)(dense3)\n",
        "dense4 = Dense(128, activation='relu')(dropout2)\n",
        "dense5 = Dense(32, activation='relu')(dense4)\n",
        "output = Dense(1, activation='linear')(dense5)\n",
        "\n",
        "# Define the model\n",
        "model = Model(inputs=input_layer, outputs=output)\n",
        "model.compile(loss = tf.keras.losses.Huber(),\n",
        "    optimizer = Adam(learning_rate=0.00001),\n",
        "    metrics=[tf.keras.metrics.RootMeanSquaredError()])"
      ],
      "metadata": {
        "id": "1bB_24DyRbRd"
      },
      "execution_count": null,
      "outputs": []
    },
    {
      "cell_type": "code",
      "source": [
        "model.summary()"
      ],
      "metadata": {
        "colab": {
          "base_uri": "https://localhost:8080/"
        },
        "id": "bUQuSWj0SL-F",
        "outputId": "8542a0b7-a7f4-4302-e4b3-2f6fd953e1b4"
      },
      "execution_count": null,
      "outputs": [
        {
          "output_type": "stream",
          "name": "stdout",
          "text": [
            "Model: \"model\"\n",
            "_________________________________________________________________\n",
            " Layer (type)                Output Shape              Param #   \n",
            "=================================================================\n",
            " input (InputLayer)          [(None, 2)]               0         \n",
            "                                                                 \n",
            " embedding (Embedding)       (None, 2, 100)            2692800   \n",
            "                                                                 \n",
            " flatten (Flatten)           (None, 200)               0         \n",
            "                                                                 \n",
            " dense (Dense)               (None, 64)                12864     \n",
            "                                                                 \n",
            " dense_1 (Dense)             (None, 32)                2080      \n",
            "                                                                 \n",
            " dropout (Dropout)           (None, 32)                0         \n",
            "                                                                 \n",
            " dense_2 (Dense)             (None, 256)               8448      \n",
            "                                                                 \n",
            " dropout_1 (Dropout)         (None, 256)               0         \n",
            "                                                                 \n",
            " dense_3 (Dense)             (None, 128)               32896     \n",
            "                                                                 \n",
            " dense_4 (Dense)             (None, 32)                4128      \n",
            "                                                                 \n",
            " dense_5 (Dense)             (None, 1)                 33        \n",
            "                                                                 \n",
            "=================================================================\n",
            "Total params: 2,753,249\n",
            "Trainable params: 2,753,249\n",
            "Non-trainable params: 0\n",
            "_________________________________________________________________\n"
          ]
        }
      ]
    },
    {
      "cell_type": "markdown",
      "source": [
        "Membagi dataset training dan testing"
      ],
      "metadata": {
        "id": "Knm1MpHCF0VQ"
      }
    },
    {
      "cell_type": "code",
      "source": [
        "X = df[['user','isbn']].values\n",
        "y = df['book_rating'].values\n",
        "\n",
        "X_train, X_val, y_train, y_val = train_test_split(X, y, test_size=0.2, random_state=42)\n"
      ],
      "metadata": {
        "id": "v4qbldEiSTFi"
      },
      "execution_count": null,
      "outputs": []
    },
    {
      "cell_type": "code",
      "source": [
        "from tensorflow.keras.callbacks import ModelCheckpoint\n",
        "# Define a callback to save the model with the lowest validation loss (MSE)\n",
        "checkpoint_callback = ModelCheckpoint('best_model.h5', monitor='val_loss', save_best_only=True)"
      ],
      "metadata": {
        "id": "rsFc3QXVcGv-"
      },
      "execution_count": null,
      "outputs": []
    },
    {
      "cell_type": "code",
      "source": [
        "History = model.fit(X_train, y_train, validation_data=(X_val, y_val), epochs=100, batch_size=32, callbacks=[checkpoint_callback])"
      ],
      "metadata": {
        "colab": {
          "base_uri": "https://localhost:8080/"
        },
        "id": "sab6itaDcc30",
        "outputId": "ab44d5a9-2b95-4bca-a1c2-c25a034ae7b5"
      },
      "execution_count": null,
      "outputs": [
        {
          "output_type": "stream",
          "name": "stdout",
          "text": [
            "Epoch 1/100\n",
            "500/500 [==============================] - 28s 52ms/step - loss: 7.0271 - root_mean_squared_error: 7.7409 - val_loss: 6.8815 - val_root_mean_squared_error: 7.6074\n",
            "Epoch 2/100\n",
            "500/500 [==============================] - 27s 54ms/step - loss: 6.3635 - root_mean_squared_error: 7.1088 - val_loss: 5.5188 - val_root_mean_squared_error: 6.2923\n",
            "Epoch 3/100\n",
            "500/500 [==============================] - 28s 57ms/step - loss: 3.4427 - root_mean_squared_error: 4.4701 - val_loss: 1.3938 - val_root_mean_squared_error: 2.1758\n",
            "Epoch 4/100\n",
            "500/500 [==============================] - 23s 47ms/step - loss: 1.2232 - root_mean_squared_error: 2.0471 - val_loss: 1.0889 - val_root_mean_squared_error: 1.8571\n",
            "Epoch 5/100\n",
            "500/500 [==============================] - 25s 50ms/step - loss: 1.1382 - root_mean_squared_error: 1.9566 - val_loss: 1.0632 - val_root_mean_squared_error: 1.8303\n",
            "Epoch 6/100\n",
            "500/500 [==============================] - 32s 64ms/step - loss: 1.0914 - root_mean_squared_error: 1.8938 - val_loss: 1.0523 - val_root_mean_squared_error: 1.8173\n",
            "Epoch 7/100\n",
            "500/500 [==============================] - 26s 52ms/step - loss: 1.0354 - root_mean_squared_error: 1.8304 - val_loss: 1.0412 - val_root_mean_squared_error: 1.8056\n",
            "Epoch 8/100\n",
            "500/500 [==============================] - 27s 55ms/step - loss: 0.9833 - root_mean_squared_error: 1.7701 - val_loss: 1.0315 - val_root_mean_squared_error: 1.7971\n",
            "Epoch 9/100\n",
            "500/500 [==============================] - 26s 53ms/step - loss: 0.9221 - root_mean_squared_error: 1.6979 - val_loss: 1.0191 - val_root_mean_squared_error: 1.7878\n",
            "Epoch 10/100\n",
            "500/500 [==============================] - 35s 70ms/step - loss: 0.8746 - root_mean_squared_error: 1.6379 - val_loss: 1.0271 - val_root_mean_squared_error: 1.7943\n",
            "Epoch 11/100\n",
            "500/500 [==============================] - 28s 56ms/step - loss: 0.8019 - root_mean_squared_error: 1.5515 - val_loss: 1.0179 - val_root_mean_squared_error: 1.7901\n",
            "Epoch 12/100\n",
            "500/500 [==============================] - 27s 54ms/step - loss: 0.7495 - root_mean_squared_error: 1.4837 - val_loss: 1.0238 - val_root_mean_squared_error: 1.7982\n",
            "Epoch 13/100\n",
            "500/500 [==============================] - 28s 56ms/step - loss: 0.6879 - root_mean_squared_error: 1.4052 - val_loss: 1.0260 - val_root_mean_squared_error: 1.8048\n",
            "Epoch 14/100\n",
            "500/500 [==============================] - 29s 58ms/step - loss: 0.6506 - root_mean_squared_error: 1.3574 - val_loss: 1.0299 - val_root_mean_squared_error: 1.8134\n",
            "Epoch 15/100\n",
            "500/500 [==============================] - 26s 52ms/step - loss: 0.5868 - root_mean_squared_error: 1.2718 - val_loss: 1.0300 - val_root_mean_squared_error: 1.8189\n",
            "Epoch 16/100\n",
            "500/500 [==============================] - 25s 50ms/step - loss: 0.5340 - root_mean_squared_error: 1.2005 - val_loss: 1.0419 - val_root_mean_squared_error: 1.8337\n",
            "Epoch 17/100\n",
            "500/500 [==============================] - 28s 55ms/step - loss: 0.4959 - root_mean_squared_error: 1.1445 - val_loss: 1.0469 - val_root_mean_squared_error: 1.8415\n",
            "Epoch 18/100\n",
            "500/500 [==============================] - 23s 46ms/step - loss: 0.4633 - root_mean_squared_error: 1.0979 - val_loss: 1.0684 - val_root_mean_squared_error: 1.8643\n",
            "Epoch 19/100\n",
            "500/500 [==============================] - 26s 51ms/step - loss: 0.4339 - root_mean_squared_error: 1.0570 - val_loss: 1.0741 - val_root_mean_squared_error: 1.8736\n",
            "Epoch 20/100\n",
            "500/500 [==============================] - 28s 56ms/step - loss: 0.3986 - root_mean_squared_error: 1.0018 - val_loss: 1.0681 - val_root_mean_squared_error: 1.8698\n",
            "Epoch 21/100\n",
            "500/500 [==============================] - 24s 48ms/step - loss: 0.3793 - root_mean_squared_error: 0.9727 - val_loss: 1.0676 - val_root_mean_squared_error: 1.8712\n",
            "Epoch 22/100\n",
            "500/500 [==============================] - 31s 62ms/step - loss: 0.3567 - root_mean_squared_error: 0.9395 - val_loss: 1.0885 - val_root_mean_squared_error: 1.8919\n",
            "Epoch 23/100\n",
            "500/500 [==============================] - 24s 49ms/step - loss: 0.3407 - root_mean_squared_error: 0.9134 - val_loss: 1.0894 - val_root_mean_squared_error: 1.8936\n",
            "Epoch 24/100\n",
            "500/500 [==============================] - 27s 53ms/step - loss: 0.3184 - root_mean_squared_error: 0.8780 - val_loss: 1.1016 - val_root_mean_squared_error: 1.9074\n",
            "Epoch 25/100\n",
            "500/500 [==============================] - 24s 49ms/step - loss: 0.3087 - root_mean_squared_error: 0.8568 - val_loss: 1.0923 - val_root_mean_squared_error: 1.8987\n",
            "Epoch 26/100\n",
            "500/500 [==============================] - 27s 55ms/step - loss: 0.2962 - root_mean_squared_error: 0.8386 - val_loss: 1.0949 - val_root_mean_squared_error: 1.9020\n",
            "Epoch 27/100\n",
            "500/500 [==============================] - 25s 50ms/step - loss: 0.2876 - root_mean_squared_error: 0.8249 - val_loss: 1.0983 - val_root_mean_squared_error: 1.9070\n",
            "Epoch 28/100\n",
            "500/500 [==============================] - 26s 51ms/step - loss: 0.2779 - root_mean_squared_error: 0.8099 - val_loss: 1.0955 - val_root_mean_squared_error: 1.9050\n",
            "Epoch 29/100\n",
            "500/500 [==============================] - 28s 55ms/step - loss: 0.2721 - root_mean_squared_error: 0.7998 - val_loss: 1.0973 - val_root_mean_squared_error: 1.9073\n",
            "Epoch 30/100\n",
            "500/500 [==============================] - 27s 55ms/step - loss: 0.2630 - root_mean_squared_error: 0.7863 - val_loss: 1.1045 - val_root_mean_squared_error: 1.9144\n",
            "Epoch 31/100\n",
            "500/500 [==============================] - 25s 50ms/step - loss: 0.2545 - root_mean_squared_error: 0.7723 - val_loss: 1.1147 - val_root_mean_squared_error: 1.9252\n",
            "Epoch 32/100\n",
            "500/500 [==============================] - 29s 59ms/step - loss: 0.2510 - root_mean_squared_error: 0.7644 - val_loss: 1.1123 - val_root_mean_squared_error: 1.9232\n",
            "Epoch 33/100\n",
            "500/500 [==============================] - 27s 53ms/step - loss: 0.2440 - root_mean_squared_error: 0.7532 - val_loss: 1.1098 - val_root_mean_squared_error: 1.9218\n",
            "Epoch 34/100\n",
            "500/500 [==============================] - 27s 54ms/step - loss: 0.2375 - root_mean_squared_error: 0.7422 - val_loss: 1.1089 - val_root_mean_squared_error: 1.9218\n",
            "Epoch 35/100\n",
            "500/500 [==============================] - 26s 52ms/step - loss: 0.2311 - root_mean_squared_error: 0.7294 - val_loss: 1.1211 - val_root_mean_squared_error: 1.9336\n",
            "Epoch 36/100\n",
            "500/500 [==============================] - 26s 52ms/step - loss: 0.2318 - root_mean_squared_error: 0.7302 - val_loss: 1.1149 - val_root_mean_squared_error: 1.9280\n",
            "Epoch 37/100\n",
            "500/500 [==============================] - 26s 52ms/step - loss: 0.2283 - root_mean_squared_error: 0.7246 - val_loss: 1.1143 - val_root_mean_squared_error: 1.9274\n",
            "Epoch 38/100\n",
            "500/500 [==============================] - 31s 62ms/step - loss: 0.2214 - root_mean_squared_error: 0.7128 - val_loss: 1.1265 - val_root_mean_squared_error: 1.9411\n",
            "Epoch 39/100\n",
            "500/500 [==============================] - 28s 56ms/step - loss: 0.2187 - root_mean_squared_error: 0.7082 - val_loss: 1.1125 - val_root_mean_squared_error: 1.9275\n",
            "Epoch 40/100\n",
            "500/500 [==============================] - 28s 56ms/step - loss: 0.2131 - root_mean_squared_error: 0.6979 - val_loss: 1.1295 - val_root_mean_squared_error: 1.9439\n",
            "Epoch 41/100\n",
            "500/500 [==============================] - 28s 56ms/step - loss: 0.2123 - root_mean_squared_error: 0.6955 - val_loss: 1.1258 - val_root_mean_squared_error: 1.9401\n",
            "Epoch 42/100\n",
            "500/500 [==============================] - 29s 57ms/step - loss: 0.2073 - root_mean_squared_error: 0.6865 - val_loss: 1.1355 - val_root_mean_squared_error: 1.9495\n",
            "Epoch 43/100\n",
            "500/500 [==============================] - 28s 57ms/step - loss: 0.2047 - root_mean_squared_error: 0.6818 - val_loss: 1.1288 - val_root_mean_squared_error: 1.9445\n",
            "Epoch 44/100\n",
            "500/500 [==============================] - 29s 58ms/step - loss: 0.2037 - root_mean_squared_error: 0.6794 - val_loss: 1.1262 - val_root_mean_squared_error: 1.9416\n",
            "Epoch 45/100\n",
            "500/500 [==============================] - 27s 54ms/step - loss: 0.1973 - root_mean_squared_error: 0.6672 - val_loss: 1.1272 - val_root_mean_squared_error: 1.9436\n",
            "Epoch 46/100\n",
            "500/500 [==============================] - 25s 50ms/step - loss: 0.1979 - root_mean_squared_error: 0.6691 - val_loss: 1.1209 - val_root_mean_squared_error: 1.9383\n",
            "Epoch 47/100\n",
            "500/500 [==============================] - 27s 54ms/step - loss: 0.1911 - root_mean_squared_error: 0.6563 - val_loss: 1.1183 - val_root_mean_squared_error: 1.9347\n",
            "Epoch 48/100\n",
            "500/500 [==============================] - 28s 56ms/step - loss: 0.1872 - root_mean_squared_error: 0.6470 - val_loss: 1.1273 - val_root_mean_squared_error: 1.9440\n",
            "Epoch 49/100\n",
            "500/500 [==============================] - 27s 54ms/step - loss: 0.1897 - root_mean_squared_error: 0.6535 - val_loss: 1.1242 - val_root_mean_squared_error: 1.9395\n",
            "Epoch 50/100\n",
            "500/500 [==============================] - 28s 57ms/step - loss: 0.1849 - root_mean_squared_error: 0.6422 - val_loss: 1.1267 - val_root_mean_squared_error: 1.9441\n",
            "Epoch 51/100\n",
            "500/500 [==============================] - 28s 55ms/step - loss: 0.1820 - root_mean_squared_error: 0.6365 - val_loss: 1.1264 - val_root_mean_squared_error: 1.9425\n",
            "Epoch 52/100\n",
            "500/500 [==============================] - 29s 57ms/step - loss: 0.1797 - root_mean_squared_error: 0.6325 - val_loss: 1.1221 - val_root_mean_squared_error: 1.9393\n",
            "Epoch 53/100\n",
            "500/500 [==============================] - 26s 53ms/step - loss: 0.1768 - root_mean_squared_error: 0.6267 - val_loss: 1.1268 - val_root_mean_squared_error: 1.9432\n",
            "Epoch 54/100\n",
            "500/500 [==============================] - 28s 57ms/step - loss: 0.1774 - root_mean_squared_error: 0.6258 - val_loss: 1.1368 - val_root_mean_squared_error: 1.9537\n",
            "Epoch 55/100\n",
            "500/500 [==============================] - 25s 51ms/step - loss: 0.1714 - root_mean_squared_error: 0.6152 - val_loss: 1.1289 - val_root_mean_squared_error: 1.9461\n",
            "Epoch 56/100\n",
            "500/500 [==============================] - 28s 56ms/step - loss: 0.1699 - root_mean_squared_error: 0.6119 - val_loss: 1.1257 - val_root_mean_squared_error: 1.9415\n",
            "Epoch 57/100\n",
            "500/500 [==============================] - 27s 55ms/step - loss: 0.1680 - root_mean_squared_error: 0.6071 - val_loss: 1.1354 - val_root_mean_squared_error: 1.9519\n",
            "Epoch 58/100\n",
            "500/500 [==============================] - 28s 56ms/step - loss: 0.1666 - root_mean_squared_error: 0.6047 - val_loss: 1.1291 - val_root_mean_squared_error: 1.9450\n",
            "Epoch 59/100\n",
            "500/500 [==============================] - 27s 53ms/step - loss: 0.1641 - root_mean_squared_error: 0.5995 - val_loss: 1.1405 - val_root_mean_squared_error: 1.9560\n",
            "Epoch 60/100\n",
            "500/500 [==============================] - 27s 54ms/step - loss: 0.1581 - root_mean_squared_error: 0.5888 - val_loss: 1.1371 - val_root_mean_squared_error: 1.9521\n",
            "Epoch 61/100\n",
            "500/500 [==============================] - 27s 54ms/step - loss: 0.1607 - root_mean_squared_error: 0.5927 - val_loss: 1.1303 - val_root_mean_squared_error: 1.9444\n",
            "Epoch 62/100\n",
            "500/500 [==============================] - 29s 59ms/step - loss: 0.1585 - root_mean_squared_error: 0.5897 - val_loss: 1.1297 - val_root_mean_squared_error: 1.9459\n",
            "Epoch 63/100\n",
            "500/500 [==============================] - 26s 52ms/step - loss: 0.1547 - root_mean_squared_error: 0.5808 - val_loss: 1.1315 - val_root_mean_squared_error: 1.9460\n",
            "Epoch 64/100\n",
            "500/500 [==============================] - 26s 53ms/step - loss: 0.1553 - root_mean_squared_error: 0.5809 - val_loss: 1.1314 - val_root_mean_squared_error: 1.9453\n",
            "Epoch 65/100\n",
            "500/500 [==============================] - 26s 53ms/step - loss: 0.1505 - root_mean_squared_error: 0.5734 - val_loss: 1.1245 - val_root_mean_squared_error: 1.9392\n",
            "Epoch 66/100\n",
            "500/500 [==============================] - 25s 50ms/step - loss: 0.1512 - root_mean_squared_error: 0.5710 - val_loss: 1.1331 - val_root_mean_squared_error: 1.9494\n",
            "Epoch 67/100\n",
            "500/500 [==============================] - 26s 53ms/step - loss: 0.1478 - root_mean_squared_error: 0.5654 - val_loss: 1.1342 - val_root_mean_squared_error: 1.9470\n",
            "Epoch 68/100\n",
            "500/500 [==============================] - 27s 54ms/step - loss: 0.1474 - root_mean_squared_error: 0.5646 - val_loss: 1.1290 - val_root_mean_squared_error: 1.9443\n",
            "Epoch 69/100\n",
            "500/500 [==============================] - 25s 51ms/step - loss: 0.1466 - root_mean_squared_error: 0.5649 - val_loss: 1.1392 - val_root_mean_squared_error: 1.9526\n",
            "Epoch 70/100\n",
            "500/500 [==============================] - 27s 54ms/step - loss: 0.1449 - root_mean_squared_error: 0.5597 - val_loss: 1.1444 - val_root_mean_squared_error: 1.9569\n",
            "Epoch 71/100\n",
            "500/500 [==============================] - 29s 57ms/step - loss: 0.1441 - root_mean_squared_error: 0.5592 - val_loss: 1.1431 - val_root_mean_squared_error: 1.9563\n",
            "Epoch 72/100\n",
            "500/500 [==============================] - 26s 52ms/step - loss: 0.1412 - root_mean_squared_error: 0.5513 - val_loss: 1.1479 - val_root_mean_squared_error: 1.9613\n",
            "Epoch 73/100\n",
            "500/500 [==============================] - 27s 55ms/step - loss: 0.1422 - root_mean_squared_error: 0.5537 - val_loss: 1.1390 - val_root_mean_squared_error: 1.9512\n",
            "Epoch 74/100\n",
            "500/500 [==============================] - 26s 51ms/step - loss: 0.1408 - root_mean_squared_error: 0.5531 - val_loss: 1.1369 - val_root_mean_squared_error: 1.9498\n",
            "Epoch 75/100\n",
            "500/500 [==============================] - 25s 51ms/step - loss: 0.1399 - root_mean_squared_error: 0.5498 - val_loss: 1.1323 - val_root_mean_squared_error: 1.9441\n",
            "Epoch 76/100\n",
            "500/500 [==============================] - 27s 53ms/step - loss: 0.1337 - root_mean_squared_error: 0.5345 - val_loss: 1.1392 - val_root_mean_squared_error: 1.9509\n",
            "Epoch 77/100\n",
            "500/500 [==============================] - 28s 56ms/step - loss: 0.1343 - root_mean_squared_error: 0.5378 - val_loss: 1.1370 - val_root_mean_squared_error: 1.9485\n",
            "Epoch 78/100\n",
            "500/500 [==============================] - 29s 58ms/step - loss: 0.1340 - root_mean_squared_error: 0.5354 - val_loss: 1.1354 - val_root_mean_squared_error: 1.9459\n",
            "Epoch 79/100\n",
            "500/500 [==============================] - 29s 58ms/step - loss: 0.1358 - root_mean_squared_error: 0.5398 - val_loss: 1.1414 - val_root_mean_squared_error: 1.9516\n",
            "Epoch 80/100\n",
            "500/500 [==============================] - 27s 54ms/step - loss: 0.1324 - root_mean_squared_error: 0.5338 - val_loss: 1.1349 - val_root_mean_squared_error: 1.9451\n",
            "Epoch 81/100\n",
            "500/500 [==============================] - 26s 53ms/step - loss: 0.1310 - root_mean_squared_error: 0.5310 - val_loss: 1.1386 - val_root_mean_squared_error: 1.9485\n",
            "Epoch 82/100\n",
            "500/500 [==============================] - 28s 55ms/step - loss: 0.1305 - root_mean_squared_error: 0.5284 - val_loss: 1.1492 - val_root_mean_squared_error: 1.9578\n",
            "Epoch 83/100\n",
            "500/500 [==============================] - 26s 52ms/step - loss: 0.1311 - root_mean_squared_error: 0.5299 - val_loss: 1.1378 - val_root_mean_squared_error: 1.9470\n",
            "Epoch 84/100\n",
            "500/500 [==============================] - 28s 57ms/step - loss: 0.1266 - root_mean_squared_error: 0.5198 - val_loss: 1.1450 - val_root_mean_squared_error: 1.9530\n",
            "Epoch 85/100\n",
            "500/500 [==============================] - 25s 51ms/step - loss: 0.1290 - root_mean_squared_error: 0.5242 - val_loss: 1.1365 - val_root_mean_squared_error: 1.9442\n",
            "Epoch 86/100\n",
            "500/500 [==============================] - 26s 51ms/step - loss: 0.1272 - root_mean_squared_error: 0.5212 - val_loss: 1.1493 - val_root_mean_squared_error: 1.9567\n",
            "Epoch 87/100\n",
            "500/500 [==============================] - 26s 53ms/step - loss: 0.1221 - root_mean_squared_error: 0.5113 - val_loss: 1.1488 - val_root_mean_squared_error: 1.9556\n",
            "Epoch 88/100\n",
            "500/500 [==============================] - 27s 53ms/step - loss: 0.1235 - root_mean_squared_error: 0.5117 - val_loss: 1.1448 - val_root_mean_squared_error: 1.9525\n",
            "Epoch 89/100\n",
            "500/500 [==============================] - 27s 55ms/step - loss: 0.1209 - root_mean_squared_error: 0.5073 - val_loss: 1.1345 - val_root_mean_squared_error: 1.9429\n",
            "Epoch 90/100\n",
            "500/500 [==============================] - 26s 52ms/step - loss: 0.1189 - root_mean_squared_error: 0.5025 - val_loss: 1.1523 - val_root_mean_squared_error: 1.9588\n",
            "Epoch 91/100\n",
            "500/500 [==============================] - 27s 53ms/step - loss: 0.1186 - root_mean_squared_error: 0.5024 - val_loss: 1.1538 - val_root_mean_squared_error: 1.9603\n",
            "Epoch 92/100\n",
            "500/500 [==============================] - 26s 52ms/step - loss: 0.1193 - root_mean_squared_error: 0.5048 - val_loss: 1.1601 - val_root_mean_squared_error: 1.9665\n",
            "Epoch 93/100\n",
            "500/500 [==============================] - 25s 50ms/step - loss: 0.1164 - root_mean_squared_error: 0.4967 - val_loss: 1.1548 - val_root_mean_squared_error: 1.9611\n",
            "Epoch 94/100\n",
            "500/500 [==============================] - 28s 57ms/step - loss: 0.1166 - root_mean_squared_error: 0.5014 - val_loss: 1.1538 - val_root_mean_squared_error: 1.9595\n",
            "Epoch 95/100\n",
            "500/500 [==============================] - 28s 56ms/step - loss: 0.1129 - root_mean_squared_error: 0.4903 - val_loss: 1.1525 - val_root_mean_squared_error: 1.9576\n",
            "Epoch 96/100\n",
            "500/500 [==============================] - 27s 55ms/step - loss: 0.1117 - root_mean_squared_error: 0.4857 - val_loss: 1.1536 - val_root_mean_squared_error: 1.9591\n",
            "Epoch 97/100\n",
            "500/500 [==============================] - 27s 54ms/step - loss: 0.1150 - root_mean_squared_error: 0.4933 - val_loss: 1.1598 - val_root_mean_squared_error: 1.9642\n",
            "Epoch 98/100\n",
            "500/500 [==============================] - 25s 51ms/step - loss: 0.1103 - root_mean_squared_error: 0.4828 - val_loss: 1.1729 - val_root_mean_squared_error: 1.9779\n",
            "Epoch 99/100\n",
            "500/500 [==============================] - 25s 49ms/step - loss: 0.1124 - root_mean_squared_error: 0.4862 - val_loss: 1.1655 - val_root_mean_squared_error: 1.9704\n",
            "Epoch 100/100\n",
            "500/500 [==============================] - 29s 57ms/step - loss: 0.1117 - root_mean_squared_error: 0.4874 - val_loss: 1.1601 - val_root_mean_squared_error: 1.9641\n"
          ]
        }
      ]
    },
    {
      "cell_type": "markdown",
      "source": [
        "# Evaluation"
      ],
      "metadata": {
        "id": "ALtFeDndSijA"
      }
    },
    {
      "cell_type": "code",
      "source": [
        "import matplotlib.pyplot as plt\n",
        "plt.plot(History.history['root_mean_squared_error'])\n",
        "plt.plot(History.history['val_root_mean_squared_error'])\n",
        "plt.title('model_metrics')\n",
        "plt.ylabel('root_mean_squared_error')\n",
        "plt.xlabel('epoch')\n",
        "plt.legend(['train', 'test'], loc='upper left')\n",
        "plt.show()"
      ],
      "metadata": {
        "id": "_Meum8WZy03g",
        "colab": {
          "base_uri": "https://localhost:8080/",
          "height": 472
        },
        "outputId": "1408e13d-cff2-4a30-a40e-22ce8d75cf89"
      },
      "execution_count": null,
      "outputs": [
        {
          "output_type": "display_data",
          "data": {
            "text/plain": [
              "<Figure size 640x480 with 1 Axes>"
            ],
            "image/png": "[encoded data removed]"
          },
          "metadata": {}
        }
      ]
    },
    {
      "cell_type": "markdown",
      "source": [
        "Selama proses learning performa model semakin membaik dan juga RMSE yang dihasilkan juga sangat kecil"
      ],
      "metadata": {
        "id": "qKHlZOuyF6aq"
      }
    },
    {
      "cell_type": "code",
      "source": [
        "# Load the best model\n",
        "best_model = tf.keras.models.load_model('best_model.h5')\n",
        "\n",
        "# Evaluate the best model\n",
        "loss, rmse = best_model.evaluate(X_val, y_val)\n",
        "print('Loss:', loss)\n",
        "print('RMSE:', rmse)"
      ],
      "metadata": {
        "colab": {
          "base_uri": "https://localhost:8080/"
        },
        "id": "ko3-5WKmQ5KT",
        "outputId": "8a178f7d-86dc-4372-f32b-449fc24bb9d1"
      },
      "execution_count": null,
      "outputs": [
        {
          "output_type": "stream",
          "name": "stdout",
          "text": [
            "125/125 [==============================] - 1s 7ms/step - loss: 1.0179 - root_mean_squared_error: 1.7901\n",
            "Loss: 1.017869234085083\n",
            "RMSE: 1.7900846004486084\n"
          ]
        }
      ]
    },
    {
      "cell_type": "markdown",
      "source": [
        "Melakukan testing sistem rekomendasi yang sudah di terapkan"
      ],
      "metadata": {
        "id": "_9lmgWh5GO4e"
      }
    },
    {
      "cell_type": "code",
      "source": [
        "book_df = book[['ISBN','Book-Title','Book-Author']]\n",
        "book_df.rename(columns={\"Book-Title\" : \"book_title\", \"Book-Author\" : \"book_author\"}, inplace=True)\n",
        "df = rating_clean.sample(n=20000, random_state=42)\n",
        "\n",
        "# Mengambil sample user\n",
        "user_id = df.user_id.sample(1).iloc[0]\n",
        "book_read_by_user = df[df.user_id == user_id]\n",
        "\n",
        "# Operator bitwise (~), bisa diketahui di sini https://docs.python.org/3/reference/expressions.html\n",
        "book_not_read = book_df[~book_df['ISBN'].isin(book_read_by_user.ISBN.values)]['ISBN']\n",
        "book_not_read = list(\n",
        "    set(book_not_read)\n",
        "    .intersection(set(books_to_books_encoded.keys()))\n",
        ")\n",
        "\n",
        "book_not_read = [[books_to_books_encoded.get(x)] for x in book_not_read]\n",
        "user_encoder = user_to_user_encoded.get(user_id)\n",
        "user_book_array = np.hstack(\n",
        "    ([[user_encoder]] * len(book_not_read), book_not_read)\n",
        ")"
      ],
      "metadata": {
        "id": "z8_jDmjMq8gj",
        "colab": {
          "base_uri": "https://localhost:8080/"
        },
        "outputId": "4a31bd54-0a3d-429b-cca6-a7fecdfddc56"
      },
      "execution_count": null,
      "outputs": [
        {
          "output_type": "stream",
          "name": "stderr",
          "text": [
            "<ipython-input-40-1d123ea9ef42>:2: SettingWithCopyWarning: \n",
            "A value is trying to be set on a copy of a slice from a DataFrame\n",
            "\n",
            "See the caveats in the documentation: https://pandas.pydata.org/pandas-docs/stable/user_guide/indexing.html#returning-a-view-versus-a-copy\n",
            "  book_df.rename(columns={\"Book-Title\" : \"book_title\", \"Book-Author\" : \"book_author\"}, inplace=True)\n"
          ]
        }
      ]
    },
    {
      "cell_type": "code",
      "source": [
        "ratings = model.predict(user_book_array).flatten()\n",
        "\n",
        "top_ratings_indices = ratings.argsort()[-10:][::-1]\n",
        "recommended_book_ids = [\n",
        "    books_encoded_to_books.get(book_not_read[x][0]) for x in top_ratings_indices\n",
        "]\n",
        "\n",
        "print('Showing recommendations for users: {}'.format(user_id))\n",
        "print('===' * 9)\n",
        "print('Book with high ratings from user')\n",
        "print('----' * 8)\n",
        "\n",
        "top_book_user = (\n",
        "    book_read_by_user.sort_values(\n",
        "        by = 'book_rating',\n",
        "        ascending=False\n",
        "    )\n",
        "    .head(5)\n",
        "    .ISBN.values\n",
        ")\n",
        "\n",
        "book_df_rows = book_df[book_df['ISBN'].isin(top_book_user)]\n",
        "for row in book_df_rows.itertuples():\n",
        "    print(row.book_title, 'By', row.book_author)\n",
        "\n",
        "print('----' * 8)\n",
        "print('Top 10 book recommendation')\n",
        "print('----' * 8)\n",
        "\n",
        "reccomend_book = book_df[book_df['ISBN'].isin(recommended_book_ids)]\n",
        "for row in reccomend_book.itertuples():\n",
        "    print(row.book_title, 'By', row.book_author)"
      ],
      "metadata": {
        "id": "AMQ3cKzVsnLl",
        "colab": {
          "base_uri": "https://localhost:8080/"
        },
        "outputId": "c1658998-6088-4d73-b966-5d8e425ff251"
      },
      "execution_count": null,
      "outputs": [
        {
          "output_type": "stream",
          "name": "stdout",
          "text": [
            "431/431 [==============================] - 1s 1ms/step\n",
            "Showing recommendations for users: 98391\n",
            "===========================\n",
            "Book with high ratings from user\n",
            "--------------------------------\n",
            "The Madman's Tale (Katzenbach, John) By JOHN KATZENBACH\n",
            "Bury the Lead (Today Show Book Club #24) By David Rosenfelt\n",
            "In the Company of Soldiers : A Chronicle of Combat By Rick Atkinson\n",
            "Unleashed (Futuristic Romance) By C. J. Barry\n",
            "Facade By Patricia A. Rasey\n",
            "--------------------------------\n",
            "Top 10 book recommendation\n",
            "--------------------------------\n",
            "Pay It Forward: A Novel By Catherine Ryan Hyde\n",
            "Last Honest Woman By Nora Roberts\n",
            "Stuart Little By E.B. White\n",
            "King Lear (Shakespeare Made Easy Series) By Alan Durband\n",
            "The Chronicles of Chrestomanci, Volume 1: Charmed Life / The Lives of Christopher Chant By Diana Wynne Jones\n",
            "Once upon a Dream By Nora Roberts\n",
            "Pennsylvania Dutch Cooking : A Mennonite Community Cookbook By MARY E. SHOWALTER\n",
            "Tempting Fate #13 (Language of Love, No. 13) By Nora Roberts\n",
            "The Woman Who Wouldn't Talk By Susan McDougal\n",
            "Who's That Stepping on Plymouth Rock By Jean Fritz\n"
          ]
        }
      ]
    },
    {
      "cell_type": "markdown",
      "source": [
        "Model berhasil memberikan rekomendasi kepada user"
      ],
      "metadata": {
        "id": "0mT5a8bqGnRX"
      }
    },
    {
      "cell_type": "code",
      "source": [],
      "metadata": {
        "id": "wimjZsa0Gp8v"
      },
      "execution_count": null,
      "outputs": []
    }
  ]
}